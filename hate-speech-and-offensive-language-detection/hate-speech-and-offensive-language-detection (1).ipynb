{
 "cells": [
  {
   "cell_type": "code",
   "execution_count": 1,
   "id": "17ceed80",
   "metadata": {
    "_cell_guid": "b1076dfc-b9ad-4769-8c92-a6c4dae69d19",
    "_uuid": "8f2839f25d086af736a60e9eeb907d3b93b6e0e5",
    "execution": {
     "iopub.execute_input": "2024-12-22T22:08:25.594140Z",
     "iopub.status.busy": "2024-12-22T22:08:25.593824Z",
     "iopub.status.idle": "2024-12-22T22:08:26.298020Z",
     "shell.execute_reply": "2024-12-22T22:08:26.297040Z"
    },
    "papermill": {
     "duration": 0.711726,
     "end_time": "2024-12-22T22:08:26.299982",
     "exception": false,
     "start_time": "2024-12-22T22:08:25.588256",
     "status": "completed"
    },
    "tags": []
   },
   "outputs": [
    {
     "name": "stdout",
     "output_type": "stream",
     "text": [
      "/kaggle/input/hate-speech-and-offensive-language-detection/train.csv\n"
     ]
    }
   ],
   "source": [
    "# This Python 3 environment comes with many helpful analytics libraries installed\n",
    "# It is defined by the kaggle/python Docker image: https://github.com/kaggle/docker-python\n",
    "# For example, here's several helpful packages to load\n",
    "\n",
    "import numpy as np # linear algebra\n",
    "import pandas as pd # data processing, CSV file I/O (e.g. pd.read_csv)\n",
    "\n",
    "# Input data files are available in the read-only \"../input/\" directory\n",
    "# For example, running this (by clicking run or pressing Shift+Enter) will list all files under the input directory\n",
    "\n",
    "import os\n",
    "for dirname, _, filenames in os.walk('/kaggle/input'):\n",
    "    for filename in filenames:\n",
    "        print(os.path.join(dirname, filename))\n",
    "\n",
    "# You can write up to 20GB to the current directory (/kaggle/working/) that gets preserved as output when you create a version using \"Save & Run All\" \n",
    "# You can also write temporary files to /kaggle/temp/, but they won't be saved outside of the current session"
   ]
  },
  {
   "cell_type": "markdown",
   "id": "fddd2db2",
   "metadata": {
    "papermill": {
     "duration": 0.003903,
     "end_time": "2024-12-22T22:08:26.308219",
     "exception": false,
     "start_time": "2024-12-22T22:08:26.304316",
     "status": "completed"
    },
    "tags": []
   },
   "source": [
    "# Steps:\n",
    "1) preprocessing\n",
    "2) splitting\n",
    "3) tokenize & padding\n",
    "4) Create model & train\n",
    "5) evaluate\n",
    "\n",
    "# Preprocessing (cleaning the datasets):\n",
    "\n",
    "1) remove html entity\n",
    "2) change user tags (@xxx -> user)\n",
    "3) remove urls\n",
    "4) remove unnecessary symbol ('', !, \", ') -> cause a lot of noise in the dataset\n",
    "5) remove stopwords"
   ]
  },
  {
   "cell_type": "markdown",
   "id": "cce6793a",
   "metadata": {
    "papermill": {
     "duration": 0.003609,
     "end_time": "2024-12-22T22:08:26.315783",
     "exception": false,
     "start_time": "2024-12-22T22:08:26.312174",
     "status": "completed"
    },
    "tags": []
   },
   "source": [
    "# 1| Import libraries"
   ]
  },
  {
   "cell_type": "code",
   "execution_count": 2,
   "id": "bf725783",
   "metadata": {
    "execution": {
     "iopub.execute_input": "2024-12-22T22:08:26.324928Z",
     "iopub.status.busy": "2024-12-22T22:08:26.324267Z",
     "iopub.status.idle": "2024-12-22T22:08:38.206394Z",
     "shell.execute_reply": "2024-12-22T22:08:38.205427Z"
    },
    "papermill": {
     "duration": 11.888993,
     "end_time": "2024-12-22T22:08:38.208469",
     "exception": false,
     "start_time": "2024-12-22T22:08:26.319476",
     "status": "completed"
    },
    "tags": []
   },
   "outputs": [
    {
     "name": "stderr",
     "output_type": "stream",
     "text": [
      "/opt/conda/lib/python3.10/site-packages/scipy/__init__.py:146: UserWarning: A NumPy version >=1.16.5 and <1.23.0 is required for this version of SciPy (detected version 1.24.3\n",
      "  warnings.warn(f\"A NumPy version >={np_minversion} and <{np_maxversion}\"\n"
     ]
    }
   ],
   "source": [
    "import pandas as pd # read the csv\n",
    "import re # regex to detect username, url, html entity \n",
    "import nltk # to use word tokenize (split the sentence into words)\n",
    "from nltk.corpus import stopwords # to remove the stopwords\n",
    "from sklearn.model_selection import train_test_split\n",
    "from tensorflow.keras.preprocessing.text import Tokenizer\n",
    "from tensorflow.keras.preprocessing.sequence import pad_sequences\n",
    "from tensorflow.keras.models import Sequential\n",
    "from tensorflow.keras.layers import Embedding, LSTM, Dense, Dropout\n",
    "\n",
    "from keras.utils import to_categorical\n",
    "from keras import backend as K"
   ]
  },
  {
   "cell_type": "markdown",
   "id": "547fcd28",
   "metadata": {
    "papermill": {
     "duration": 0.003835,
     "end_time": "2024-12-22T22:08:38.216545",
     "exception": false,
     "start_time": "2024-12-22T22:08:38.212710",
     "status": "completed"
    },
    "tags": []
   },
   "source": [
    "# 2| read the data"
   ]
  },
  {
   "cell_type": "code",
   "execution_count": 3,
   "id": "ee930107",
   "metadata": {
    "execution": {
     "iopub.execute_input": "2024-12-22T22:08:38.226159Z",
     "iopub.status.busy": "2024-12-22T22:08:38.225186Z",
     "iopub.status.idle": "2024-12-22T22:08:38.338246Z",
     "shell.execute_reply": "2024-12-22T22:08:38.337270Z"
    },
    "papermill": {
     "duration": 0.119705,
     "end_time": "2024-12-22T22:08:38.340063",
     "exception": false,
     "start_time": "2024-12-22T22:08:38.220358",
     "status": "completed"
    },
    "tags": []
   },
   "outputs": [
    {
     "data": {
      "text/html": [
       "<div>\n",
       "<style scoped>\n",
       "    .dataframe tbody tr th:only-of-type {\n",
       "        vertical-align: middle;\n",
       "    }\n",
       "\n",
       "    .dataframe tbody tr th {\n",
       "        vertical-align: top;\n",
       "    }\n",
       "\n",
       "    .dataframe thead th {\n",
       "        text-align: right;\n",
       "    }\n",
       "</style>\n",
       "<table border=\"1\" class=\"dataframe\">\n",
       "  <thead>\n",
       "    <tr style=\"text-align: right;\">\n",
       "      <th></th>\n",
       "      <th>count</th>\n",
       "      <th>hate_speech_count</th>\n",
       "      <th>offensive_language_count</th>\n",
       "      <th>neither_count</th>\n",
       "      <th>class</th>\n",
       "      <th>tweet</th>\n",
       "    </tr>\n",
       "  </thead>\n",
       "  <tbody>\n",
       "    <tr>\n",
       "      <th>0</th>\n",
       "      <td>3</td>\n",
       "      <td>0</td>\n",
       "      <td>0</td>\n",
       "      <td>3</td>\n",
       "      <td>2</td>\n",
       "      <td>!!! RT @mayasolovely: As a woman you shouldn't...</td>\n",
       "    </tr>\n",
       "    <tr>\n",
       "      <th>1</th>\n",
       "      <td>3</td>\n",
       "      <td>0</td>\n",
       "      <td>3</td>\n",
       "      <td>0</td>\n",
       "      <td>1</td>\n",
       "      <td>!!!!! RT @mleew17: boy dats cold...tyga dwn ba...</td>\n",
       "    </tr>\n",
       "    <tr>\n",
       "      <th>2</th>\n",
       "      <td>3</td>\n",
       "      <td>0</td>\n",
       "      <td>3</td>\n",
       "      <td>0</td>\n",
       "      <td>1</td>\n",
       "      <td>!!!!!!! RT @UrKindOfBrand Dawg!!!! RT @80sbaby...</td>\n",
       "    </tr>\n",
       "    <tr>\n",
       "      <th>3</th>\n",
       "      <td>3</td>\n",
       "      <td>0</td>\n",
       "      <td>2</td>\n",
       "      <td>1</td>\n",
       "      <td>1</td>\n",
       "      <td>!!!!!!!!! RT @C_G_Anderson: @viva_based she lo...</td>\n",
       "    </tr>\n",
       "    <tr>\n",
       "      <th>4</th>\n",
       "      <td>6</td>\n",
       "      <td>0</td>\n",
       "      <td>6</td>\n",
       "      <td>0</td>\n",
       "      <td>1</td>\n",
       "      <td>!!!!!!!!!!!!! RT @ShenikaRoberts: The shit you...</td>\n",
       "    </tr>\n",
       "  </tbody>\n",
       "</table>\n",
       "</div>"
      ],
      "text/plain": [
       "   count  hate_speech_count  offensive_language_count  neither_count  class  \\\n",
       "0      3                  0                         0              3      2   \n",
       "1      3                  0                         3              0      1   \n",
       "2      3                  0                         3              0      1   \n",
       "3      3                  0                         2              1      1   \n",
       "4      6                  0                         6              0      1   \n",
       "\n",
       "                                               tweet  \n",
       "0  !!! RT @mayasolovely: As a woman you shouldn't...  \n",
       "1  !!!!! RT @mleew17: boy dats cold...tyga dwn ba...  \n",
       "2  !!!!!!! RT @UrKindOfBrand Dawg!!!! RT @80sbaby...  \n",
       "3  !!!!!!!!! RT @C_G_Anderson: @viva_based she lo...  \n",
       "4  !!!!!!!!!!!!! RT @ShenikaRoberts: The shit you...  "
      ]
     },
     "execution_count": 3,
     "metadata": {},
     "output_type": "execute_result"
    }
   ],
   "source": [
    "data = pd.read_csv(\"/kaggle/input/hate-speech-and-offensive-language-detection/train.csv\")\n",
    "\n",
    "data.head()"
   ]
  },
  {
   "cell_type": "markdown",
   "id": "7963c089",
   "metadata": {
    "papermill": {
     "duration": 0.003911,
     "end_time": "2024-12-22T22:08:38.348298",
     "exception": false,
     "start_time": "2024-12-22T22:08:38.344387",
     "status": "completed"
    },
    "tags": []
   },
   "source": [
    "### class = 0 means hate speech, class = 1 means offensive languge and class = 0 mean neither"
   ]
  },
  {
   "cell_type": "code",
   "execution_count": 4,
   "id": "8892997c",
   "metadata": {
    "execution": {
     "iopub.execute_input": "2024-12-22T22:08:38.357352Z",
     "iopub.status.busy": "2024-12-22T22:08:38.357070Z",
     "iopub.status.idle": "2024-12-22T22:08:38.365586Z",
     "shell.execute_reply": "2024-12-22T22:08:38.364723Z"
    },
    "papermill": {
     "duration": 0.015074,
     "end_time": "2024-12-22T22:08:38.367299",
     "exception": false,
     "start_time": "2024-12-22T22:08:38.352225",
     "status": "completed"
    },
    "tags": []
   },
   "outputs": [
    {
     "name": "stdout",
     "output_type": "stream",
     "text": [
      "num of tweets: (24783, 6)\n"
     ]
    }
   ],
   "source": [
    "# dataset shape to know how many tweets in the datasets\n",
    "print(f\"num of tweets: {data.shape}\")\n",
    "\n",
    "# extract the text and labels\n",
    "tweet = list(data['tweet'])\n",
    "labels = list(data['class'])"
   ]
  },
  {
   "cell_type": "markdown",
   "id": "47d67d4b",
   "metadata": {
    "papermill": {
     "duration": 0.003931,
     "end_time": "2024-12-22T22:08:38.375508",
     "exception": false,
     "start_time": "2024-12-22T22:08:38.371577",
     "status": "completed"
    },
    "tags": []
   },
   "source": [
    "# 3| functions to clean the data"
   ]
  },
  {
   "cell_type": "code",
   "execution_count": 5,
   "id": "39bbc5a5",
   "metadata": {
    "execution": {
     "iopub.execute_input": "2024-12-22T22:08:38.384733Z",
     "iopub.status.busy": "2024-12-22T22:08:38.384423Z",
     "iopub.status.idle": "2024-12-22T22:08:38.399005Z",
     "shell.execute_reply": "2024-12-22T22:08:38.398357Z"
    },
    "papermill": {
     "duration": 0.021169,
     "end_time": "2024-12-22T22:08:38.400691",
     "exception": false,
     "start_time": "2024-12-22T22:08:38.379522",
     "status": "completed"
    },
    "tags": []
   },
   "outputs": [],
   "source": [
    "#notes : all of the function taking 1 text at a time\n",
    "stop_words = set(stopwords.words('english'))\n",
    "# add rt to remove retweet in dataset (noise)\n",
    "stop_words.add(\"rt\")\n",
    "\n",
    "# remove html entity:\n",
    "def remove_entity(raw_text):\n",
    "    entity_regex = r\"&[^\\s;]+;\"\n",
    "    text = re.sub(entity_regex, \"\", raw_text)\n",
    "    return text\n",
    "\n",
    "# change the user tags\n",
    "def change_user(raw_text):\n",
    "    regex = r\"@([^ ]+)\"\n",
    "    text = re.sub(regex, \"user\", raw_text)\n",
    "\n",
    "    return text\n",
    "\n",
    "# remove urls\n",
    "def remove_url(raw_text):\n",
    "    url_regex = r\"(?i)\\b((?:https?://|www\\d{0,3}[.]|[a-z0-9.\\-]+[.][a-z]{2,4}/)(?:[^\\s()<>]+|\\(([^\\s()<>]+|(\\([^\\s()<>]+\\)))*\\))+(?:\\(([^\\s()<>]+|(\\([^\\s()<>]+\\)))*\\)|[^\\s`!()\\[\\]{};:'\\\".,<>?«»“”‘’]))\"\n",
    "    text = re.sub(url_regex, '', raw_text)\n",
    "\n",
    "    return text\n",
    "\n",
    "# remove unnecessary symbols\n",
    "def remove_noise_symbols(raw_text):\n",
    "    text = raw_text.replace('\"', '')\n",
    "    text = text.replace(\"'\", '')\n",
    "    text = text.replace(\"!\", '')\n",
    "    text = text.replace(\"`\", '')\n",
    "    text = text.replace(\"..\", '')\n",
    "\n",
    "    return text\n",
    "\n",
    "# remove stopwords\n",
    "def remove_stopwords(raw_text):\n",
    "    tokenize = nltk.word_tokenize(raw_text)\n",
    "    text = [word for word in tokenize if not word.lower() in stop_words]\n",
    "    text = \" \".join(text)\n",
    "\n",
    "    return text\n",
    "\n",
    "## this function in to clean all the dataset by utilizing all the function above\n",
    "def preprocess(datas):\n",
    "    clean = []\n",
    "    # change the @xxx into \"user\"\n",
    "    clean = [change_user(text) for text in datas]\n",
    "    # remove emojis (specifically unicode emojis)\n",
    "    clean = [remove_entity(text) for text in clean]\n",
    "    # remove urls\n",
    "    clean = [remove_url(text) for text in clean]\n",
    "    # remove trailing stuff\n",
    "    clean = [remove_noise_symbols(text) for text in clean]\n",
    "    # remove stopwords\n",
    "    clean = [remove_stopwords(text) for text in clean]\n",
    "\n",
    "    return clean"
   ]
  },
  {
   "cell_type": "code",
   "execution_count": 6,
   "id": "be57dab5",
   "metadata": {
    "execution": {
     "iopub.execute_input": "2024-12-22T22:08:38.410701Z",
     "iopub.status.busy": "2024-12-22T22:08:38.410395Z",
     "iopub.status.idle": "2024-12-22T22:08:41.527469Z",
     "shell.execute_reply": "2024-12-22T22:08:41.526786Z"
    },
    "papermill": {
     "duration": 3.124229,
     "end_time": "2024-12-22T22:08:41.529428",
     "exception": false,
     "start_time": "2024-12-22T22:08:38.405199",
     "status": "completed"
    },
    "tags": []
   },
   "outputs": [],
   "source": [
    "# call the cleaning function\n",
    "clean_tweet = preprocess(tweet)"
   ]
  },
  {
   "cell_type": "markdown",
   "id": "175a37fd",
   "metadata": {
    "papermill": {
     "duration": 0.004051,
     "end_time": "2024-12-22T22:08:41.537926",
     "exception": false,
     "start_time": "2024-12-22T22:08:41.533875",
     "status": "completed"
    },
    "tags": []
   },
   "source": [
    "# 4| Splitting the dataset into test and validation"
   ]
  },
  {
   "cell_type": "code",
   "execution_count": 7,
   "id": "3aa9ba98",
   "metadata": {
    "execution": {
     "iopub.execute_input": "2024-12-22T22:08:41.547478Z",
     "iopub.status.busy": "2024-12-22T22:08:41.547166Z",
     "iopub.status.idle": "2024-12-22T22:08:41.560907Z",
     "shell.execute_reply": "2024-12-22T22:08:41.560248Z"
    },
    "papermill": {
     "duration": 0.02047,
     "end_time": "2024-12-22T22:08:41.562567",
     "exception": false,
     "start_time": "2024-12-22T22:08:41.542097",
     "status": "completed"
    },
    "tags": []
   },
   "outputs": [],
   "source": [
    "X_train, X_test, y_train, y_test = train_test_split(clean_tweet, labels, test_size=0.2, random_state=42)"
   ]
  },
  {
   "cell_type": "code",
   "execution_count": 8,
   "id": "9594d34f",
   "metadata": {
    "execution": {
     "iopub.execute_input": "2024-12-22T22:08:41.571913Z",
     "iopub.status.busy": "2024-12-22T22:08:41.571585Z",
     "iopub.status.idle": "2024-12-22T22:08:42.039048Z",
     "shell.execute_reply": "2024-12-22T22:08:42.038084Z"
    },
    "papermill": {
     "duration": 0.474449,
     "end_time": "2024-12-22T22:08:42.041166",
     "exception": false,
     "start_time": "2024-12-22T22:08:41.566717",
     "status": "completed"
    },
    "tags": []
   },
   "outputs": [],
   "source": [
    "## Tokenizing -> basically we use tokenisation for many things, its commonly used for feature extraction in preprocessing. btw idk how it works as feature extraction tho :(\n",
    "# declare the tokenizer\n",
    "tokenizer = Tokenizer()\n",
    "# build the vocabulary based on train dataset\n",
    "tokenizer.fit_on_texts(X_train)\n",
    "# tokenize the train and test dataset\n",
    "X_train = tokenizer.texts_to_sequences(X_train)\n",
    "X_test = tokenizer.texts_to_sequences(X_test)\n",
    "\n",
    "# vocabulary size (num of unique words) -> will be used in embedding layer\n",
    "vocab_size = len(tokenizer.word_index) + 1"
   ]
  },
  {
   "cell_type": "code",
   "execution_count": 9,
   "id": "1b400c39",
   "metadata": {
    "execution": {
     "iopub.execute_input": "2024-12-22T22:08:42.051996Z",
     "iopub.status.busy": "2024-12-22T22:08:42.051120Z",
     "iopub.status.idle": "2024-12-22T22:08:42.111155Z",
     "shell.execute_reply": "2024-12-22T22:08:42.110137Z"
    },
    "papermill": {
     "duration": 0.067703,
     "end_time": "2024-12-22T22:08:42.113606",
     "exception": false,
     "start_time": "2024-12-22T22:08:42.045903",
     "status": "completed"
    },
    "tags": []
   },
   "outputs": [],
   "source": [
    "## Padding -> to uniform the datas\n",
    "max_length = max(len(seq) for seq in X_train)\n",
    "\n",
    "# to test an outlier case (if one of the test dataset has longer length)\n",
    "for x in X_test:\n",
    "    if len(x) > max_length:\n",
    "        print(f\"an outlier detected: {x}\")\n",
    "\n",
    "X_train = pad_sequences(X_train, maxlen = max_length)\n",
    "X_test = pad_sequences(X_test, maxlen = max_length)"
   ]
  },
  {
   "cell_type": "code",
   "execution_count": 10,
   "id": "d0697e50",
   "metadata": {
    "execution": {
     "iopub.execute_input": "2024-12-22T22:08:42.124189Z",
     "iopub.status.busy": "2024-12-22T22:08:42.123883Z",
     "iopub.status.idle": "2024-12-22T22:08:42.129417Z",
     "shell.execute_reply": "2024-12-22T22:08:42.128771Z"
    },
    "papermill": {
     "duration": 0.012778,
     "end_time": "2024-12-22T22:08:42.130979",
     "exception": false,
     "start_time": "2024-12-22T22:08:42.118201",
     "status": "completed"
    },
    "tags": []
   },
   "outputs": [],
   "source": [
    "# create hot_labels (idk whty tapi ini penting, kalo ga bakal error)\n",
    "y_test = to_categorical(y_test, num_classes=3)\n",
    "y_train = to_categorical(y_train, num_classes=3)"
   ]
  },
  {
   "cell_type": "code",
   "execution_count": 11,
   "id": "23291a10",
   "metadata": {
    "execution": {
     "iopub.execute_input": "2024-12-22T22:08:42.140175Z",
     "iopub.status.busy": "2024-12-22T22:08:42.139915Z",
     "iopub.status.idle": "2024-12-22T22:08:42.144282Z",
     "shell.execute_reply": "2024-12-22T22:08:42.143528Z"
    },
    "papermill": {
     "duration": 0.01092,
     "end_time": "2024-12-22T22:08:42.146090",
     "exception": false,
     "start_time": "2024-12-22T22:08:42.135170",
     "status": "completed"
    },
    "tags": []
   },
   "outputs": [
    {
     "name": "stdout",
     "output_type": "stream",
     "text": [
      "num test tweet: 4957\n",
      "num train tweet: 19826\n"
     ]
    }
   ],
   "source": [
    "# another look on the number of tweet in test and training data\n",
    "\n",
    "print(f\"num test tweet: {y_test.shape[0]}\")\n",
    "print(f\"num train tweet: {y_train.shape[0]}\")"
   ]
  },
  {
   "cell_type": "markdown",
   "id": "f70113ed",
   "metadata": {
    "papermill": {
     "duration": 0.004014,
     "end_time": "2024-12-22T22:08:42.154242",
     "exception": false,
     "start_time": "2024-12-22T22:08:42.150228",
     "status": "completed"
    },
    "tags": []
   },
   "source": [
    "# 5| Building the model"
   ]
  },
  {
   "cell_type": "code",
   "execution_count": 12,
   "id": "a6451849",
   "metadata": {
    "execution": {
     "iopub.execute_input": "2024-12-22T22:08:42.167712Z",
     "iopub.status.busy": "2024-12-22T22:08:42.166792Z",
     "iopub.status.idle": "2024-12-22T22:08:42.173877Z",
     "shell.execute_reply": "2024-12-22T22:08:42.172669Z"
    },
    "papermill": {
     "duration": 0.017301,
     "end_time": "2024-12-22T22:08:42.176172",
     "exception": false,
     "start_time": "2024-12-22T22:08:42.158871",
     "status": "completed"
    },
    "tags": []
   },
   "outputs": [],
   "source": [
    "def recall(y_true, y_pred):\n",
    "    true_positives = K.sum(K.round(K.clip(y_true * y_pred, 0, 1)))\n",
    "    possible_positives = K.sum(K.round(K.clip(y_true, 0, 1)))\n",
    "    recall = true_positives / (possible_positives + K.epsilon())\n",
    "    return recall\n",
    "\n",
    "def precision(y_true, y_pred):\n",
    "    true_positives = K.sum(K.round(K.clip(y_true * y_pred, 0, 1)))\n",
    "    predicted_positives = K.sum(K.round(K.clip(y_pred, 0, 1)))\n",
    "    precision = true_positives / (predicted_positives + K.epsilon())\n",
    "    return precision\n",
    "\n",
    "def f1(y_true, y_pred):\n",
    "    precisions = precision(y_true, y_pred)\n",
    "    recalls = recall(y_true, y_pred)\n",
    "    return 2*((precisions*recalls)/(precisions+recalls+K.epsilon()))"
   ]
  },
  {
   "cell_type": "code",
   "execution_count": 13,
   "id": "4b648867",
   "metadata": {
    "execution": {
     "iopub.execute_input": "2024-12-22T22:08:42.187090Z",
     "iopub.status.busy": "2024-12-22T22:08:42.186223Z",
     "iopub.status.idle": "2024-12-22T22:08:43.388739Z",
     "shell.execute_reply": "2024-12-22T22:08:43.388074Z"
    },
    "papermill": {
     "duration": 1.209822,
     "end_time": "2024-12-22T22:08:43.390717",
     "exception": false,
     "start_time": "2024-12-22T22:08:42.180895",
     "status": "completed"
    },
    "tags": []
   },
   "outputs": [],
   "source": [
    "# change dis if u want\n",
    "output_dim = 200\n",
    "\n",
    "# LSTM model architechture (CNN + LSTM)\n",
    "model = Sequential([\n",
    "    # embedding layer is like idk\n",
    "    Embedding(vocab_size, output_dim, input_length=max_length),\n",
    "    # lstm for xxx\n",
    "    LSTM(64, dropout=0.3, recurrent_dropout=0.3),\n",
    "    # dropout to prevent overfitting\n",
    "    Dropout(0.5),\n",
    "    # dense to connect the previous output with current layer\n",
    "    Dense(128, activation=\"relu\"),\n",
    "    # dropout to prevent overfitting\n",
    "    Dropout(0.5),\n",
    "    # this is output layer, with 3 class (0, 1, 2)\n",
    "    Dense(3, activation=\"softmax\"),\n",
    "])\n",
    "\n",
    "model.compile(optimizer='adam', loss='categorical_crossentropy', metrics=['accuracy',f1,precision, recall])"
   ]
  },
  {
   "cell_type": "code",
   "execution_count": 14,
   "id": "64492b47",
   "metadata": {
    "execution": {
     "iopub.execute_input": "2024-12-22T22:08:43.401206Z",
     "iopub.status.busy": "2024-12-22T22:08:43.400639Z",
     "iopub.status.idle": "2024-12-22T22:08:43.421786Z",
     "shell.execute_reply": "2024-12-22T22:08:43.420818Z"
    },
    "papermill": {
     "duration": 0.030901,
     "end_time": "2024-12-22T22:08:43.426240",
     "exception": false,
     "start_time": "2024-12-22T22:08:43.395339",
     "status": "completed"
    },
    "tags": []
   },
   "outputs": [
    {
     "name": "stdout",
     "output_type": "stream",
     "text": [
      "Model: \"sequential\"\n",
      "_________________________________________________________________\n",
      " Layer (type)                Output Shape              Param #   \n",
      "=================================================================\n",
      " embedding (Embedding)       (None, 26, 200)           3734800   \n",
      "                                                                 \n",
      " lstm (LSTM)                 (None, 64)                67840     \n",
      "                                                                 \n",
      " dropout (Dropout)           (None, 64)                0         \n",
      "                                                                 \n",
      " dense (Dense)               (None, 128)               8320      \n",
      "                                                                 \n",
      " dropout_1 (Dropout)         (None, 128)               0         \n",
      "                                                                 \n",
      " dense_1 (Dense)             (None, 3)                 387       \n",
      "                                                                 \n",
      "=================================================================\n",
      "Total params: 3811347 (14.54 MB)\n",
      "Trainable params: 3811347 (14.54 MB)\n",
      "Non-trainable params: 0 (0.00 Byte)\n",
      "_________________________________________________________________\n"
     ]
    }
   ],
   "source": [
    "# checking the model parameters\n",
    "model.summary()"
   ]
  },
  {
   "cell_type": "code",
   "execution_count": 15,
   "id": "547097fe",
   "metadata": {
    "execution": {
     "iopub.execute_input": "2024-12-22T22:08:43.438224Z",
     "iopub.status.busy": "2024-12-22T22:08:43.437638Z",
     "iopub.status.idle": "2024-12-22T22:14:15.408312Z",
     "shell.execute_reply": "2024-12-22T22:14:15.407151Z"
    },
    "papermill": {
     "duration": 331.979621,
     "end_time": "2024-12-22T22:14:15.410940",
     "exception": false,
     "start_time": "2024-12-22T22:08:43.431319",
     "status": "completed"
    },
    "tags": []
   },
   "outputs": [
    {
     "name": "stdout",
     "output_type": "stream",
     "text": [
      "Epoch 1/10\n",
      "310/310 [==============================] - 56s 163ms/step - loss: 0.4586 - accuracy: 0.8412 - f1: 0.8190 - precision: 0.8485 - recall: 0.7958 - val_loss: 0.3290 - val_accuracy: 0.8878 - val_f1: 0.8874 - val_precision: 0.9044 - val_recall: 0.8713\n",
      "Epoch 2/10\n",
      "310/310 [==============================] - 32s 104ms/step - loss: 0.2333 - accuracy: 0.9222 - f1: 0.9220 - precision: 0.9312 - recall: 0.9131 - val_loss: 0.3211 - val_accuracy: 0.8923 - val_f1: 0.8914 - val_precision: 0.8974 - val_recall: 0.8855\n",
      "Epoch 3/10\n",
      "310/310 [==============================] - 32s 103ms/step - loss: 0.1524 - accuracy: 0.9493 - f1: 0.9487 - precision: 0.9516 - recall: 0.9458 - val_loss: 0.3852 - val_accuracy: 0.8782 - val_f1: 0.8790 - val_precision: 0.8833 - val_recall: 0.8747\n",
      "Epoch 4/10\n",
      "310/310 [==============================] - 31s 100ms/step - loss: 0.1030 - accuracy: 0.9645 - f1: 0.9647 - precision: 0.9660 - recall: 0.9634 - val_loss: 0.4501 - val_accuracy: 0.8820 - val_f1: 0.8825 - val_precision: 0.8852 - val_recall: 0.8799\n",
      "Epoch 5/10\n",
      "310/310 [==============================] - 30s 97ms/step - loss: 0.0786 - accuracy: 0.9724 - f1: 0.9726 - precision: 0.9737 - recall: 0.9716 - val_loss: 0.5531 - val_accuracy: 0.8751 - val_f1: 0.8756 - val_precision: 0.8766 - val_recall: 0.8747\n",
      "Epoch 6/10\n",
      "310/310 [==============================] - 30s 98ms/step - loss: 0.0628 - accuracy: 0.9778 - f1: 0.9776 - precision: 0.9780 - recall: 0.9772 - val_loss: 0.5711 - val_accuracy: 0.8608 - val_f1: 0.8613 - val_precision: 0.8626 - val_recall: 0.8600\n",
      "Epoch 7/10\n",
      "310/310 [==============================] - 31s 99ms/step - loss: 0.0518 - accuracy: 0.9815 - f1: 0.9815 - precision: 0.9820 - recall: 0.9810 - val_loss: 0.6711 - val_accuracy: 0.8737 - val_f1: 0.8739 - val_precision: 0.8750 - val_recall: 0.8729\n",
      "Epoch 8/10\n",
      "310/310 [==============================] - 31s 99ms/step - loss: 0.0448 - accuracy: 0.9839 - f1: 0.9839 - precision: 0.9842 - recall: 0.9835 - val_loss: 0.7768 - val_accuracy: 0.8654 - val_f1: 0.8654 - val_precision: 0.8668 - val_recall: 0.8641\n",
      "Epoch 9/10\n",
      "310/310 [==============================] - 30s 95ms/step - loss: 0.0388 - accuracy: 0.9860 - f1: 0.9861 - precision: 0.9864 - recall: 0.9858 - val_loss: 0.7819 - val_accuracy: 0.8733 - val_f1: 0.8737 - val_precision: 0.8746 - val_recall: 0.8727\n",
      "Epoch 10/10\n",
      "310/310 [==============================] - 30s 97ms/step - loss: 0.0392 - accuracy: 0.9863 - f1: 0.9863 - precision: 0.9866 - recall: 0.9860 - val_loss: 0.7941 - val_accuracy: 0.8590 - val_f1: 0.8590 - val_precision: 0.8601 - val_recall: 0.8580\n"
     ]
    }
   ],
   "source": [
    "# Train the model\n",
    "model_history = model.fit(\n",
    "    X_train,\n",
    "    y_train,\n",
    "    batch_size = 64,\n",
    "    epochs=10,\n",
    "    validation_data=(X_test, y_test)\n",
    ")"
   ]
  },
  {
   "cell_type": "code",
   "execution_count": 16,
   "id": "5ec54236",
   "metadata": {
    "execution": {
     "iopub.execute_input": "2024-12-22T22:14:15.732130Z",
     "iopub.status.busy": "2024-12-22T22:14:15.731196Z",
     "iopub.status.idle": "2024-12-22T22:14:16.004033Z",
     "shell.execute_reply": "2024-12-22T22:14:16.003145Z"
    },
    "papermill": {
     "duration": 0.439554,
     "end_time": "2024-12-22T22:14:16.006114",
     "exception": false,
     "start_time": "2024-12-22T22:14:15.566560",
     "status": "completed"
    },
    "tags": []
   },
   "outputs": [
    {
     "data": {
      "image/png": "[encoded data removed]",
      "text/plain": [
       "<Figure size 640x480 with 1 Axes>"
      ]
     },
     "metadata": {},
     "output_type": "display_data"
    }
   ],
   "source": [
    "import matplotlib.pyplot as plt\n",
    "hist = model.history.history\n",
    "plt.plot(hist['loss'],'r',linewidth=2, label='Training loss')\n",
    "plt.plot(hist['val_loss'], 'g',linewidth=2, label='Validation loss')\n",
    "plt.title('Hate Speech and Offensive language Model')\n",
    "plt.xlabel('Epochs numbers')\n",
    "plt.ylabel('MSE numbers')\n",
    "plt.show()"
   ]
  },
  {
   "cell_type": "markdown",
   "id": "73dfe6fe",
   "metadata": {
    "papermill": {
     "duration": 0.197147,
     "end_time": "2024-12-22T22:14:16.357405",
     "exception": false,
     "start_time": "2024-12-22T22:14:16.160258",
     "status": "completed"
    },
    "tags": []
   },
   "source": [
    "## Thanks alot upvotes ##"
   ]
  }
 ],
 "metadata": {
  "kaggle": {
   "accelerator": "gpu",
   "dataSources": [
    {
     "datasetId": 4096079,
     "sourceId": 7105074,
     "sourceType": "datasetVersion"
    }
   ],
   "dockerImageVersionId": 30627,
   "isGpuEnabled": true,
   "isInternetEnabled": true,
   "language": "python",
   "sourceType": "notebook"
  },
  "kernelspec": {
   "display_name": "Python 3",
   "language": "python",
   "name": "python3"
  },
  "language_info": {
   "codemirror_mode": {
    "name": "ipython",
    "version": 3
   },
   "file_extension": ".py",
   "mimetype": "text/x-python",
   "name": "python",
   "nbconvert_exporter": "python",
   "pygments_lexer": "ipython3",
   "version": "3.10.12"
  },
  "papermill": {
   "default_parameters": {},
   "duration": 356.54862,
   "end_time": "2024-12-22T22:14:19.157653",
   "environment_variables": {},
   "exception": null,
   "input_path": "__notebook__.ipynb",
   "output_path": "__notebook__.ipynb",
   "parameters": {},
   "start_time": "2024-12-22T22:08:22.609033",
   "version": "2.4.0"
  }
 },
 "nbformat": 4,
 "nbformat_minor": 5
}
