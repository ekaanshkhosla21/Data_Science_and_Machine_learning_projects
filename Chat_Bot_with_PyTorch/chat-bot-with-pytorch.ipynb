{
 "cells": [
  {
   "cell_type": "code",
   "execution_count": 1,
   "id": "9c8d20ea",
   "metadata": {
    "_cell_guid": "b1076dfc-b9ad-4769-8c92-a6c4dae69d19",
    "_uuid": "8f2839f25d086af736a60e9eeb907d3b93b6e0e5",
    "execution": {
     "iopub.execute_input": "2023-09-04T12:04:51.206661Z",
     "iopub.status.busy": "2023-09-04T12:04:51.206114Z",
     "iopub.status.idle": "2023-09-04T12:04:53.149011Z",
     "shell.execute_reply": "2023-09-04T12:04:53.147756Z"
    },
    "papermill": {
     "duration": 1.963546,
     "end_time": "2023-09-04T12:04:53.151924",
     "exception": false,
     "start_time": "2023-09-04T12:04:51.188378",
     "status": "completed"
    },
    "tags": []
   },
   "outputs": [],
   "source": [
    "import numpy as np\n",
    "import nltk\n",
    "# nltk.download('punkt')\n",
    "from nltk.stem.porter import PorterStemmer\n",
    "stemmer = PorterStemmer()"
   ]
  },
  {
   "cell_type": "code",
   "execution_count": 2,
   "id": "269aa761",
   "metadata": {
    "execution": {
     "iopub.execute_input": "2023-09-04T12:04:53.186439Z",
     "iopub.status.busy": "2023-09-04T12:04:53.185543Z",
     "iopub.status.idle": "2023-09-04T12:04:53.191139Z",
     "shell.execute_reply": "2023-09-04T12:04:53.189994Z"
    },
    "papermill": {
     "duration": 0.02526,
     "end_time": "2023-09-04T12:04:53.193464",
     "exception": false,
     "start_time": "2023-09-04T12:04:53.168204",
     "status": "completed"
    },
    "tags": []
   },
   "outputs": [],
   "source": [
    "def tokenize(sentence):\n",
    "    \"\"\"\n",
    "    split sentence into array of words/tokens\n",
    "    a token can be a word or punctuation character, or number\n",
    "    \"\"\"\n",
    "    return nltk.word_tokenize(sentence)"
   ]
  },
  {
   "cell_type": "code",
   "execution_count": 3,
   "id": "e5f51cc5",
   "metadata": {
    "execution": {
     "iopub.execute_input": "2023-09-04T12:04:53.226563Z",
     "iopub.status.busy": "2023-09-04T12:04:53.225535Z",
     "iopub.status.idle": "2023-09-04T12:04:53.230452Z",
     "shell.execute_reply": "2023-09-04T12:04:53.229677Z"
    },
    "papermill": {
     "duration": 0.023697,
     "end_time": "2023-09-04T12:04:53.232687",
     "exception": false,
     "start_time": "2023-09-04T12:04:53.208990",
     "status": "completed"
    },
    "tags": []
   },
   "outputs": [],
   "source": [
    "def stem(word):\n",
    "    \"\"\"\n",
    "    stemming = find the root form of the word\n",
    "    examples:\n",
    "    words = [\"organize\", \"organizes\", \"organizing\"]\n",
    "    words = [stem(w) for w in words]\n",
    "    -> [\"organ\", \"organ\", \"organ\"]\n",
    "    \"\"\"\n",
    "    return stemmer.stem(word.lower())"
   ]
  },
  {
   "cell_type": "code",
   "execution_count": 4,
   "id": "45a36bd5",
   "metadata": {
    "execution": {
     "iopub.execute_input": "2023-09-04T12:04:53.265834Z",
     "iopub.status.busy": "2023-09-04T12:04:53.265084Z",
     "iopub.status.idle": "2023-09-04T12:04:53.271638Z",
     "shell.execute_reply": "2023-09-04T12:04:53.270815Z"
    },
    "papermill": {
     "duration": 0.025763,
     "end_time": "2023-09-04T12:04:53.273986",
     "exception": false,
     "start_time": "2023-09-04T12:04:53.248223",
     "status": "completed"
    },
    "tags": []
   },
   "outputs": [],
   "source": [
    "def bag_of_words(tokenized_sentence, words):\n",
    "    \"\"\"\n",
    "    return bag of words array:\n",
    "    1 for each known word that exists in the sentence, 0 otherwise\n",
    "    example:\n",
    "    sentence = [\"hello\", \"how\", \"are\", \"you\"]\n",
    "    words = [\"hi\", \"hello\", \"I\", \"you\", \"bye\", \"thank\", \"cool\"]\n",
    "    bog   = [  0 ,    1 ,    0 ,   1 ,    0 ,    0 ,      0]\n",
    "    \"\"\"\n",
    "    # stem each word\n",
    "    sentence_words = [stem(word) for word in tokenized_sentence]\n",
    "    # initialize bag with 0 for each word\n",
    "    bag = np.zeros(len(words), dtype=np.float32)\n",
    "    for idx, w in enumerate(words):\n",
    "        if w in sentence_words: \n",
    "            bag[idx] = 1\n",
    "\n",
    "    return bag"
   ]
  },
  {
   "cell_type": "code",
   "execution_count": 5,
   "id": "ee4af222",
   "metadata": {
    "execution": {
     "iopub.execute_input": "2023-09-04T12:04:53.307871Z",
     "iopub.status.busy": "2023-09-04T12:04:53.307096Z",
     "iopub.status.idle": "2023-09-04T12:04:53.312852Z",
     "shell.execute_reply": "2023-09-04T12:04:53.311592Z"
    },
    "papermill": {
     "duration": 0.025052,
     "end_time": "2023-09-04T12:04:53.315171",
     "exception": false,
     "start_time": "2023-09-04T12:04:53.290119",
     "status": "completed"
    },
    "tags": []
   },
   "outputs": [
    {
     "name": "stdout",
     "output_type": "stream",
     "text": [
      "How long does shipping take?\n"
     ]
    }
   ],
   "source": [
    "a = \"How long does shipping take?\"\n",
    "print(a)"
   ]
  },
  {
   "cell_type": "code",
   "execution_count": 6,
   "id": "a35c2e4e",
   "metadata": {
    "execution": {
     "iopub.execute_input": "2023-09-04T12:04:53.349009Z",
     "iopub.status.busy": "2023-09-04T12:04:53.348269Z",
     "iopub.status.idle": "2023-09-04T12:04:53.367270Z",
     "shell.execute_reply": "2023-09-04T12:04:53.366243Z"
    },
    "papermill": {
     "duration": 0.038275,
     "end_time": "2023-09-04T12:04:53.369863",
     "exception": false,
     "start_time": "2023-09-04T12:04:53.331588",
     "status": "completed"
    },
    "tags": []
   },
   "outputs": [],
   "source": [
    "a = tokenize(a)"
   ]
  },
  {
   "cell_type": "code",
   "execution_count": 7,
   "id": "024584bf",
   "metadata": {
    "execution": {
     "iopub.execute_input": "2023-09-04T12:04:53.403619Z",
     "iopub.status.busy": "2023-09-04T12:04:53.402891Z",
     "iopub.status.idle": "2023-09-04T12:04:53.409001Z",
     "shell.execute_reply": "2023-09-04T12:04:53.407499Z"
    },
    "papermill": {
     "duration": 0.025533,
     "end_time": "2023-09-04T12:04:53.411313",
     "exception": false,
     "start_time": "2023-09-04T12:04:53.385780",
     "status": "completed"
    },
    "tags": []
   },
   "outputs": [
    {
     "name": "stdout",
     "output_type": "stream",
     "text": [
      "['How', 'long', 'does', 'shipping', 'take', '?']\n"
     ]
    }
   ],
   "source": [
    "print(a)"
   ]
  },
  {
   "cell_type": "code",
   "execution_count": 8,
   "id": "5a8be70e",
   "metadata": {
    "execution": {
     "iopub.execute_input": "2023-09-04T12:04:53.444473Z",
     "iopub.status.busy": "2023-09-04T12:04:53.444064Z",
     "iopub.status.idle": "2023-09-04T12:04:53.451194Z",
     "shell.execute_reply": "2023-09-04T12:04:53.449981Z"
    },
    "papermill": {
     "duration": 0.02686,
     "end_time": "2023-09-04T12:04:53.453987",
     "exception": false,
     "start_time": "2023-09-04T12:04:53.427127",
     "status": "completed"
    },
    "tags": []
   },
   "outputs": [
    {
     "name": "stdout",
     "output_type": "stream",
     "text": [
      "['organ', 'organ', 'organ']\n"
     ]
    }
   ],
   "source": [
    "words = [\"organize\", \"organizes\", \"organizing\"]\n",
    "stemmed_words = [stem(w) for w in words]\n",
    "print(stemmed_words)"
   ]
  },
  {
   "cell_type": "code",
   "execution_count": 9,
   "id": "148ae492",
   "metadata": {
    "execution": {
     "iopub.execute_input": "2023-09-04T12:04:53.488218Z",
     "iopub.status.busy": "2023-09-04T12:04:53.487776Z",
     "iopub.status.idle": "2023-09-04T12:04:57.076617Z",
     "shell.execute_reply": "2023-09-04T12:04:57.075262Z"
    },
    "papermill": {
     "duration": 3.60942,
     "end_time": "2023-09-04T12:04:57.079308",
     "exception": false,
     "start_time": "2023-09-04T12:04:53.469888",
     "status": "completed"
    },
    "tags": []
   },
   "outputs": [],
   "source": [
    "import torch\n",
    "import torch.nn as nn\n",
    "\n",
    "\n",
    "class NeuralNet(nn.Module):\n",
    "    def __init__(self, input_size, hidden_size, num_classes):\n",
    "        super(NeuralNet, self).__init__()\n",
    "        self.l1 = nn.Linear(input_size, hidden_size) \n",
    "        self.l2 = nn.Linear(hidden_size, hidden_size) \n",
    "        self.l3 = nn.Linear(hidden_size, num_classes)\n",
    "        self.relu = nn.ReLU()\n",
    "    \n",
    "    def forward(self, x):\n",
    "        out = self.l1(x)\n",
    "        out = self.relu(out)\n",
    "        out = self.l2(out)\n",
    "        out = self.relu(out)\n",
    "        out = self.l3(out)\n",
    "        # no activation and no softmax at the end\n",
    "        return out"
   ]
  },
  {
   "cell_type": "code",
   "execution_count": 10,
   "id": "013372ca",
   "metadata": {
    "execution": {
     "iopub.execute_input": "2023-09-04T12:04:57.117116Z",
     "iopub.status.busy": "2023-09-04T12:04:57.116301Z",
     "iopub.status.idle": "2023-09-04T12:04:57.123548Z",
     "shell.execute_reply": "2023-09-04T12:04:57.122245Z"
    },
    "papermill": {
     "duration": 0.031274,
     "end_time": "2023-09-04T12:04:57.126700",
     "exception": false,
     "start_time": "2023-09-04T12:04:57.095426",
     "status": "completed"
    },
    "tags": []
   },
   "outputs": [],
   "source": [
    "import numpy as np\n",
    "import random\n",
    "import json\n",
    "\n",
    "import torch\n",
    "import torch.nn as nn\n",
    "from torch.utils.data import Dataset, DataLoader\n"
   ]
  },
  {
   "cell_type": "code",
   "execution_count": 11,
   "id": "d095bdc7",
   "metadata": {
    "execution": {
     "iopub.execute_input": "2023-09-04T12:04:57.168147Z",
     "iopub.status.busy": "2023-09-04T12:04:57.167296Z",
     "iopub.status.idle": "2023-09-04T12:04:57.180228Z",
     "shell.execute_reply": "2023-09-04T12:04:57.179295Z"
    },
    "papermill": {
     "duration": 0.038664,
     "end_time": "2023-09-04T12:04:57.182677",
     "exception": false,
     "start_time": "2023-09-04T12:04:57.144013",
     "status": "completed"
    },
    "tags": []
   },
   "outputs": [],
   "source": [
    "with open('/kaggle/input/helper-file/intents.json', 'r') as f:\n",
    "    intents = json.load(f)"
   ]
  },
  {
   "cell_type": "code",
   "execution_count": 12,
   "id": "3a8de867",
   "metadata": {
    "execution": {
     "iopub.execute_input": "2023-09-04T12:04:57.216627Z",
     "iopub.status.busy": "2023-09-04T12:04:57.216001Z",
     "iopub.status.idle": "2023-09-04T12:04:57.220487Z",
     "shell.execute_reply": "2023-09-04T12:04:57.219456Z"
    },
    "papermill": {
     "duration": 0.024102,
     "end_time": "2023-09-04T12:04:57.222663",
     "exception": false,
     "start_time": "2023-09-04T12:04:57.198561",
     "status": "completed"
    },
    "tags": []
   },
   "outputs": [],
   "source": [
    "all_words = []\n",
    "tags = []\n",
    "xy = []"
   ]
  },
  {
   "cell_type": "code",
   "execution_count": 13,
   "id": "a97bb431",
   "metadata": {
    "execution": {
     "iopub.execute_input": "2023-09-04T12:04:57.255880Z",
     "iopub.status.busy": "2023-09-04T12:04:57.255127Z",
     "iopub.status.idle": "2023-09-04T12:04:57.268437Z",
     "shell.execute_reply": "2023-09-04T12:04:57.266389Z"
    },
    "papermill": {
     "duration": 0.033907,
     "end_time": "2023-09-04T12:04:57.272156",
     "exception": false,
     "start_time": "2023-09-04T12:04:57.238249",
     "status": "completed"
    },
    "tags": []
   },
   "outputs": [],
   "source": [
    "# loop through each sentence in our intents patterns\n",
    "for intent in intents['intents']:\n",
    "    tag = intent['tag']\n",
    "    # add to tag list\n",
    "    tags.append(tag)\n",
    "    for pattern in intent['patterns']:\n",
    "        # tokenize each word in the sentence\n",
    "        w = tokenize(pattern)\n",
    "        # add to our words list\n",
    "        all_words.extend(w)\n",
    "        # add to xy pair\n",
    "        xy.append((w, tag))"
   ]
  },
  {
   "cell_type": "code",
   "execution_count": 14,
   "id": "c80e0c90",
   "metadata": {
    "execution": {
     "iopub.execute_input": "2023-09-04T12:04:57.312388Z",
     "iopub.status.busy": "2023-09-04T12:04:57.311399Z",
     "iopub.status.idle": "2023-09-04T12:04:57.316702Z",
     "shell.execute_reply": "2023-09-04T12:04:57.315486Z"
    },
    "papermill": {
     "duration": 0.026819,
     "end_time": "2023-09-04T12:04:57.319048",
     "exception": false,
     "start_time": "2023-09-04T12:04:57.292229",
     "status": "completed"
    },
    "tags": []
   },
   "outputs": [],
   "source": [
    "ignore_words = ['?', '.', '!']"
   ]
  },
  {
   "cell_type": "code",
   "execution_count": 15,
   "id": "50e5e69e",
   "metadata": {
    "execution": {
     "iopub.execute_input": "2023-09-04T12:04:57.352998Z",
     "iopub.status.busy": "2023-09-04T12:04:57.352203Z",
     "iopub.status.idle": "2023-09-04T12:04:57.362237Z",
     "shell.execute_reply": "2023-09-04T12:04:57.361011Z"
    },
    "papermill": {
     "duration": 0.031219,
     "end_time": "2023-09-04T12:04:57.365910",
     "exception": false,
     "start_time": "2023-09-04T12:04:57.334691",
     "status": "completed"
    },
    "tags": []
   },
   "outputs": [],
   "source": [
    "all_words = [stem(w) for w in all_words if w not in ignore_words]"
   ]
  },
  {
   "cell_type": "code",
   "execution_count": 16,
   "id": "10172689",
   "metadata": {
    "execution": {
     "iopub.execute_input": "2023-09-04T12:04:57.399939Z",
     "iopub.status.busy": "2023-09-04T12:04:57.399308Z",
     "iopub.status.idle": "2023-09-04T12:04:57.404222Z",
     "shell.execute_reply": "2023-09-04T12:04:57.403041Z"
    },
    "papermill": {
     "duration": 0.024206,
     "end_time": "2023-09-04T12:04:57.406356",
     "exception": false,
     "start_time": "2023-09-04T12:04:57.382150",
     "status": "completed"
    },
    "tags": []
   },
   "outputs": [
    {
     "name": "stdout",
     "output_type": "stream",
     "text": [
      "['hi', 'hey', 'how', 'are', 'you', 'is', 'anyon', 'there', 'hello', 'good', 'day', 'bye', 'see', 'you', 'later', 'goodby', 'thank', 'thank', 'you', 'that', \"'s\", 'help', 'thank', \"'s\", 'a', 'lot', 'which', 'item', 'do', 'you', 'have', 'what', 'kind', 'of', 'item', 'are', 'there', 'what', 'do', 'you', 'sell', 'do', 'you', 'take', 'credit', 'card', 'do', 'you', 'accept', 'mastercard', 'can', 'i', 'pay', 'with', 'paypal', 'are', 'you', 'cash', 'onli', 'how', 'long', 'doe', 'deliveri', 'take', 'how', 'long', 'doe', 'ship', 'take', 'when', 'do', 'i', 'get', 'my', 'deliveri', 'tell', 'me', 'a', 'joke', 'tell', 'me', 'someth', 'funni', 'do', 'you', 'know', 'a', 'joke']\n"
     ]
    }
   ],
   "source": [
    "print(all_words)"
   ]
  },
  {
   "cell_type": "code",
   "execution_count": 17,
   "id": "2ceba13c",
   "metadata": {
    "execution": {
     "iopub.execute_input": "2023-09-04T12:04:57.440308Z",
     "iopub.status.busy": "2023-09-04T12:04:57.439275Z",
     "iopub.status.idle": "2023-09-04T12:04:57.447852Z",
     "shell.execute_reply": "2023-09-04T12:04:57.446666Z"
    },
    "papermill": {
     "duration": 0.027935,
     "end_time": "2023-09-04T12:04:57.450059",
     "exception": false,
     "start_time": "2023-09-04T12:04:57.422124",
     "status": "completed"
    },
    "tags": []
   },
   "outputs": [
    {
     "data": {
      "text/plain": [
       "['greeting', 'goodbye', 'thanks', 'items', 'payments', 'delivery', 'funny']"
      ]
     },
     "execution_count": 17,
     "metadata": {},
     "output_type": "execute_result"
    }
   ],
   "source": [
    "tags"
   ]
  },
  {
   "cell_type": "code",
   "execution_count": 18,
   "id": "f153287f",
   "metadata": {
    "execution": {
     "iopub.execute_input": "2023-09-04T12:04:57.543542Z",
     "iopub.status.busy": "2023-09-04T12:04:57.543149Z",
     "iopub.status.idle": "2023-09-04T12:04:57.554434Z",
     "shell.execute_reply": "2023-09-04T12:04:57.553339Z"
    },
    "papermill": {
     "duration": 0.091112,
     "end_time": "2023-09-04T12:04:57.556962",
     "exception": false,
     "start_time": "2023-09-04T12:04:57.465850",
     "status": "completed"
    },
    "tags": []
   },
   "outputs": [
    {
     "data": {
      "text/plain": [
       "[(['Hi'], 'greeting'),\n",
       " (['Hey'], 'greeting'),\n",
       " (['How', 'are', 'you'], 'greeting'),\n",
       " (['Is', 'anyone', 'there', '?'], 'greeting'),\n",
       " (['Hello'], 'greeting'),\n",
       " (['Good', 'day'], 'greeting'),\n",
       " (['Bye'], 'goodbye'),\n",
       " (['See', 'you', 'later'], 'goodbye'),\n",
       " (['Goodbye'], 'goodbye'),\n",
       " (['Thanks'], 'thanks'),\n",
       " (['Thank', 'you'], 'thanks'),\n",
       " (['That', \"'s\", 'helpful'], 'thanks'),\n",
       " (['Thank', \"'s\", 'a', 'lot', '!'], 'thanks'),\n",
       " (['Which', 'items', 'do', 'you', 'have', '?'], 'items'),\n",
       " (['What', 'kinds', 'of', 'items', 'are', 'there', '?'], 'items'),\n",
       " (['What', 'do', 'you', 'sell', '?'], 'items'),\n",
       " (['Do', 'you', 'take', 'credit', 'cards', '?'], 'payments'),\n",
       " (['Do', 'you', 'accept', 'Mastercard', '?'], 'payments'),\n",
       " (['Can', 'I', 'pay', 'with', 'Paypal', '?'], 'payments'),\n",
       " (['Are', 'you', 'cash', 'only', '?'], 'payments'),\n",
       " (['How', 'long', 'does', 'delivery', 'take', '?'], 'delivery'),\n",
       " (['How', 'long', 'does', 'shipping', 'take', '?'], 'delivery'),\n",
       " (['When', 'do', 'I', 'get', 'my', 'delivery', '?'], 'delivery'),\n",
       " (['Tell', 'me', 'a', 'joke', '!'], 'funny'),\n",
       " (['Tell', 'me', 'something', 'funny', '!'], 'funny'),\n",
       " (['Do', 'you', 'know', 'a', 'joke', '?'], 'funny')]"
      ]
     },
     "execution_count": 18,
     "metadata": {},
     "output_type": "execute_result"
    }
   ],
   "source": [
    "xy"
   ]
  },
  {
   "cell_type": "code",
   "execution_count": 19,
   "id": "d91159c6",
   "metadata": {
    "execution": {
     "iopub.execute_input": "2023-09-04T12:04:57.592148Z",
     "iopub.status.busy": "2023-09-04T12:04:57.591616Z",
     "iopub.status.idle": "2023-09-04T12:04:57.600491Z",
     "shell.execute_reply": "2023-09-04T12:04:57.596059Z"
    },
    "papermill": {
     "duration": 0.029603,
     "end_time": "2023-09-04T12:04:57.603536",
     "exception": false,
     "start_time": "2023-09-04T12:04:57.573933",
     "status": "completed"
    },
    "tags": []
   },
   "outputs": [],
   "source": [
    "all_words = sorted(set(all_words))\n",
    "tags = sorted(set(tags))"
   ]
  },
  {
   "cell_type": "code",
   "execution_count": 20,
   "id": "0ca08e2c",
   "metadata": {
    "execution": {
     "iopub.execute_input": "2023-09-04T12:04:57.640937Z",
     "iopub.status.busy": "2023-09-04T12:04:57.640516Z",
     "iopub.status.idle": "2023-09-04T12:04:57.647406Z",
     "shell.execute_reply": "2023-09-04T12:04:57.646161Z"
    },
    "papermill": {
     "duration": 0.029509,
     "end_time": "2023-09-04T12:04:57.650039",
     "exception": false,
     "start_time": "2023-09-04T12:04:57.620530",
     "status": "completed"
    },
    "tags": []
   },
   "outputs": [
    {
     "name": "stdout",
     "output_type": "stream",
     "text": [
      "26 patterns\n",
      "7 tags: ['delivery', 'funny', 'goodbye', 'greeting', 'items', 'payments', 'thanks']\n",
      "54 unique stemmed words: [\"'s\", 'a', 'accept', 'anyon', 'are', 'bye', 'can', 'card', 'cash', 'credit', 'day', 'deliveri', 'do', 'doe', 'funni', 'get', 'good', 'goodby', 'have', 'hello', 'help', 'hey', 'hi', 'how', 'i', 'is', 'item', 'joke', 'kind', 'know', 'later', 'long', 'lot', 'mastercard', 'me', 'my', 'of', 'onli', 'pay', 'paypal', 'see', 'sell', 'ship', 'someth', 'take', 'tell', 'thank', 'that', 'there', 'what', 'when', 'which', 'with', 'you']\n"
     ]
    }
   ],
   "source": [
    "print(len(xy), \"patterns\")\n",
    "print(len(tags), \"tags:\", tags)\n",
    "print(len(all_words), \"unique stemmed words:\", all_words)\n"
   ]
  },
  {
   "cell_type": "code",
   "execution_count": 21,
   "id": "0b4b6ec1",
   "metadata": {
    "execution": {
     "iopub.execute_input": "2023-09-04T12:04:57.686607Z",
     "iopub.status.busy": "2023-09-04T12:04:57.686232Z",
     "iopub.status.idle": "2023-09-04T12:04:57.696307Z",
     "shell.execute_reply": "2023-09-04T12:04:57.695186Z"
    },
    "papermill": {
     "duration": 0.032354,
     "end_time": "2023-09-04T12:04:57.698818",
     "exception": false,
     "start_time": "2023-09-04T12:04:57.666464",
     "status": "completed"
    },
    "tags": []
   },
   "outputs": [],
   "source": [
    "X_train = []\n",
    "y_train = []\n",
    "for (pattern_sentence, tag) in xy:\n",
    "    # X: bag of words for each pattern_sentence\n",
    "    bag = bag_of_words(pattern_sentence, all_words)\n",
    "    X_train.append(bag)\n",
    "    # y: PyTorch CrossEntropyLoss needs only class labels, not one-hot\n",
    "    label = tags.index(tag)\n",
    "    y_train.append(label)"
   ]
  },
  {
   "cell_type": "code",
   "execution_count": 22,
   "id": "382662b9",
   "metadata": {
    "execution": {
     "iopub.execute_input": "2023-09-04T12:04:57.733286Z",
     "iopub.status.busy": "2023-09-04T12:04:57.732898Z",
     "iopub.status.idle": "2023-09-04T12:04:57.739863Z",
     "shell.execute_reply": "2023-09-04T12:04:57.738705Z"
    },
    "papermill": {
     "duration": 0.027161,
     "end_time": "2023-09-04T12:04:57.742319",
     "exception": false,
     "start_time": "2023-09-04T12:04:57.715158",
     "status": "completed"
    },
    "tags": []
   },
   "outputs": [
    {
     "data": {
      "text/plain": [
       "26"
      ]
     },
     "execution_count": 22,
     "metadata": {},
     "output_type": "execute_result"
    }
   ],
   "source": [
    "len(y_train)"
   ]
  },
  {
   "cell_type": "code",
   "execution_count": 23,
   "id": "e92907b7",
   "metadata": {
    "execution": {
     "iopub.execute_input": "2023-09-04T12:04:57.777095Z",
     "iopub.status.busy": "2023-09-04T12:04:57.776673Z",
     "iopub.status.idle": "2023-09-04T12:04:57.782994Z",
     "shell.execute_reply": "2023-09-04T12:04:57.781883Z"
    },
    "papermill": {
     "duration": 0.026636,
     "end_time": "2023-09-04T12:04:57.785488",
     "exception": false,
     "start_time": "2023-09-04T12:04:57.758852",
     "status": "completed"
    },
    "tags": []
   },
   "outputs": [
    {
     "data": {
      "text/plain": [
       "26"
      ]
     },
     "execution_count": 23,
     "metadata": {},
     "output_type": "execute_result"
    }
   ],
   "source": [
    "len(X_train)"
   ]
  },
  {
   "cell_type": "code",
   "execution_count": 24,
   "id": "8fdb7efd",
   "metadata": {
    "execution": {
     "iopub.execute_input": "2023-09-04T12:04:57.820547Z",
     "iopub.status.busy": "2023-09-04T12:04:57.820168Z",
     "iopub.status.idle": "2023-09-04T12:04:57.825445Z",
     "shell.execute_reply": "2023-09-04T12:04:57.824235Z"
    },
    "papermill": {
     "duration": 0.025851,
     "end_time": "2023-09-04T12:04:57.827888",
     "exception": false,
     "start_time": "2023-09-04T12:04:57.802037",
     "status": "completed"
    },
    "tags": []
   },
   "outputs": [],
   "source": [
    "X_train = np.array(X_train)\n",
    "y_train = np.array(y_train)"
   ]
  },
  {
   "cell_type": "code",
   "execution_count": 25,
   "id": "55e5315f",
   "metadata": {
    "execution": {
     "iopub.execute_input": "2023-09-04T12:04:57.864735Z",
     "iopub.status.busy": "2023-09-04T12:04:57.864340Z",
     "iopub.status.idle": "2023-09-04T12:04:57.870990Z",
     "shell.execute_reply": "2023-09-04T12:04:57.869703Z"
    },
    "papermill": {
     "duration": 0.029467,
     "end_time": "2023-09-04T12:04:57.874010",
     "exception": false,
     "start_time": "2023-09-04T12:04:57.844543",
     "status": "completed"
    },
    "tags": []
   },
   "outputs": [
    {
     "name": "stdout",
     "output_type": "stream",
     "text": [
      "54 7\n"
     ]
    }
   ],
   "source": [
    "num_epochs = 1000\n",
    "batch_size = 8\n",
    "learning_rate = 0.001\n",
    "input_size = len(X_train[0])\n",
    "hidden_size = 8\n",
    "output_size = len(tags)\n",
    "print(input_size, output_size)"
   ]
  },
  {
   "cell_type": "code",
   "execution_count": 26,
   "id": "df9b0180",
   "metadata": {
    "execution": {
     "iopub.execute_input": "2023-09-04T12:04:57.909857Z",
     "iopub.status.busy": "2023-09-04T12:04:57.909420Z",
     "iopub.status.idle": "2023-09-04T12:04:57.916286Z",
     "shell.execute_reply": "2023-09-04T12:04:57.915363Z"
    },
    "papermill": {
     "duration": 0.027255,
     "end_time": "2023-09-04T12:04:57.918443",
     "exception": false,
     "start_time": "2023-09-04T12:04:57.891188",
     "status": "completed"
    },
    "tags": []
   },
   "outputs": [],
   "source": [
    "class ChatDataset(Dataset):\n",
    "\n",
    "    def __init__(self):\n",
    "        self.n_samples = len(X_train)\n",
    "        self.x_data = X_train\n",
    "        self.y_data = y_train\n",
    "\n",
    "    # support indexing such that dataset[i] can be used to get i-th sample\n",
    "    def __getitem__(self, index):\n",
    "        return self.x_data[index], self.y_data[index]\n",
    "\n",
    "    # we can call len(dataset) to return the size\n",
    "    def __len__(self):\n",
    "        return self.n_samples"
   ]
  },
  {
   "cell_type": "code",
   "execution_count": 27,
   "id": "e85ca524",
   "metadata": {
    "execution": {
     "iopub.execute_input": "2023-09-04T12:04:57.953450Z",
     "iopub.status.busy": "2023-09-04T12:04:57.953021Z",
     "iopub.status.idle": "2023-09-04T12:04:57.960097Z",
     "shell.execute_reply": "2023-09-04T12:04:57.958894Z"
    },
    "papermill": {
     "duration": 0.027323,
     "end_time": "2023-09-04T12:04:57.962446",
     "exception": false,
     "start_time": "2023-09-04T12:04:57.935123",
     "status": "completed"
    },
    "tags": []
   },
   "outputs": [],
   "source": [
    "dataset = ChatDataset()\n",
    "train_loader = DataLoader(dataset=dataset,\n",
    "                          batch_size=batch_size,\n",
    "                          shuffle=True,\n",
    "                          num_workers=0)\n",
    "\n",
    "device = torch.device('cuda' if torch.cuda.is_available() else 'cpu')"
   ]
  },
  {
   "cell_type": "code",
   "execution_count": 28,
   "id": "b4e77816",
   "metadata": {
    "execution": {
     "iopub.execute_input": "2023-09-04T12:04:57.997707Z",
     "iopub.status.busy": "2023-09-04T12:04:57.997300Z",
     "iopub.status.idle": "2023-09-04T12:04:58.008878Z",
     "shell.execute_reply": "2023-09-04T12:04:58.007664Z"
    },
    "papermill": {
     "duration": 0.031895,
     "end_time": "2023-09-04T12:04:58.011050",
     "exception": false,
     "start_time": "2023-09-04T12:04:57.979155",
     "status": "completed"
    },
    "tags": []
   },
   "outputs": [
    {
     "data": {
      "text/plain": [
       "(array([0., 0., 0., 1., 0., 0., 0., 0., 0., 0., 0., 0., 0., 0., 0., 0., 0.,\n",
       "        0., 0., 0., 0., 0., 0., 0., 0., 1., 0., 0., 0., 0., 0., 0., 0., 0.,\n",
       "        0., 0., 0., 0., 0., 0., 0., 0., 0., 0., 0., 0., 0., 0., 1., 0., 0.,\n",
       "        0., 0., 0.], dtype=float32),\n",
       " 3)"
      ]
     },
     "execution_count": 28,
     "metadata": {},
     "output_type": "execute_result"
    }
   ],
   "source": [
    "dataset[3]"
   ]
  },
  {
   "cell_type": "code",
   "execution_count": 29,
   "id": "f0ba6ac0",
   "metadata": {
    "execution": {
     "iopub.execute_input": "2023-09-04T12:04:58.047059Z",
     "iopub.status.busy": "2023-09-04T12:04:58.046280Z",
     "iopub.status.idle": "2023-09-04T12:04:58.094794Z",
     "shell.execute_reply": "2023-09-04T12:04:58.093709Z"
    },
    "papermill": {
     "duration": 0.069224,
     "end_time": "2023-09-04T12:04:58.097506",
     "exception": false,
     "start_time": "2023-09-04T12:04:58.028282",
     "status": "completed"
    },
    "tags": []
   },
   "outputs": [],
   "source": [
    "model = NeuralNet(input_size, hidden_size, output_size).to(device)"
   ]
  },
  {
   "cell_type": "code",
   "execution_count": 30,
   "id": "050189da",
   "metadata": {
    "execution": {
     "iopub.execute_input": "2023-09-04T12:04:58.134287Z",
     "iopub.status.busy": "2023-09-04T12:04:58.132654Z",
     "iopub.status.idle": "2023-09-04T12:04:58.139146Z",
     "shell.execute_reply": "2023-09-04T12:04:58.138130Z"
    },
    "papermill": {
     "duration": 0.027107,
     "end_time": "2023-09-04T12:04:58.141553",
     "exception": false,
     "start_time": "2023-09-04T12:04:58.114446",
     "status": "completed"
    },
    "tags": []
   },
   "outputs": [],
   "source": [
    "criterion = nn.CrossEntropyLoss()\n",
    "optimizer = torch.optim.Adam(model.parameters(), lr=learning_rate)"
   ]
  },
  {
   "cell_type": "code",
   "execution_count": 31,
   "id": "151fe8db",
   "metadata": {
    "execution": {
     "iopub.execute_input": "2023-09-04T12:04:58.177694Z",
     "iopub.status.busy": "2023-09-04T12:04:58.176944Z",
     "iopub.status.idle": "2023-09-04T12:05:03.081315Z",
     "shell.execute_reply": "2023-09-04T12:05:03.079961Z"
    },
    "papermill": {
     "duration": 4.926084,
     "end_time": "2023-09-04T12:05:03.084669",
     "exception": false,
     "start_time": "2023-09-04T12:04:58.158585",
     "status": "completed"
    },
    "tags": []
   },
   "outputs": [
    {
     "name": "stdout",
     "output_type": "stream",
     "text": [
      "tensor([[0., 1., 0., 0., 0., 0., 0., 0., 0., 0., 0., 0., 1., 0., 0., 0., 0., 0.,\n",
      "         0., 0., 0., 0., 0., 0., 0., 0., 0., 1., 0., 1., 0., 0., 0., 0., 0., 0.,\n",
      "         0., 0., 0., 0., 0., 0., 0., 0., 0., 0., 0., 0., 0., 0., 0., 0., 0., 1.],\n",
      "        [0., 0., 0., 0., 0., 0., 0., 0., 0., 0., 0., 0., 0., 0., 0., 0., 0., 0.,\n",
      "         0., 0., 0., 1., 0., 0., 0., 0., 0., 0., 0., 0., 0., 0., 0., 0., 0., 0.,\n",
      "         0., 0., 0., 0., 0., 0., 0., 0., 0., 0., 0., 0., 0., 0., 0., 0., 0., 0.],\n",
      "        [0., 0., 0., 0., 0., 0., 0., 0., 0., 0., 0., 0., 0., 1., 0., 0., 0., 0.,\n",
      "         0., 0., 0., 0., 0., 1., 0., 0., 0., 0., 0., 0., 0., 1., 0., 0., 0., 0.,\n",
      "         0., 0., 0., 0., 0., 0., 1., 0., 1., 0., 0., 0., 0., 0., 0., 0., 0., 0.],\n",
      "        [0., 0., 0., 0., 0., 0., 0., 0., 0., 0., 0., 0., 0., 0., 0., 0., 0., 0.,\n",
      "         0., 1., 0., 0., 0., 0., 0., 0., 0., 0., 0., 0., 0., 0., 0., 0., 0., 0.,\n",
      "         0., 0., 0., 0., 0., 0., 0., 0., 0., 0., 0., 0., 0., 0., 0., 0., 0., 0.],\n",
      "        [0., 0., 0., 0., 0., 0., 0., 0., 0., 0., 0., 0., 1., 0., 0., 0., 0., 0.,\n",
      "         0., 0., 0., 0., 0., 0., 0., 0., 0., 0., 0., 0., 0., 0., 0., 0., 0., 0.,\n",
      "         0., 0., 0., 0., 0., 1., 0., 0., 0., 0., 0., 0., 0., 1., 0., 0., 0., 1.],\n",
      "        [0., 0., 0., 0., 0., 0., 0., 0., 0., 0., 0., 0., 0., 0., 0., 0., 0., 1.,\n",
      "         0., 0., 0., 0., 0., 0., 0., 0., 0., 0., 0., 0., 0., 0., 0., 0., 0., 0.,\n",
      "         0., 0., 0., 0., 0., 0., 0., 0., 0., 0., 0., 0., 0., 0., 0., 0., 0., 0.],\n",
      "        [0., 0., 0., 0., 0., 0., 0., 0., 0., 0., 0., 0., 0., 0., 0., 0., 0., 0.,\n",
      "         0., 0., 0., 0., 1., 0., 0., 0., 0., 0., 0., 0., 0., 0., 0., 0., 0., 0.,\n",
      "         0., 0., 0., 0., 0., 0., 0., 0., 0., 0., 0., 0., 0., 0., 0., 0., 0., 0.],\n",
      "        [0., 0., 0., 0., 0., 0., 0., 0., 0., 0., 0., 0., 0., 0., 1., 0., 0., 0.,\n",
      "         0., 0., 0., 0., 0., 0., 0., 0., 0., 0., 0., 0., 0., 0., 0., 0., 1., 0.,\n",
      "         0., 0., 0., 0., 0., 0., 0., 1., 0., 1., 0., 0., 0., 0., 0., 0., 0., 0.]]) 8\n",
      "tensor([[0., 0., 0., 0., 1., 0., 0., 0., 0., 0., 0., 0., 0., 0., 0., 0., 0., 0.,\n",
      "         0., 0., 0., 0., 0., 1., 0., 0., 0., 0., 0., 0., 0., 0., 0., 0., 0., 0.,\n",
      "         0., 0., 0., 0., 0., 0., 0., 0., 0., 0., 0., 0., 0., 0., 0., 0., 0., 1.],\n",
      "        [0., 0., 0., 0., 0., 0., 0., 0., 0., 0., 0., 1., 1., 0., 0., 1., 0., 0.,\n",
      "         0., 0., 0., 0., 0., 0., 1., 0., 0., 0., 0., 0., 0., 0., 0., 0., 0., 1.,\n",
      "         0., 0., 0., 0., 0., 0., 0., 0., 0., 0., 0., 0., 0., 0., 1., 0., 0., 0.],\n",
      "        [0., 0., 0., 0., 0., 0., 0., 1., 0., 1., 0., 0., 1., 0., 0., 0., 0., 0.,\n",
      "         0., 0., 0., 0., 0., 0., 0., 0., 0., 0., 0., 0., 0., 0., 0., 0., 0., 0.,\n",
      "         0., 0., 0., 0., 0., 0., 0., 0., 1., 0., 0., 0., 0., 0., 0., 0., 0., 1.],\n",
      "        [1., 0., 0., 0., 0., 0., 0., 0., 0., 0., 0., 0., 0., 0., 0., 0., 0., 0.,\n",
      "         0., 0., 1., 0., 0., 0., 0., 0., 0., 0., 0., 0., 0., 0., 0., 0., 0., 0.,\n",
      "         0., 0., 0., 0., 0., 0., 0., 0., 0., 0., 0., 1., 0., 0., 0., 0., 0., 0.],\n",
      "        [1., 1., 0., 0., 0., 0., 0., 0., 0., 0., 0., 0., 0., 0., 0., 0., 0., 0.,\n",
      "         0., 0., 0., 0., 0., 0., 0., 0., 0., 0., 0., 0., 0., 0., 1., 0., 0., 0.,\n",
      "         0., 0., 0., 0., 0., 0., 0., 0., 0., 0., 1., 0., 0., 0., 0., 0., 0., 0.],\n",
      "        [0., 0., 0., 0., 0., 0., 0., 0., 0., 0., 1., 0., 0., 0., 0., 0., 1., 0.,\n",
      "         0., 0., 0., 0., 0., 0., 0., 0., 0., 0., 0., 0., 0., 0., 0., 0., 0., 0.,\n",
      "         0., 0., 0., 0., 0., 0., 0., 0., 0., 0., 0., 0., 0., 0., 0., 0., 0., 0.],\n",
      "        [0., 0., 1., 0., 0., 0., 0., 0., 0., 0., 0., 0., 1., 0., 0., 0., 0., 0.,\n",
      "         0., 0., 0., 0., 0., 0., 0., 0., 0., 0., 0., 0., 0., 0., 0., 1., 0., 0.,\n",
      "         0., 0., 0., 0., 0., 0., 0., 0., 0., 0., 0., 0., 0., 0., 0., 0., 0., 1.],\n",
      "        [0., 0., 0., 0., 0., 0., 0., 0., 0., 0., 0., 0., 0., 0., 0., 0., 0., 0.,\n",
      "         0., 0., 0., 0., 0., 0., 0., 0., 0., 0., 0., 0., 1., 0., 0., 0., 0., 0.,\n",
      "         0., 0., 0., 0., 1., 0., 0., 0., 0., 0., 0., 0., 0., 0., 0., 0., 0., 1.]]) 8\n",
      "tensor([[0., 0., 0., 0., 0., 0., 1., 0., 0., 0., 0., 0., 0., 0., 0., 0., 0., 0.,\n",
      "         0., 0., 0., 0., 0., 0., 1., 0., 0., 0., 0., 0., 0., 0., 0., 0., 0., 0.,\n",
      "         0., 0., 1., 1., 0., 0., 0., 0., 0., 0., 0., 0., 0., 0., 0., 0., 1., 0.],\n",
      "        [0., 1., 0., 0., 0., 0., 0., 0., 0., 0., 0., 0., 0., 0., 0., 0., 0., 0.,\n",
      "         0., 0., 0., 0., 0., 0., 0., 0., 0., 1., 0., 0., 0., 0., 0., 0., 1., 0.,\n",
      "         0., 0., 0., 0., 0., 0., 0., 0., 0., 1., 0., 0., 0., 0., 0., 0., 0., 0.],\n",
      "        [0., 0., 0., 0., 0., 0., 0., 0., 0., 0., 0., 0., 1., 0., 0., 0., 0., 0.,\n",
      "         1., 0., 0., 0., 0., 0., 0., 0., 1., 0., 0., 0., 0., 0., 0., 0., 0., 0.,\n",
      "         0., 0., 0., 0., 0., 0., 0., 0., 0., 0., 0., 0., 0., 0., 0., 1., 0., 1.],\n",
      "        [0., 0., 0., 0., 0., 1., 0., 0., 0., 0., 0., 0., 0., 0., 0., 0., 0., 0.,\n",
      "         0., 0., 0., 0., 0., 0., 0., 0., 0., 0., 0., 0., 0., 0., 0., 0., 0., 0.,\n",
      "         0., 0., 0., 0., 0., 0., 0., 0., 0., 0., 0., 0., 0., 0., 0., 0., 0., 0.],\n",
      "        [0., 0., 0., 0., 1., 0., 0., 0., 0., 0., 0., 0., 0., 0., 0., 0., 0., 0.,\n",
      "         0., 0., 0., 0., 0., 0., 0., 0., 1., 0., 1., 0., 0., 0., 0., 0., 0., 0.,\n",
      "         1., 0., 0., 0., 0., 0., 0., 0., 0., 0., 0., 0., 1., 1., 0., 0., 0., 0.],\n",
      "        [0., 0., 0., 0., 1., 0., 0., 0., 1., 0., 0., 0., 0., 0., 0., 0., 0., 0.,\n",
      "         0., 0., 0., 0., 0., 0., 0., 0., 0., 0., 0., 0., 0., 0., 0., 0., 0., 0.,\n",
      "         0., 1., 0., 0., 0., 0., 0., 0., 0., 0., 0., 0., 0., 0., 0., 0., 0., 1.],\n",
      "        [0., 0., 0., 0., 0., 0., 0., 0., 0., 0., 0., 0., 0., 0., 0., 0., 0., 0.,\n",
      "         0., 0., 0., 0., 0., 0., 0., 0., 0., 0., 0., 0., 0., 0., 0., 0., 0., 0.,\n",
      "         0., 0., 0., 0., 0., 0., 0., 0., 0., 0., 1., 0., 0., 0., 0., 0., 0., 1.],\n",
      "        [0., 0., 0., 0., 0., 0., 0., 0., 0., 0., 0., 1., 0., 1., 0., 0., 0., 0.,\n",
      "         0., 0., 0., 0., 0., 1., 0., 0., 0., 0., 0., 0., 0., 1., 0., 0., 0., 0.,\n",
      "         0., 0., 0., 0., 0., 0., 0., 0., 1., 0., 0., 0., 0., 0., 0., 0., 0., 0.]]) 8\n",
      "tensor([[0., 0., 0., 0., 0., 0., 0., 0., 0., 0., 0., 0., 0., 0., 0., 0., 0., 0.,\n",
      "         0., 0., 0., 0., 0., 0., 0., 0., 0., 0., 0., 0., 0., 0., 0., 0., 0., 0.,\n",
      "         0., 0., 0., 0., 0., 0., 0., 0., 0., 0., 1., 0., 0., 0., 0., 0., 0., 0.],\n",
      "        [0., 0., 0., 1., 0., 0., 0., 0., 0., 0., 0., 0., 0., 0., 0., 0., 0., 0.,\n",
      "         0., 0., 0., 0., 0., 0., 0., 1., 0., 0., 0., 0., 0., 0., 0., 0., 0., 0.,\n",
      "         0., 0., 0., 0., 0., 0., 0., 0., 0., 0., 0., 0., 1., 0., 0., 0., 0., 0.]]) 2\n",
      "Epoch [100/1000], Loss: 1.4693\n",
      "Epoch [200/1000], Loss: 0.0722\n",
      "Epoch [300/1000], Loss: 0.0186\n",
      "Epoch [400/1000], Loss: 0.0020\n",
      "Epoch [500/1000], Loss: 0.0019\n",
      "Epoch [600/1000], Loss: 0.0073\n",
      "Epoch [700/1000], Loss: 0.0012\n",
      "Epoch [800/1000], Loss: 0.0008\n",
      "Epoch [900/1000], Loss: 0.0005\n",
      "Epoch [1000/1000], Loss: 0.0004\n"
     ]
    }
   ],
   "source": [
    "# Train the model\n",
    "for epoch in range(num_epochs):\n",
    "    for (words, labels) in train_loader:\n",
    "        words = words.to(device)\n",
    "        labels = labels.to(dtype=torch.long).to(device)\n",
    "        \n",
    "        # Forward pass\n",
    "        if(epoch == 1):\n",
    "            print(words, len(words))\n",
    "        outputs = model(words)\n",
    "        # if y would be one-hot, we must apply\n",
    "        # labels = torch.max(labels, 1)[1]\n",
    "        loss = criterion(outputs, labels)\n",
    "        \n",
    "        # Backward and optimize\n",
    "        optimizer.zero_grad()\n",
    "        loss.backward()\n",
    "        optimizer.step()\n",
    "        \n",
    "    if (epoch+1) % 100 == 0:\n",
    "        print (f'Epoch [{epoch+1}/{num_epochs}], Loss: {loss.item():.4f}')\n"
   ]
  },
  {
   "cell_type": "code",
   "execution_count": 32,
   "id": "ebcea55a",
   "metadata": {
    "execution": {
     "iopub.execute_input": "2023-09-04T12:05:03.123355Z",
     "iopub.status.busy": "2023-09-04T12:05:03.122962Z",
     "iopub.status.idle": "2023-09-04T12:05:03.128937Z",
     "shell.execute_reply": "2023-09-04T12:05:03.127711Z"
    },
    "papermill": {
     "duration": 0.028578,
     "end_time": "2023-09-04T12:05:03.132143",
     "exception": false,
     "start_time": "2023-09-04T12:05:03.103565",
     "status": "completed"
    },
    "tags": []
   },
   "outputs": [
    {
     "name": "stdout",
     "output_type": "stream",
     "text": [
      "final loss: 0.0004\n"
     ]
    }
   ],
   "source": [
    "print(f'final loss: {loss.item():.4f}')"
   ]
  },
  {
   "cell_type": "code",
   "execution_count": 33,
   "id": "ea66c2d3",
   "metadata": {
    "execution": {
     "iopub.execute_input": "2023-09-04T12:05:03.172514Z",
     "iopub.status.busy": "2023-09-04T12:05:03.171597Z",
     "iopub.status.idle": "2023-09-04T12:05:03.177869Z",
     "shell.execute_reply": "2023-09-04T12:05:03.176870Z"
    },
    "papermill": {
     "duration": 0.029099,
     "end_time": "2023-09-04T12:05:03.180450",
     "exception": false,
     "start_time": "2023-09-04T12:05:03.151351",
     "status": "completed"
    },
    "tags": []
   },
   "outputs": [],
   "source": [
    "data = {\n",
    "\"model_state\": model.state_dict(),\n",
    "\"input_size\": input_size,\n",
    "\"hidden_size\": hidden_size,\n",
    "\"output_size\": output_size,\n",
    "\"all_words\": all_words,\n",
    "\"tags\": tags\n",
    "}"
   ]
  },
  {
   "cell_type": "code",
   "execution_count": 34,
   "id": "bee1c207",
   "metadata": {
    "execution": {
     "iopub.execute_input": "2023-09-04T12:05:03.219404Z",
     "iopub.status.busy": "2023-09-04T12:05:03.218959Z",
     "iopub.status.idle": "2023-09-04T12:05:03.226452Z",
     "shell.execute_reply": "2023-09-04T12:05:03.225090Z"
    },
    "papermill": {
     "duration": 0.03061,
     "end_time": "2023-09-04T12:05:03.229338",
     "exception": false,
     "start_time": "2023-09-04T12:05:03.198728",
     "status": "completed"
    },
    "tags": []
   },
   "outputs": [
    {
     "name": "stdout",
     "output_type": "stream",
     "text": [
      "training complete. file saved to data.pth\n"
     ]
    }
   ],
   "source": [
    "FILE = \"data.pth\"\n",
    "torch.save(data, FILE)\n",
    "\n",
    "print(f'training complete. file saved to {FILE}')"
   ]
  },
  {
   "cell_type": "code",
   "execution_count": 35,
   "id": "40f82b73",
   "metadata": {
    "execution": {
     "iopub.execute_input": "2023-09-04T12:05:03.267842Z",
     "iopub.status.busy": "2023-09-04T12:05:03.267437Z",
     "iopub.status.idle": "2023-09-04T12:05:03.272293Z",
     "shell.execute_reply": "2023-09-04T12:05:03.271135Z"
    },
    "papermill": {
     "duration": 0.027047,
     "end_time": "2023-09-04T12:05:03.274618",
     "exception": false,
     "start_time": "2023-09-04T12:05:03.247571",
     "status": "completed"
    },
    "tags": []
   },
   "outputs": [],
   "source": [
    "import random\n",
    "import json\n",
    "import torch"
   ]
  },
  {
   "cell_type": "code",
   "execution_count": 36,
   "id": "4fe2c0f4",
   "metadata": {
    "execution": {
     "iopub.execute_input": "2023-09-04T12:05:03.313386Z",
     "iopub.status.busy": "2023-09-04T12:05:03.312943Z",
     "iopub.status.idle": "2023-09-04T12:05:03.318417Z",
     "shell.execute_reply": "2023-09-04T12:05:03.317332Z"
    },
    "papermill": {
     "duration": 0.027696,
     "end_time": "2023-09-04T12:05:03.320774",
     "exception": false,
     "start_time": "2023-09-04T12:05:03.293078",
     "status": "completed"
    },
    "tags": []
   },
   "outputs": [],
   "source": [
    "device = torch.device('cuda' if torch.cuda.is_available() else 'cpu')"
   ]
  },
  {
   "cell_type": "code",
   "execution_count": 37,
   "id": "af3ae987",
   "metadata": {
    "execution": {
     "iopub.execute_input": "2023-09-04T12:05:03.359179Z",
     "iopub.status.busy": "2023-09-04T12:05:03.358781Z",
     "iopub.status.idle": "2023-09-04T12:05:03.366960Z",
     "shell.execute_reply": "2023-09-04T12:05:03.365934Z"
    },
    "papermill": {
     "duration": 0.030407,
     "end_time": "2023-09-04T12:05:03.369527",
     "exception": false,
     "start_time": "2023-09-04T12:05:03.339120",
     "status": "completed"
    },
    "tags": []
   },
   "outputs": [],
   "source": [
    "with open('/kaggle/input/helper-file/intents.json', 'r') as json_data:\n",
    "    intents = json.load(json_data)\n",
    "\n",
    "FILE = \"/kaggle/working/data.pth\"\n",
    "data = torch.load(FILE)"
   ]
  },
  {
   "cell_type": "code",
   "execution_count": 38,
   "id": "081fda26",
   "metadata": {
    "execution": {
     "iopub.execute_input": "2023-09-04T12:05:03.408751Z",
     "iopub.status.busy": "2023-09-04T12:05:03.408356Z",
     "iopub.status.idle": "2023-09-04T12:05:03.414268Z",
     "shell.execute_reply": "2023-09-04T12:05:03.413142Z"
    },
    "papermill": {
     "duration": 0.028497,
     "end_time": "2023-09-04T12:05:03.416791",
     "exception": false,
     "start_time": "2023-09-04T12:05:03.388294",
     "status": "completed"
    },
    "tags": []
   },
   "outputs": [],
   "source": [
    "input_size = data[\"input_size\"]\n",
    "hidden_size = data[\"hidden_size\"]\n",
    "output_size = data[\"output_size\"]\n",
    "all_words = data['all_words']\n",
    "tags = data['tags']\n",
    "model_state = data[\"model_state\"]"
   ]
  },
  {
   "cell_type": "code",
   "execution_count": 39,
   "id": "7ee28a78",
   "metadata": {
    "execution": {
     "iopub.execute_input": "2023-09-04T12:05:03.456718Z",
     "iopub.status.busy": "2023-09-04T12:05:03.456323Z",
     "iopub.status.idle": "2023-09-04T12:05:03.461918Z",
     "shell.execute_reply": "2023-09-04T12:05:03.460769Z"
    },
    "papermill": {
     "duration": 0.02865,
     "end_time": "2023-09-04T12:05:03.464325",
     "exception": false,
     "start_time": "2023-09-04T12:05:03.435675",
     "status": "completed"
    },
    "tags": []
   },
   "outputs": [],
   "source": [
    "model = NeuralNet(input_size, hidden_size, output_size).to(device)"
   ]
  },
  {
   "cell_type": "code",
   "execution_count": 40,
   "id": "a55b4f24",
   "metadata": {
    "execution": {
     "iopub.execute_input": "2023-09-04T12:05:03.503361Z",
     "iopub.status.busy": "2023-09-04T12:05:03.502972Z",
     "iopub.status.idle": "2023-09-04T12:05:03.511819Z",
     "shell.execute_reply": "2023-09-04T12:05:03.510747Z"
    },
    "papermill": {
     "duration": 0.031204,
     "end_time": "2023-09-04T12:05:03.514222",
     "exception": false,
     "start_time": "2023-09-04T12:05:03.483018",
     "status": "completed"
    },
    "tags": []
   },
   "outputs": [
    {
     "data": {
      "text/plain": [
       "NeuralNet(\n",
       "  (l1): Linear(in_features=54, out_features=8, bias=True)\n",
       "  (l2): Linear(in_features=8, out_features=8, bias=True)\n",
       "  (l3): Linear(in_features=8, out_features=7, bias=True)\n",
       "  (relu): ReLU()\n",
       ")"
      ]
     },
     "execution_count": 40,
     "metadata": {},
     "output_type": "execute_result"
    }
   ],
   "source": [
    "model.load_state_dict(model_state)\n",
    "model.eval()"
   ]
  },
  {
   "cell_type": "code",
   "execution_count": 41,
   "id": "54d2217d",
   "metadata": {
    "execution": {
     "iopub.execute_input": "2023-09-04T12:05:03.553323Z",
     "iopub.status.busy": "2023-09-04T12:05:03.552923Z",
     "iopub.status.idle": "2023-09-04T12:05:03.558327Z",
     "shell.execute_reply": "2023-09-04T12:05:03.557179Z"
    },
    "papermill": {
     "duration": 0.028246,
     "end_time": "2023-09-04T12:05:03.561011",
     "exception": false,
     "start_time": "2023-09-04T12:05:03.532765",
     "status": "completed"
    },
    "tags": []
   },
   "outputs": [
    {
     "name": "stdout",
     "output_type": "stream",
     "text": [
      "Let's chat! (type 'quit' to exit)\n"
     ]
    }
   ],
   "source": [
    "bot_name = \"Sam\"\n",
    "print(\"Let's chat! (type 'quit' to exit)\")"
   ]
  },
  {
   "cell_type": "code",
   "execution_count": 42,
   "id": "71dbbdca",
   "metadata": {
    "execution": {
     "iopub.execute_input": "2023-09-04T12:05:03.601106Z",
     "iopub.status.busy": "2023-09-04T12:05:03.600681Z",
     "iopub.status.idle": "2023-09-04T12:05:03.605905Z",
     "shell.execute_reply": "2023-09-04T12:05:03.604759Z"
    },
    "papermill": {
     "duration": 0.028537,
     "end_time": "2023-09-04T12:05:03.608468",
     "exception": false,
     "start_time": "2023-09-04T12:05:03.579931",
     "status": "completed"
    },
    "tags": []
   },
   "outputs": [],
   "source": [
    "# while True:\n",
    "#     # sentence = \"do you use credit cards?\"\n",
    "#     sentence = input(\"You: \")\n",
    "#     if sentence == \"quit\":\n",
    "#         break\n",
    "\n",
    "#     sentence = tokenize(sentence)\n",
    "#     X = bag_of_words(sentence, all_words)\n",
    "#     X = X.reshape(1, X.shape[0])\n",
    "#     X = torch.from_numpy(X).to(device)\n",
    "\n",
    "#     output = model(X)\n",
    "#     _, predicted = torch.max(output, dim=1)\n",
    "\n",
    "#     tag = tags[predicted.item()]\n",
    "\n",
    "#     probs = torch.softmax(output, dim=1)\n",
    "#     prob = probs[0][predicted.item()]\n",
    "#     if prob.item() > 0.75:\n",
    "#         for intent in intents['intents']:\n",
    "#             if tag == intent[\"tag\"]:\n",
    "#                 print(f\"{bot_name}: {random.choice(intent['responses'])}\")\n",
    "#     else:\n",
    "#         print(f\"{bot_name}: I do not understand...\")"
   ]
  },
  {
   "cell_type": "code",
   "execution_count": null,
   "id": "a98fa455",
   "metadata": {
    "papermill": {
     "duration": 0.018028,
     "end_time": "2023-09-04T12:05:03.645044",
     "exception": false,
     "start_time": "2023-09-04T12:05:03.627016",
     "status": "completed"
    },
    "tags": []
   },
   "outputs": [],
   "source": []
  }
 ],
 "kernelspec": {
  "display_name": "Python 3",
  "language": "python",
  "name": "python3"
 },
 "language_info": {
  "codemirror_mode": {
   "name": "ipython",
   "version": 3
  },
  "file_extension": ".py",
  "mimetype": "text/x-python",
  "name": "python",
  "nbconvert_exporter": "python",
  "pygments_lexer": "ipython3",
  "version": "3.6.4"
 },
 "metadata": {
  "kernelspec": {
   "display_name": "Python 3",
   "language": "python",
   "name": "python3"
  },
  "language_info": {
   "codemirror_mode": {
    "name": "ipython",
    "version": 3
   },
   "file_extension": ".py",
   "mimetype": "text/x-python",
   "name": "python",
   "nbconvert_exporter": "python",
   "pygments_lexer": "ipython3",
   "version": "3.10.12"
  },
  "papermill": {
   "default_parameters": {},
   "duration": 17.109204,
   "end_time": "2023-09-04T12:05:04.686992",
   "environment_variables": {},
   "exception": null,
   "input_path": "__notebook__.ipynb",
   "output_path": "__notebook__.ipynb",
   "parameters": {},
   "start_time": "2023-09-04T12:04:47.577788",
   "version": "2.4.0"
  }
 },
 "nbformat": 4,
 "nbformat_minor": 5
}
