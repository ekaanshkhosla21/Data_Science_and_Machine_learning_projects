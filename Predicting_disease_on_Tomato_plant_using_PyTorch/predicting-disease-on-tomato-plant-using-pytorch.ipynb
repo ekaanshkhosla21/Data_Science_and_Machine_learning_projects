{
 "cells": [
  {
   "cell_type": "code",
   "execution_count": 1,
   "id": "8629ebe0",
   "metadata": {
    "_cell_guid": "b1076dfc-b9ad-4769-8c92-a6c4dae69d19",
    "_uuid": "8f2839f25d086af736a60e9eeb907d3b93b6e0e5",
    "execution": {
     "iopub.execute_input": "2023-09-19T21:02:44.260727Z",
     "iopub.status.busy": "2023-09-19T21:02:44.260350Z",
     "iopub.status.idle": "2023-09-19T21:02:48.047606Z",
     "shell.execute_reply": "2023-09-19T21:02:48.046416Z"
    },
    "papermill": {
     "duration": 3.800501,
     "end_time": "2023-09-19T21:02:48.051122",
     "exception": false,
     "start_time": "2023-09-19T21:02:44.250621",
     "status": "completed"
    },
    "tags": []
   },
   "outputs": [],
   "source": [
    "import os\n",
    "import numpy as np\n",
    "import torch\n",
    "import glob\n",
    "import torch.nn as nn\n",
    "from torchvision.transforms import transforms\n",
    "from torch.utils.data import DataLoader\n",
    "from torch.optim import Adam\n",
    "from torch.autograd import Variable\n",
    "import torchvision\n",
    "import pathlib"
   ]
  },
  {
   "cell_type": "code",
   "execution_count": 2,
   "id": "2ae70e99",
   "metadata": {
    "execution": {
     "iopub.execute_input": "2023-09-19T21:02:48.081279Z",
     "iopub.status.busy": "2023-09-19T21:02:48.080308Z",
     "iopub.status.idle": "2023-09-19T21:02:48.155101Z",
     "shell.execute_reply": "2023-09-19T21:02:48.154058Z"
    },
    "papermill": {
     "duration": 0.093642,
     "end_time": "2023-09-19T21:02:48.157681",
     "exception": false,
     "start_time": "2023-09-19T21:02:48.064039",
     "status": "completed"
    },
    "tags": []
   },
   "outputs": [],
   "source": [
    "#checking for device\n",
    "device=torch.device('cuda' if torch.cuda.is_available() else 'cpu')"
   ]
  },
  {
   "cell_type": "code",
   "execution_count": 3,
   "id": "810b07db",
   "metadata": {
    "execution": {
     "iopub.execute_input": "2023-09-19T21:02:48.175439Z",
     "iopub.status.busy": "2023-09-19T21:02:48.173816Z",
     "iopub.status.idle": "2023-09-19T21:02:48.181666Z",
     "shell.execute_reply": "2023-09-19T21:02:48.180786Z"
    },
    "papermill": {
     "duration": 0.018611,
     "end_time": "2023-09-19T21:02:48.183719",
     "exception": false,
     "start_time": "2023-09-19T21:02:48.165108",
     "status": "completed"
    },
    "tags": []
   },
   "outputs": [
    {
     "name": "stdout",
     "output_type": "stream",
     "text": [
      "cuda\n"
     ]
    }
   ],
   "source": [
    "print(device)"
   ]
  },
  {
   "cell_type": "code",
   "execution_count": 4,
   "id": "a414a292",
   "metadata": {
    "execution": {
     "iopub.execute_input": "2023-09-19T21:02:48.200721Z",
     "iopub.status.busy": "2023-09-19T21:02:48.199952Z",
     "iopub.status.idle": "2023-09-19T21:02:48.205730Z",
     "shell.execute_reply": "2023-09-19T21:02:48.204808Z"
    },
    "papermill": {
     "duration": 0.016636,
     "end_time": "2023-09-19T21:02:48.208050",
     "exception": false,
     "start_time": "2023-09-19T21:02:48.191414",
     "status": "completed"
    },
    "tags": []
   },
   "outputs": [],
   "source": [
    "#Transforms\n",
    "transformer=transforms.Compose([\n",
    "    transforms.Resize((150,150)),\n",
    "    transforms.RandomHorizontalFlip(),\n",
    "    transforms.ToTensor(),  #0-255 to 0-1, numpy to tensors\n",
    "    transforms.Normalize([0.5,0.5,0.5], # 0-1 to [-1,1] , formula (x-mean)/std\n",
    "                        [0.5,0.5,0.5])\n",
    "])"
   ]
  },
  {
   "cell_type": "code",
   "execution_count": 5,
   "id": "b42a154c",
   "metadata": {
    "execution": {
     "iopub.execute_input": "2023-09-19T21:02:48.224462Z",
     "iopub.status.busy": "2023-09-19T21:02:48.224193Z",
     "iopub.status.idle": "2023-09-19T21:02:48.229305Z",
     "shell.execute_reply": "2023-09-19T21:02:48.228423Z"
    },
    "papermill": {
     "duration": 0.01546,
     "end_time": "2023-09-19T21:02:48.231312",
     "exception": false,
     "start_time": "2023-09-19T21:02:48.215852",
     "status": "completed"
    },
    "tags": []
   },
   "outputs": [],
   "source": [
    "train_path='/kaggle/input/tomato/New Plant Diseases Dataset(Augmented)/train'\n",
    "test_path='/kaggle/input/tomato/New Plant Diseases Dataset(Augmented)/valid'"
   ]
  },
  {
   "cell_type": "code",
   "execution_count": 6,
   "id": "f7568d98",
   "metadata": {
    "execution": {
     "iopub.execute_input": "2023-09-19T21:02:48.247396Z",
     "iopub.status.busy": "2023-09-19T21:02:48.247130Z",
     "iopub.status.idle": "2023-09-19T21:02:59.184766Z",
     "shell.execute_reply": "2023-09-19T21:02:59.183675Z"
    },
    "papermill": {
     "duration": 10.948867,
     "end_time": "2023-09-19T21:02:59.187560",
     "exception": false,
     "start_time": "2023-09-19T21:02:48.238693",
     "status": "completed"
    },
    "tags": []
   },
   "outputs": [],
   "source": [
    "train_loader=DataLoader(\n",
    "    torchvision.datasets.ImageFolder(train_path,transform=transformer),\n",
    "    batch_size=256, shuffle=True\n",
    ")\n",
    "test_loader=DataLoader(\n",
    "    torchvision.datasets.ImageFolder(test_path,transform=transformer),\n",
    "    batch_size=256, shuffle=True\n",
    ")"
   ]
  },
  {
   "cell_type": "code",
   "execution_count": 7,
   "id": "c8f19093",
   "metadata": {
    "execution": {
     "iopub.execute_input": "2023-09-19T21:02:59.207353Z",
     "iopub.status.busy": "2023-09-19T21:02:59.206293Z",
     "iopub.status.idle": "2023-09-19T21:02:59.212997Z",
     "shell.execute_reply": "2023-09-19T21:02:59.211934Z"
    },
    "papermill": {
     "duration": 0.018655,
     "end_time": "2023-09-19T21:02:59.215203",
     "exception": false,
     "start_time": "2023-09-19T21:02:59.196548",
     "status": "completed"
    },
    "tags": []
   },
   "outputs": [],
   "source": [
    "root=pathlib.Path(train_path)\n",
    "classes=sorted([j.name.split('/')[-1] for j in root.iterdir()])"
   ]
  },
  {
   "cell_type": "code",
   "execution_count": 8,
   "id": "994e5d69",
   "metadata": {
    "execution": {
     "iopub.execute_input": "2023-09-19T21:02:59.234572Z",
     "iopub.status.busy": "2023-09-19T21:02:59.233595Z",
     "iopub.status.idle": "2023-09-19T21:02:59.241787Z",
     "shell.execute_reply": "2023-09-19T21:02:59.240807Z"
    },
    "papermill": {
     "duration": 0.020554,
     "end_time": "2023-09-19T21:02:59.244204",
     "exception": false,
     "start_time": "2023-09-19T21:02:59.223650",
     "status": "completed"
    },
    "tags": []
   },
   "outputs": [
    {
     "data": {
      "text/plain": [
       "['Tomato___Bacterial_spot',\n",
       " 'Tomato___Early_blight',\n",
       " 'Tomato___Late_blight',\n",
       " 'Tomato___Leaf_Mold',\n",
       " 'Tomato___Septoria_leaf_spot',\n",
       " 'Tomato___Spider_mites Two-spotted_spider_mite',\n",
       " 'Tomato___Target_Spot',\n",
       " 'Tomato___Tomato_Yellow_Leaf_Curl_Virus',\n",
       " 'Tomato___Tomato_mosaic_virus',\n",
       " 'Tomato___healthy']"
      ]
     },
     "execution_count": 8,
     "metadata": {},
     "output_type": "execute_result"
    }
   ],
   "source": [
    "classes"
   ]
  },
  {
   "cell_type": "code",
   "execution_count": 9,
   "id": "daa1cc43",
   "metadata": {
    "execution": {
     "iopub.execute_input": "2023-09-19T21:02:59.263959Z",
     "iopub.status.busy": "2023-09-19T21:02:59.263189Z",
     "iopub.status.idle": "2023-09-19T21:02:59.276520Z",
     "shell.execute_reply": "2023-09-19T21:02:59.275504Z"
    },
    "papermill": {
     "duration": 0.025795,
     "end_time": "2023-09-19T21:02:59.278825",
     "exception": false,
     "start_time": "2023-09-19T21:02:59.253030",
     "status": "completed"
    },
    "tags": []
   },
   "outputs": [],
   "source": [
    "class ConvNet(nn.Module):\n",
    "    def __init__(self,num_classes=10):\n",
    "        super(ConvNet,self).__init__()\n",
    "        \n",
    "        #Output size after convolution filter\n",
    "        #((w-f+2P)/s) +1\n",
    "        \n",
    "        #Input shape= (256,3,150,150)\n",
    "        \n",
    "        self.conv1=nn.Conv2d(in_channels=3,out_channels=32,kernel_size=3,stride=1,padding=1)\n",
    "        #Shape= (256,12,150,150)\n",
    "        self.bn1=nn.BatchNorm2d(num_features=32)\n",
    "        #Shape= (256,12,150,150)\n",
    "        self.relu1=nn.ReLU()\n",
    "        #Shape= (256,12,150,150)\n",
    "        \n",
    "        self.pool=nn.MaxPool2d(kernel_size=2)\n",
    "        #Reduce the image size be factor 2\n",
    "        #Shape= (256,12,75,75)\n",
    "        \n",
    "        \n",
    "        self.conv2=nn.Conv2d(in_channels=32,out_channels=64,kernel_size=3,stride=1,padding=1)\n",
    "        #Shape= (256,20,75,75)\n",
    "        self.relu2=nn.ReLU()\n",
    "        #Shape= (256,20,75,75)\n",
    "        \n",
    "        \n",
    "        \n",
    "        self.conv3=nn.Conv2d(in_channels=64,out_channels=32,kernel_size=3,stride=1,padding=1)\n",
    "        #Shape= (256,32,75,75)\n",
    "        self.bn3=nn.BatchNorm2d(num_features=32)\n",
    "        #Shape= (256,32,75,75)\n",
    "        self.relu3=nn.ReLU()\n",
    "        #Shape= (256,32,75,75)\n",
    "        \n",
    "        \n",
    "        self.fc=nn.Linear(in_features=75 * 75 * 32,out_features=num_classes)\n",
    "        \n",
    "        \n",
    "        \n",
    "        #Feed forwad function\n",
    "        \n",
    "    def forward(self,input):\n",
    "        output=self.conv1(input)\n",
    "        output=self.bn1(output)\n",
    "        output=self.relu1(output)\n",
    "            \n",
    "        output=self.pool(output)\n",
    "            \n",
    "        output=self.conv2(output)\n",
    "        output=self.relu2(output)\n",
    "            \n",
    "        output=self.conv3(output)\n",
    "        output=self.bn3(output)\n",
    "        output=self.relu3(output)\n",
    "            \n",
    "            \n",
    "            #Above output will be in matrix form, with shape (256,32,75,75)\n",
    "            \n",
    "        output=output.view(-1,32*75*75)\n",
    "            \n",
    "            \n",
    "        output=self.fc(output)\n",
    "            \n",
    "        return output"
   ]
  },
  {
   "cell_type": "code",
   "execution_count": 10,
   "id": "7a615ea3",
   "metadata": {
    "execution": {
     "iopub.execute_input": "2023-09-19T21:02:59.298101Z",
     "iopub.status.busy": "2023-09-19T21:02:59.297148Z",
     "iopub.status.idle": "2023-09-19T21:03:02.644244Z",
     "shell.execute_reply": "2023-09-19T21:03:02.643233Z"
    },
    "papermill": {
     "duration": 3.359803,
     "end_time": "2023-09-19T21:03:02.647206",
     "exception": false,
     "start_time": "2023-09-19T21:02:59.287403",
     "status": "completed"
    },
    "tags": []
   },
   "outputs": [],
   "source": [
    "model=ConvNet(num_classes=10).to(device)"
   ]
  },
  {
   "cell_type": "code",
   "execution_count": 11,
   "id": "918d25c0",
   "metadata": {
    "execution": {
     "iopub.execute_input": "2023-09-19T21:03:02.664070Z",
     "iopub.status.busy": "2023-09-19T21:03:02.663708Z",
     "iopub.status.idle": "2023-09-19T21:03:02.668495Z",
     "shell.execute_reply": "2023-09-19T21:03:02.667533Z"
    },
    "papermill": {
     "duration": 0.015595,
     "end_time": "2023-09-19T21:03:02.670611",
     "exception": false,
     "start_time": "2023-09-19T21:03:02.655016",
     "status": "completed"
    },
    "tags": []
   },
   "outputs": [],
   "source": [
    "optimizer=Adam(model.parameters(),lr=0.001,weight_decay=0.0001)\n",
    "loss_function=nn.CrossEntropyLoss()"
   ]
  },
  {
   "cell_type": "code",
   "execution_count": 12,
   "id": "7965c620",
   "metadata": {
    "execution": {
     "iopub.execute_input": "2023-09-19T21:03:02.687064Z",
     "iopub.status.busy": "2023-09-19T21:03:02.686707Z",
     "iopub.status.idle": "2023-09-19T21:03:02.691229Z",
     "shell.execute_reply": "2023-09-19T21:03:02.690085Z"
    },
    "papermill": {
     "duration": 0.015478,
     "end_time": "2023-09-19T21:03:02.693632",
     "exception": false,
     "start_time": "2023-09-19T21:03:02.678154",
     "status": "completed"
    },
    "tags": []
   },
   "outputs": [],
   "source": [
    "num_epochs=25"
   ]
  },
  {
   "cell_type": "code",
   "execution_count": 13,
   "id": "51c50d5f",
   "metadata": {
    "execution": {
     "iopub.execute_input": "2023-09-19T21:03:02.710032Z",
     "iopub.status.busy": "2023-09-19T21:03:02.709727Z",
     "iopub.status.idle": "2023-09-19T21:03:02.806012Z",
     "shell.execute_reply": "2023-09-19T21:03:02.804942Z"
    },
    "papermill": {
     "duration": 0.107332,
     "end_time": "2023-09-19T21:03:02.808594",
     "exception": false,
     "start_time": "2023-09-19T21:03:02.701262",
     "status": "completed"
    },
    "tags": []
   },
   "outputs": [],
   "source": [
    "train_count=len(glob.glob(train_path+'/**/*.JPG'))\n",
    "test_count=len(glob.glob(test_path+'/**/*.JPG'))"
   ]
  },
  {
   "cell_type": "code",
   "execution_count": 14,
   "id": "a7eaa22d",
   "metadata": {
    "execution": {
     "iopub.execute_input": "2023-09-19T21:03:02.827072Z",
     "iopub.status.busy": "2023-09-19T21:03:02.825275Z",
     "iopub.status.idle": "2023-09-19T21:03:02.831421Z",
     "shell.execute_reply": "2023-09-19T21:03:02.830378Z"
    },
    "papermill": {
     "duration": 0.018005,
     "end_time": "2023-09-19T21:03:02.834487",
     "exception": false,
     "start_time": "2023-09-19T21:03:02.816482",
     "status": "completed"
    },
    "tags": []
   },
   "outputs": [
    {
     "name": "stdout",
     "output_type": "stream",
     "text": [
      "18198 4555\n"
     ]
    }
   ],
   "source": [
    "print(train_count,test_count)"
   ]
  },
  {
   "cell_type": "code",
   "execution_count": 15,
   "id": "75000eab",
   "metadata": {
    "execution": {
     "iopub.execute_input": "2023-09-19T21:03:02.851040Z",
     "iopub.status.busy": "2023-09-19T21:03:02.850711Z",
     "iopub.status.idle": "2023-09-19T21:03:02.858333Z",
     "shell.execute_reply": "2023-09-19T21:03:02.857321Z"
    },
    "papermill": {
     "duration": 0.018084,
     "end_time": "2023-09-19T21:03:02.860249",
     "exception": false,
     "start_time": "2023-09-19T21:03:02.842165",
     "status": "completed"
    },
    "tags": []
   },
   "outputs": [],
   "source": [
    "best_accuracy = 0\n",
    "\n",
    "for epoch in range(num_epochs):\n",
    "    model.train()\n",
    "    model.eval()\n",
    "    "
   ]
  },
  {
   "cell_type": "code",
   "execution_count": 16,
   "id": "f45014b1",
   "metadata": {
    "execution": {
     "iopub.execute_input": "2023-09-19T21:03:02.877974Z",
     "iopub.status.busy": "2023-09-19T21:03:02.876521Z",
     "iopub.status.idle": "2023-09-19T21:03:02.882556Z",
     "shell.execute_reply": "2023-09-19T21:03:02.881217Z"
    },
    "papermill": {
     "duration": 0.016779,
     "end_time": "2023-09-19T21:03:02.884856",
     "exception": false,
     "start_time": "2023-09-19T21:03:02.868077",
     "status": "completed"
    },
    "tags": []
   },
   "outputs": [
    {
     "name": "stdout",
     "output_type": "stream",
     "text": [
      "1\n"
     ]
    }
   ],
   "source": [
    "if torch.cuda.is_available:\n",
    "    print(1)"
   ]
  },
  {
   "cell_type": "code",
   "execution_count": 17,
   "id": "8bec443e",
   "metadata": {
    "execution": {
     "iopub.execute_input": "2023-09-19T21:03:02.902949Z",
     "iopub.status.busy": "2023-09-19T21:03:02.902091Z",
     "iopub.status.idle": "2023-09-19T21:03:03.579529Z",
     "shell.execute_reply": "2023-09-19T21:03:03.578545Z"
    },
    "papermill": {
     "duration": 0.689216,
     "end_time": "2023-09-19T21:03:03.581954",
     "exception": false,
     "start_time": "2023-09-19T21:03:02.892738",
     "status": "completed"
    },
    "tags": []
   },
   "outputs": [],
   "source": [
    "import pandas as pd"
   ]
  },
  {
   "cell_type": "code",
   "execution_count": 18,
   "id": "de70c23c",
   "metadata": {
    "execution": {
     "iopub.execute_input": "2023-09-19T21:03:03.599233Z",
     "iopub.status.busy": "2023-09-19T21:03:03.598797Z",
     "iopub.status.idle": "2023-09-19T21:03:03.605846Z",
     "shell.execute_reply": "2023-09-19T21:03:03.604818Z"
    },
    "papermill": {
     "duration": 0.018089,
     "end_time": "2023-09-19T21:03:03.608006",
     "exception": false,
     "start_time": "2023-09-19T21:03:03.589917",
     "status": "completed"
    },
    "tags": []
   },
   "outputs": [],
   "source": [
    "result = pd.DataFrame()\n",
    "\n",
    "train_los = []\n",
    "test_ac = []\n",
    "train_ac = []"
   ]
  },
  {
   "cell_type": "code",
   "execution_count": 19,
   "id": "2047f85d",
   "metadata": {
    "execution": {
     "iopub.execute_input": "2023-09-19T21:03:03.625227Z",
     "iopub.status.busy": "2023-09-19T21:03:03.624431Z",
     "iopub.status.idle": "2023-09-19T21:35:18.576995Z",
     "shell.execute_reply": "2023-09-19T21:35:18.575961Z"
    },
    "papermill": {
     "duration": 1934.97284,
     "end_time": "2023-09-19T21:35:18.588713",
     "exception": false,
     "start_time": "2023-09-19T21:03:03.615873",
     "status": "completed"
    },
    "tags": []
   },
   "outputs": [
    {
     "name": "stdout",
     "output_type": "stream",
     "text": [
      "Epoch: 0 Train Loss: tensor(8.9377) Train Accuracy: 0.6108363556434773 Test Accuracy: 0.8019758507135016\n",
      "Epoch: 1 Train Loss: tensor(1.0198) Train Accuracy: 0.8485547862402462 Test Accuracy: 0.8373216245883645\n",
      "Epoch: 2 Train Loss: tensor(0.8935) Train Accuracy: 0.8724585119243873 Test Accuracy: 0.8621295279912184\n",
      "Epoch: 3 Train Loss: tensor(0.8226) Train Accuracy: 0.8855918232772833 Test Accuracy: 0.8537870472008782\n",
      "Epoch: 4 Train Loss: tensor(0.5451) Train Accuracy: 0.917408506429278 Test Accuracy: 0.8774972557628979\n",
      "Epoch: 5 Train Loss: tensor(0.6666) Train Accuracy: 0.9096054511484779 Test Accuracy: 0.8173435784851811\n",
      "Epoch: 6 Train Loss: tensor(0.4076) Train Accuracy: 0.9394438949335092 Test Accuracy: 0.9143798024149287\n",
      "Epoch: 7 Train Loss: tensor(0.3739) Train Accuracy: 0.9421914496098472 Test Accuracy: 0.873106476399561\n",
      "Epoch: 8 Train Loss: tensor(0.3942) Train Accuracy: 0.9440597867897571 Test Accuracy: 0.9071350164654226\n",
      "Epoch: 9 Train Loss: tensor(0.2570) Train Accuracy: 0.9610396746895263 Test Accuracy: 0.9113062568605927\n",
      "Epoch: 10 Train Loss: tensor(0.1881) Train Accuracy: 0.969172436531487 Test Accuracy: 0.9099890230515917\n",
      "Epoch: 11 Train Loss: tensor(0.1870) Train Accuracy: 0.969172436531487 Test Accuracy: 0.9055982436882547\n",
      "Epoch: 12 Train Loss: tensor(0.1785) Train Accuracy: 0.9749423013517969 Test Accuracy: 0.92403951701427\n",
      "Epoch: 13 Train Loss: tensor(0.1486) Train Accuracy: 0.9787339268051434 Test Accuracy: 0.9236004390779363\n",
      "Epoch: 14 Train Loss: tensor(0.1831) Train Accuracy: 0.9743927904165293 Test Accuracy: 0.9178924259055983\n",
      "Epoch: 15 Train Loss: tensor(0.2030) Train Accuracy: 0.9690625343444335 Test Accuracy: 0.9363336992316136\n",
      "Epoch: 16 Train Loss: tensor(0.1911) Train Accuracy: 0.9762061765029124 Test Accuracy: 0.9066959385290889\n",
      "Epoch: 17 Train Loss: tensor(0.1335) Train Accuracy: 0.9826904055390703 Test Accuracy: 0.937211855104281\n",
      "Epoch: 18 Train Loss: tensor(0.1175) Train Accuracy: 0.9846686449060337 Test Accuracy: 0.9154774972557629\n",
      "Epoch: 19 Train Loss: tensor(0.1315) Train Accuracy: 0.9828003077261237 Test Accuracy: 0.9073545554335894\n",
      "Epoch: 20 Train Loss: tensor(0.0892) Train Accuracy: 0.9896142433234422 Test Accuracy: 0.918331503841932\n",
      "Epoch: 21 Train Loss: tensor(0.1011) Train Accuracy: 0.9876360039564788 Test Accuracy: 0.9312843029637761\n",
      "Epoch: 22 Train Loss: tensor(0.0879) Train Accuracy: 0.990548411913397 Test Accuracy: 0.90801317233809\n",
      "Epoch: 23 Train Loss: tensor(0.0847) Train Accuracy: 0.9936256731508957 Test Accuracy: 0.9306256860592755\n",
      "Epoch: 24 Train Loss: tensor(0.0845) Train Accuracy: 0.9914276294098252 Test Accuracy: 0.9148188803512624\n"
     ]
    }
   ],
   "source": [
    "#Model training and saving best model\n",
    "\n",
    "best_accuracy=0.0\n",
    "\n",
    "for epoch in range(num_epochs):\n",
    "    \n",
    "    #Evaluation and training on training dataset\n",
    "    model.train()\n",
    "    train_accuracy=0.0\n",
    "    train_loss=0.0\n",
    "    \n",
    "    for i, (images,labels) in enumerate(train_loader):\n",
    "        if torch.cuda.is_available():\n",
    "            images=Variable(images.cuda())\n",
    "            labels=Variable(labels.cuda())\n",
    "            \n",
    "        optimizer.zero_grad()\n",
    "        \n",
    "        outputs=model(images)\n",
    "        loss=loss_function(outputs,labels)\n",
    "        loss.backward()\n",
    "        optimizer.step()\n",
    "        \n",
    "        \n",
    "        train_loss+= loss.cpu().data*images.size(0)\n",
    "        _,prediction=torch.max(outputs.data,1)\n",
    "        \n",
    "        train_accuracy+=int(torch.sum(prediction==labels.data))\n",
    "        \n",
    "    train_accuracy=train_accuracy/train_count\n",
    "    train_loss=train_loss/train_count\n",
    "    train_los.append(train_loss)\n",
    "    train_ac.append(train_accuracy)\n",
    "    \n",
    "    # Evaluation on testing dataset\n",
    "    model.eval()\n",
    "    \n",
    "    test_accuracy=0.0\n",
    "    for i, (images,labels) in enumerate(test_loader):\n",
    "        if torch.cuda.is_available():\n",
    "            images=Variable(images.cuda())\n",
    "            labels=Variable(labels.cuda())\n",
    "            \n",
    "        outputs=model(images)\n",
    "        _,prediction=torch.max(outputs.data,1)\n",
    "        test_accuracy+=int(torch.sum(prediction==labels.data))\n",
    "    \n",
    "    test_accuracy=test_accuracy/test_count\n",
    "    test_ac.append(test_accuracy)\n",
    "    \n",
    "    \n",
    "    print('Epoch: '+str(epoch)+' Train Loss: '+str(train_loss)+' Train Accuracy: '+str(train_accuracy)+' Test Accuracy: '+str(test_accuracy))\n",
    "    \n",
    "    #Save the best model\n",
    "    if test_accuracy>best_accuracy:\n",
    "        torch.save(model.state_dict(),'best_checkpoint.model')\n",
    "        best_accuracy=test_accuracy\n",
    "    "
   ]
  },
  {
   "cell_type": "code",
   "execution_count": 20,
   "id": "66f3e722",
   "metadata": {
    "execution": {
     "iopub.execute_input": "2023-09-19T21:35:18.609210Z",
     "iopub.status.busy": "2023-09-19T21:35:18.608904Z",
     "iopub.status.idle": "2023-09-19T21:35:18.622183Z",
     "shell.execute_reply": "2023-09-19T21:35:18.621148Z"
    },
    "papermill": {
     "duration": 0.026029,
     "end_time": "2023-09-19T21:35:18.624418",
     "exception": false,
     "start_time": "2023-09-19T21:35:18.598389",
     "status": "completed"
    },
    "tags": []
   },
   "outputs": [
    {
     "data": {
      "text/plain": [
       "[tensor(8.9377),\n",
       " tensor(1.0198),\n",
       " tensor(0.8935),\n",
       " tensor(0.8226),\n",
       " tensor(0.5451),\n",
       " tensor(0.6666),\n",
       " tensor(0.4076),\n",
       " tensor(0.3739),\n",
       " tensor(0.3942),\n",
       " tensor(0.2570),\n",
       " tensor(0.1881),\n",
       " tensor(0.1870),\n",
       " tensor(0.1785),\n",
       " tensor(0.1486),\n",
       " tensor(0.1831),\n",
       " tensor(0.2030),\n",
       " tensor(0.1911),\n",
       " tensor(0.1335),\n",
       " tensor(0.1175),\n",
       " tensor(0.1315),\n",
       " tensor(0.0892),\n",
       " tensor(0.1011),\n",
       " tensor(0.0879),\n",
       " tensor(0.0847),\n",
       " tensor(0.0845)]"
      ]
     },
     "execution_count": 20,
     "metadata": {},
     "output_type": "execute_result"
    }
   ],
   "source": [
    "train_los"
   ]
  },
  {
   "cell_type": "code",
   "execution_count": 21,
   "id": "59cec3b8",
   "metadata": {
    "execution": {
     "iopub.execute_input": "2023-09-19T21:35:18.645456Z",
     "iopub.status.busy": "2023-09-19T21:35:18.645157Z",
     "iopub.status.idle": "2023-09-19T21:35:18.651994Z",
     "shell.execute_reply": "2023-09-19T21:35:18.650900Z"
    },
    "papermill": {
     "duration": 0.019664,
     "end_time": "2023-09-19T21:35:18.654121",
     "exception": false,
     "start_time": "2023-09-19T21:35:18.634457",
     "status": "completed"
    },
    "tags": []
   },
   "outputs": [
    {
     "data": {
      "text/plain": [
       "[0.6108363556434773,\n",
       " 0.8485547862402462,\n",
       " 0.8724585119243873,\n",
       " 0.8855918232772833,\n",
       " 0.917408506429278,\n",
       " 0.9096054511484779,\n",
       " 0.9394438949335092,\n",
       " 0.9421914496098472,\n",
       " 0.9440597867897571,\n",
       " 0.9610396746895263,\n",
       " 0.969172436531487,\n",
       " 0.969172436531487,\n",
       " 0.9749423013517969,\n",
       " 0.9787339268051434,\n",
       " 0.9743927904165293,\n",
       " 0.9690625343444335,\n",
       " 0.9762061765029124,\n",
       " 0.9826904055390703,\n",
       " 0.9846686449060337,\n",
       " 0.9828003077261237,\n",
       " 0.9896142433234422,\n",
       " 0.9876360039564788,\n",
       " 0.990548411913397,\n",
       " 0.9936256731508957,\n",
       " 0.9914276294098252]"
      ]
     },
     "execution_count": 21,
     "metadata": {},
     "output_type": "execute_result"
    }
   ],
   "source": [
    "train_ac"
   ]
  },
  {
   "cell_type": "code",
   "execution_count": 22,
   "id": "f6b2fda1",
   "metadata": {
    "execution": {
     "iopub.execute_input": "2023-09-19T21:35:18.674493Z",
     "iopub.status.busy": "2023-09-19T21:35:18.674225Z",
     "iopub.status.idle": "2023-09-19T21:35:18.679982Z",
     "shell.execute_reply": "2023-09-19T21:35:18.679078Z"
    },
    "papermill": {
     "duration": 0.018212,
     "end_time": "2023-09-19T21:35:18.681924",
     "exception": false,
     "start_time": "2023-09-19T21:35:18.663712",
     "status": "completed"
    },
    "tags": []
   },
   "outputs": [
    {
     "data": {
      "text/plain": [
       "[0.8019758507135016,\n",
       " 0.8373216245883645,\n",
       " 0.8621295279912184,\n",
       " 0.8537870472008782,\n",
       " 0.8774972557628979,\n",
       " 0.8173435784851811,\n",
       " 0.9143798024149287,\n",
       " 0.873106476399561,\n",
       " 0.9071350164654226,\n",
       " 0.9113062568605927,\n",
       " 0.9099890230515917,\n",
       " 0.9055982436882547,\n",
       " 0.92403951701427,\n",
       " 0.9236004390779363,\n",
       " 0.9178924259055983,\n",
       " 0.9363336992316136,\n",
       " 0.9066959385290889,\n",
       " 0.937211855104281,\n",
       " 0.9154774972557629,\n",
       " 0.9073545554335894,\n",
       " 0.918331503841932,\n",
       " 0.9312843029637761,\n",
       " 0.90801317233809,\n",
       " 0.9306256860592755,\n",
       " 0.9148188803512624]"
      ]
     },
     "execution_count": 22,
     "metadata": {},
     "output_type": "execute_result"
    }
   ],
   "source": [
    "test_ac"
   ]
  },
  {
   "cell_type": "code",
   "execution_count": 23,
   "id": "294e5686",
   "metadata": {
    "execution": {
     "iopub.execute_input": "2023-09-19T21:35:18.703769Z",
     "iopub.status.busy": "2023-09-19T21:35:18.702985Z",
     "iopub.status.idle": "2023-09-19T21:35:18.714596Z",
     "shell.execute_reply": "2023-09-19T21:35:18.713716Z"
    },
    "papermill": {
     "duration": 0.024977,
     "end_time": "2023-09-19T21:35:18.716706",
     "exception": false,
     "start_time": "2023-09-19T21:35:18.691729",
     "status": "completed"
    },
    "tags": []
   },
   "outputs": [
    {
     "data": {
      "text/html": [
       "<div>\n",
       "<style scoped>\n",
       "    .dataframe tbody tr th:only-of-type {\n",
       "        vertical-align: middle;\n",
       "    }\n",
       "\n",
       "    .dataframe tbody tr th {\n",
       "        vertical-align: top;\n",
       "    }\n",
       "\n",
       "    .dataframe thead th {\n",
       "        text-align: right;\n",
       "    }\n",
       "</style>\n",
       "<table border=\"1\" class=\"dataframe\">\n",
       "  <thead>\n",
       "    <tr style=\"text-align: right;\">\n",
       "      <th></th>\n",
       "    </tr>\n",
       "  </thead>\n",
       "  <tbody>\n",
       "  </tbody>\n",
       "</table>\n",
       "</div>"
      ],
      "text/plain": [
       "Empty DataFrame\n",
       "Columns: []\n",
       "Index: []"
      ]
     },
     "execution_count": 23,
     "metadata": {},
     "output_type": "execute_result"
    }
   ],
   "source": [
    "result"
   ]
  },
  {
   "cell_type": "code",
   "execution_count": 24,
   "id": "cac7f425",
   "metadata": {
    "execution": {
     "iopub.execute_input": "2023-09-19T21:35:18.738229Z",
     "iopub.status.busy": "2023-09-19T21:35:18.737433Z",
     "iopub.status.idle": "2023-09-19T21:35:18.752446Z",
     "shell.execute_reply": "2023-09-19T21:35:18.751554Z"
    },
    "papermill": {
     "duration": 0.027927,
     "end_time": "2023-09-19T21:35:18.754486",
     "exception": false,
     "start_time": "2023-09-19T21:35:18.726559",
     "status": "completed"
    },
    "tags": []
   },
   "outputs": [],
   "source": [
    "result['Train_acc'] = train_ac\n",
    "result['Test_acc'] = test_ac\n",
    "result['Train_loss'] = train_los"
   ]
  },
  {
   "cell_type": "code",
   "execution_count": 25,
   "id": "1eca6e4b",
   "metadata": {
    "execution": {
     "iopub.execute_input": "2023-09-19T21:35:18.776004Z",
     "iopub.status.busy": "2023-09-19T21:35:18.775667Z",
     "iopub.status.idle": "2023-09-19T21:35:18.801346Z",
     "shell.execute_reply": "2023-09-19T21:35:18.800470Z"
    },
    "papermill": {
     "duration": 0.038935,
     "end_time": "2023-09-19T21:35:18.803440",
     "exception": false,
     "start_time": "2023-09-19T21:35:18.764505",
     "status": "completed"
    },
    "tags": []
   },
   "outputs": [
    {
     "data": {
      "text/html": [
       "<div>\n",
       "<style scoped>\n",
       "    .dataframe tbody tr th:only-of-type {\n",
       "        vertical-align: middle;\n",
       "    }\n",
       "\n",
       "    .dataframe tbody tr th {\n",
       "        vertical-align: top;\n",
       "    }\n",
       "\n",
       "    .dataframe thead th {\n",
       "        text-align: right;\n",
       "    }\n",
       "</style>\n",
       "<table border=\"1\" class=\"dataframe\">\n",
       "  <thead>\n",
       "    <tr style=\"text-align: right;\">\n",
       "      <th></th>\n",
       "      <th>Train_acc</th>\n",
       "      <th>Test_acc</th>\n",
       "      <th>Train_loss</th>\n",
       "    </tr>\n",
       "  </thead>\n",
       "  <tbody>\n",
       "    <tr>\n",
       "      <th>0</th>\n",
       "      <td>0.610836</td>\n",
       "      <td>0.801976</td>\n",
       "      <td>tensor(8.9377)</td>\n",
       "    </tr>\n",
       "    <tr>\n",
       "      <th>1</th>\n",
       "      <td>0.848555</td>\n",
       "      <td>0.837322</td>\n",
       "      <td>tensor(1.0198)</td>\n",
       "    </tr>\n",
       "    <tr>\n",
       "      <th>2</th>\n",
       "      <td>0.872459</td>\n",
       "      <td>0.862130</td>\n",
       "      <td>tensor(0.8935)</td>\n",
       "    </tr>\n",
       "    <tr>\n",
       "      <th>3</th>\n",
       "      <td>0.885592</td>\n",
       "      <td>0.853787</td>\n",
       "      <td>tensor(0.8226)</td>\n",
       "    </tr>\n",
       "    <tr>\n",
       "      <th>4</th>\n",
       "      <td>0.917409</td>\n",
       "      <td>0.877497</td>\n",
       "      <td>tensor(0.5451)</td>\n",
       "    </tr>\n",
       "    <tr>\n",
       "      <th>5</th>\n",
       "      <td>0.909605</td>\n",
       "      <td>0.817344</td>\n",
       "      <td>tensor(0.6666)</td>\n",
       "    </tr>\n",
       "    <tr>\n",
       "      <th>6</th>\n",
       "      <td>0.939444</td>\n",
       "      <td>0.914380</td>\n",
       "      <td>tensor(0.4076)</td>\n",
       "    </tr>\n",
       "    <tr>\n",
       "      <th>7</th>\n",
       "      <td>0.942191</td>\n",
       "      <td>0.873106</td>\n",
       "      <td>tensor(0.3739)</td>\n",
       "    </tr>\n",
       "    <tr>\n",
       "      <th>8</th>\n",
       "      <td>0.944060</td>\n",
       "      <td>0.907135</td>\n",
       "      <td>tensor(0.3942)</td>\n",
       "    </tr>\n",
       "    <tr>\n",
       "      <th>9</th>\n",
       "      <td>0.961040</td>\n",
       "      <td>0.911306</td>\n",
       "      <td>tensor(0.2570)</td>\n",
       "    </tr>\n",
       "    <tr>\n",
       "      <th>10</th>\n",
       "      <td>0.969172</td>\n",
       "      <td>0.909989</td>\n",
       "      <td>tensor(0.1881)</td>\n",
       "    </tr>\n",
       "    <tr>\n",
       "      <th>11</th>\n",
       "      <td>0.969172</td>\n",
       "      <td>0.905598</td>\n",
       "      <td>tensor(0.1870)</td>\n",
       "    </tr>\n",
       "    <tr>\n",
       "      <th>12</th>\n",
       "      <td>0.974942</td>\n",
       "      <td>0.924040</td>\n",
       "      <td>tensor(0.1785)</td>\n",
       "    </tr>\n",
       "    <tr>\n",
       "      <th>13</th>\n",
       "      <td>0.978734</td>\n",
       "      <td>0.923600</td>\n",
       "      <td>tensor(0.1486)</td>\n",
       "    </tr>\n",
       "    <tr>\n",
       "      <th>14</th>\n",
       "      <td>0.974393</td>\n",
       "      <td>0.917892</td>\n",
       "      <td>tensor(0.1831)</td>\n",
       "    </tr>\n",
       "    <tr>\n",
       "      <th>15</th>\n",
       "      <td>0.969063</td>\n",
       "      <td>0.936334</td>\n",
       "      <td>tensor(0.2030)</td>\n",
       "    </tr>\n",
       "    <tr>\n",
       "      <th>16</th>\n",
       "      <td>0.976206</td>\n",
       "      <td>0.906696</td>\n",
       "      <td>tensor(0.1911)</td>\n",
       "    </tr>\n",
       "    <tr>\n",
       "      <th>17</th>\n",
       "      <td>0.982690</td>\n",
       "      <td>0.937212</td>\n",
       "      <td>tensor(0.1335)</td>\n",
       "    </tr>\n",
       "    <tr>\n",
       "      <th>18</th>\n",
       "      <td>0.984669</td>\n",
       "      <td>0.915477</td>\n",
       "      <td>tensor(0.1175)</td>\n",
       "    </tr>\n",
       "    <tr>\n",
       "      <th>19</th>\n",
       "      <td>0.982800</td>\n",
       "      <td>0.907355</td>\n",
       "      <td>tensor(0.1315)</td>\n",
       "    </tr>\n",
       "    <tr>\n",
       "      <th>20</th>\n",
       "      <td>0.989614</td>\n",
       "      <td>0.918332</td>\n",
       "      <td>tensor(0.0892)</td>\n",
       "    </tr>\n",
       "    <tr>\n",
       "      <th>21</th>\n",
       "      <td>0.987636</td>\n",
       "      <td>0.931284</td>\n",
       "      <td>tensor(0.1011)</td>\n",
       "    </tr>\n",
       "    <tr>\n",
       "      <th>22</th>\n",
       "      <td>0.990548</td>\n",
       "      <td>0.908013</td>\n",
       "      <td>tensor(0.0879)</td>\n",
       "    </tr>\n",
       "    <tr>\n",
       "      <th>23</th>\n",
       "      <td>0.993626</td>\n",
       "      <td>0.930626</td>\n",
       "      <td>tensor(0.0847)</td>\n",
       "    </tr>\n",
       "    <tr>\n",
       "      <th>24</th>\n",
       "      <td>0.991428</td>\n",
       "      <td>0.914819</td>\n",
       "      <td>tensor(0.0845)</td>\n",
       "    </tr>\n",
       "  </tbody>\n",
       "</table>\n",
       "</div>"
      ],
      "text/plain": [
       "    Train_acc  Test_acc      Train_loss\n",
       "0    0.610836  0.801976  tensor(8.9377)\n",
       "1    0.848555  0.837322  tensor(1.0198)\n",
       "2    0.872459  0.862130  tensor(0.8935)\n",
       "3    0.885592  0.853787  tensor(0.8226)\n",
       "4    0.917409  0.877497  tensor(0.5451)\n",
       "5    0.909605  0.817344  tensor(0.6666)\n",
       "6    0.939444  0.914380  tensor(0.4076)\n",
       "7    0.942191  0.873106  tensor(0.3739)\n",
       "8    0.944060  0.907135  tensor(0.3942)\n",
       "9    0.961040  0.911306  tensor(0.2570)\n",
       "10   0.969172  0.909989  tensor(0.1881)\n",
       "11   0.969172  0.905598  tensor(0.1870)\n",
       "12   0.974942  0.924040  tensor(0.1785)\n",
       "13   0.978734  0.923600  tensor(0.1486)\n",
       "14   0.974393  0.917892  tensor(0.1831)\n",
       "15   0.969063  0.936334  tensor(0.2030)\n",
       "16   0.976206  0.906696  tensor(0.1911)\n",
       "17   0.982690  0.937212  tensor(0.1335)\n",
       "18   0.984669  0.915477  tensor(0.1175)\n",
       "19   0.982800  0.907355  tensor(0.1315)\n",
       "20   0.989614  0.918332  tensor(0.0892)\n",
       "21   0.987636  0.931284  tensor(0.1011)\n",
       "22   0.990548  0.908013  tensor(0.0879)\n",
       "23   0.993626  0.930626  tensor(0.0847)\n",
       "24   0.991428  0.914819  tensor(0.0845)"
      ]
     },
     "execution_count": 25,
     "metadata": {},
     "output_type": "execute_result"
    }
   ],
   "source": [
    "result"
   ]
  },
  {
   "cell_type": "code",
   "execution_count": 26,
   "id": "ee68b761",
   "metadata": {
    "execution": {
     "iopub.execute_input": "2023-09-19T21:35:18.825339Z",
     "iopub.status.busy": "2023-09-19T21:35:18.825072Z",
     "iopub.status.idle": "2023-09-19T21:35:19.178782Z",
     "shell.execute_reply": "2023-09-19T21:35:19.177696Z"
    },
    "papermill": {
     "duration": 0.366957,
     "end_time": "2023-09-19T21:35:19.180846",
     "exception": false,
     "start_time": "2023-09-19T21:35:18.813889",
     "status": "completed"
    },
    "tags": []
   },
   "outputs": [
    {
     "data": {
      "text/plain": [
       "<Axes: >"
      ]
     },
     "execution_count": 26,
     "metadata": {},
     "output_type": "execute_result"
    },
    {
     "data": {
      "image/png": "[encoded data removed]",
      "text/plain": [
       "<Figure size 1000x400 with 1 Axes>"
      ]
     },
     "metadata": {},
     "output_type": "display_data"
    }
   ],
   "source": [
    "result[['Train_acc','Test_acc' ]].plot(figsize=(10,4))"
   ]
  },
  {
   "cell_type": "code",
   "execution_count": null,
   "id": "d33d1aea",
   "metadata": {
    "papermill": {
     "duration": 0.010772,
     "end_time": "2023-09-19T21:35:19.203056",
     "exception": false,
     "start_time": "2023-09-19T21:35:19.192284",
     "status": "completed"
    },
    "tags": []
   },
   "outputs": [],
   "source": []
  }
 ],
 "metadata": {
  "kernelspec": {
   "display_name": "Python 3",
   "language": "python",
   "name": "python3"
  },
  "language_info": {
   "codemirror_mode": {
    "name": "ipython",
    "version": 3
   },
   "file_extension": ".py",
   "mimetype": "text/x-python",
   "name": "python",
   "nbconvert_exporter": "python",
   "pygments_lexer": "ipython3",
   "version": "3.10.12"
  },
  "papermill": {
   "default_parameters": {},
   "duration": 1960.178146,
   "end_time": "2023-09-19T21:35:20.943423",
   "environment_variables": {},
   "exception": null,
   "input_path": "__notebook__.ipynb",
   "output_path": "__notebook__.ipynb",
   "parameters": {},
   "start_time": "2023-09-19T21:02:40.765277",
   "version": "2.4.0"
  }
 },
 "nbformat": 4,
 "nbformat_minor": 5
}
