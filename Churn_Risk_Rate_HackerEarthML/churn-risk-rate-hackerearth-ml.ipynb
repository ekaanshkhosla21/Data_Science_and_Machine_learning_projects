{
 "cells": [
  {
   "cell_type": "code",
   "execution_count": 1,
   "id": "gentle-cabin",
   "metadata": {
    "_cell_guid": "b1076dfc-b9ad-4769-8c92-a6c4dae69d19",
    "_uuid": "8f2839f25d086af736a60e9eeb907d3b93b6e0e5",
    "execution": {
     "iopub.execute_input": "2021-04-15T12:15:09.130658Z",
     "iopub.status.busy": "2021-04-15T12:15:09.129979Z",
     "iopub.status.idle": "2021-04-15T12:15:10.983194Z",
     "shell.execute_reply": "2021-04-15T12:15:10.982340Z"
    },
    "papermill": {
     "duration": 1.892443,
     "end_time": "2021-04-15T12:15:10.983366",
     "exception": false,
     "start_time": "2021-04-15T12:15:09.090923",
     "status": "completed"
    },
    "tags": []
   },
   "outputs": [],
   "source": [
    "import pandas as pd\n",
    "import numpy as np\n",
    "from sklearn.ensemble import RandomForestClassifier\n",
    "from sklearn.model_selection import train_test_split\n",
    "from sklearn.metrics import *\n",
    "import catboost\n",
    "import seaborn as sns\n",
    "from sklearn.model_selection import RandomizedSearchCV"
   ]
  },
  {
   "cell_type": "code",
   "execution_count": 2,
   "id": "established-visiting",
   "metadata": {
    "execution": {
     "iopub.execute_input": "2021-04-15T12:15:11.047950Z",
     "iopub.status.busy": "2021-04-15T12:15:11.047287Z",
     "iopub.status.idle": "2021-04-15T12:15:11.512191Z",
     "shell.execute_reply": "2021-04-15T12:15:11.512727Z"
    },
    "papermill": {
     "duration": 0.499948,
     "end_time": "2021-04-15T12:15:11.512906",
     "exception": false,
     "start_time": "2021-04-15T12:15:11.012958",
     "status": "completed"
    },
    "tags": []
   },
   "outputs": [
    {
     "data": {
      "text/html": [
       "<div>\n",
       "<style scoped>\n",
       "    .dataframe tbody tr th:only-of-type {\n",
       "        vertical-align: middle;\n",
       "    }\n",
       "\n",
       "    .dataframe tbody tr th {\n",
       "        vertical-align: top;\n",
       "    }\n",
       "\n",
       "    .dataframe thead th {\n",
       "        text-align: right;\n",
       "    }\n",
       "</style>\n",
       "<table border=\"1\" class=\"dataframe\">\n",
       "  <thead>\n",
       "    <tr style=\"text-align: right;\">\n",
       "      <th></th>\n",
       "      <th>customer_id</th>\n",
       "      <th>Name</th>\n",
       "      <th>age</th>\n",
       "      <th>gender</th>\n",
       "      <th>security_no</th>\n",
       "      <th>region_category</th>\n",
       "      <th>membership_category</th>\n",
       "      <th>joining_date</th>\n",
       "      <th>joined_through_referral</th>\n",
       "      <th>referral_id</th>\n",
       "      <th>...</th>\n",
       "      <th>avg_time_spent</th>\n",
       "      <th>avg_transaction_value</th>\n",
       "      <th>avg_frequency_login_days</th>\n",
       "      <th>points_in_wallet</th>\n",
       "      <th>used_special_discount</th>\n",
       "      <th>offer_application_preference</th>\n",
       "      <th>past_complaint</th>\n",
       "      <th>complaint_status</th>\n",
       "      <th>feedback</th>\n",
       "      <th>churn_risk_score</th>\n",
       "    </tr>\n",
       "  </thead>\n",
       "  <tbody>\n",
       "    <tr>\n",
       "      <th>0</th>\n",
       "      <td>fffe4300490044003600300030003800</td>\n",
       "      <td>Pattie Morrisey</td>\n",
       "      <td>18</td>\n",
       "      <td>F</td>\n",
       "      <td>XW0DQ7H</td>\n",
       "      <td>Village</td>\n",
       "      <td>Platinum Membership</td>\n",
       "      <td>2017-08-17</td>\n",
       "      <td>No</td>\n",
       "      <td>NaN</td>\n",
       "      <td>...</td>\n",
       "      <td>300.63</td>\n",
       "      <td>53005.25</td>\n",
       "      <td>17.0</td>\n",
       "      <td>781.75</td>\n",
       "      <td>Yes</td>\n",
       "      <td>Yes</td>\n",
       "      <td>No</td>\n",
       "      <td>Not Applicable</td>\n",
       "      <td>Products always in Stock</td>\n",
       "      <td>2</td>\n",
       "    </tr>\n",
       "    <tr>\n",
       "      <th>1</th>\n",
       "      <td>fffe43004900440032003100300035003700</td>\n",
       "      <td>Traci Peery</td>\n",
       "      <td>32</td>\n",
       "      <td>F</td>\n",
       "      <td>5K0N3X1</td>\n",
       "      <td>City</td>\n",
       "      <td>Premium Membership</td>\n",
       "      <td>2017-08-28</td>\n",
       "      <td>NaN</td>\n",
       "      <td>CID21329</td>\n",
       "      <td>...</td>\n",
       "      <td>306.34</td>\n",
       "      <td>12838.38</td>\n",
       "      <td>10.0</td>\n",
       "      <td>NaN</td>\n",
       "      <td>Yes</td>\n",
       "      <td>No</td>\n",
       "      <td>Yes</td>\n",
       "      <td>Solved</td>\n",
       "      <td>Quality Customer Care</td>\n",
       "      <td>1</td>\n",
       "    </tr>\n",
       "    <tr>\n",
       "      <th>2</th>\n",
       "      <td>fffe4300490044003100390032003600</td>\n",
       "      <td>Merideth Mcmeen</td>\n",
       "      <td>44</td>\n",
       "      <td>F</td>\n",
       "      <td>1F2TCL3</td>\n",
       "      <td>Town</td>\n",
       "      <td>No Membership</td>\n",
       "      <td>2016-11-11</td>\n",
       "      <td>Yes</td>\n",
       "      <td>CID12313</td>\n",
       "      <td>...</td>\n",
       "      <td>516.16</td>\n",
       "      <td>21027.00</td>\n",
       "      <td>22.0</td>\n",
       "      <td>500.69</td>\n",
       "      <td>No</td>\n",
       "      <td>Yes</td>\n",
       "      <td>Yes</td>\n",
       "      <td>Solved in Follow-up</td>\n",
       "      <td>Poor Website</td>\n",
       "      <td>5</td>\n",
       "    </tr>\n",
       "    <tr>\n",
       "      <th>3</th>\n",
       "      <td>fffe43004900440036003000330031003600</td>\n",
       "      <td>Eufemia Cardwell</td>\n",
       "      <td>37</td>\n",
       "      <td>M</td>\n",
       "      <td>VJGJ33N</td>\n",
       "      <td>City</td>\n",
       "      <td>No Membership</td>\n",
       "      <td>2016-10-29</td>\n",
       "      <td>Yes</td>\n",
       "      <td>CID3793</td>\n",
       "      <td>...</td>\n",
       "      <td>53.27</td>\n",
       "      <td>25239.56</td>\n",
       "      <td>6.0</td>\n",
       "      <td>567.66</td>\n",
       "      <td>No</td>\n",
       "      <td>Yes</td>\n",
       "      <td>Yes</td>\n",
       "      <td>Unsolved</td>\n",
       "      <td>Poor Website</td>\n",
       "      <td>5</td>\n",
       "    </tr>\n",
       "    <tr>\n",
       "      <th>4</th>\n",
       "      <td>fffe43004900440031003900350030003600</td>\n",
       "      <td>Meghan Kosak</td>\n",
       "      <td>31</td>\n",
       "      <td>F</td>\n",
       "      <td>SVZXCWB</td>\n",
       "      <td>City</td>\n",
       "      <td>No Membership</td>\n",
       "      <td>2017-09-12</td>\n",
       "      <td>No</td>\n",
       "      <td>NaN</td>\n",
       "      <td>...</td>\n",
       "      <td>113.13</td>\n",
       "      <td>24483.66</td>\n",
       "      <td>16.0</td>\n",
       "      <td>663.06</td>\n",
       "      <td>No</td>\n",
       "      <td>Yes</td>\n",
       "      <td>Yes</td>\n",
       "      <td>Solved</td>\n",
       "      <td>Poor Website</td>\n",
       "      <td>5</td>\n",
       "    </tr>\n",
       "  </tbody>\n",
       "</table>\n",
       "<p>5 rows × 25 columns</p>\n",
       "</div>"
      ],
      "text/plain": [
       "                            customer_id              Name  age gender  \\\n",
       "0      fffe4300490044003600300030003800   Pattie Morrisey   18      F   \n",
       "1  fffe43004900440032003100300035003700       Traci Peery   32      F   \n",
       "2      fffe4300490044003100390032003600   Merideth Mcmeen   44      F   \n",
       "3  fffe43004900440036003000330031003600  Eufemia Cardwell   37      M   \n",
       "4  fffe43004900440031003900350030003600      Meghan Kosak   31      F   \n",
       "\n",
       "  security_no region_category  membership_category joining_date  \\\n",
       "0     XW0DQ7H         Village  Platinum Membership   2017-08-17   \n",
       "1     5K0N3X1            City   Premium Membership   2017-08-28   \n",
       "2     1F2TCL3            Town        No Membership   2016-11-11   \n",
       "3     VJGJ33N            City        No Membership   2016-10-29   \n",
       "4     SVZXCWB            City        No Membership   2017-09-12   \n",
       "\n",
       "  joined_through_referral referral_id  ... avg_time_spent  \\\n",
       "0                      No         NaN  ...         300.63   \n",
       "1                     NaN    CID21329  ...         306.34   \n",
       "2                     Yes    CID12313  ...         516.16   \n",
       "3                     Yes     CID3793  ...          53.27   \n",
       "4                      No         NaN  ...         113.13   \n",
       "\n",
       "  avg_transaction_value avg_frequency_login_days points_in_wallet  \\\n",
       "0              53005.25                     17.0           781.75   \n",
       "1              12838.38                     10.0              NaN   \n",
       "2              21027.00                     22.0           500.69   \n",
       "3              25239.56                      6.0           567.66   \n",
       "4              24483.66                     16.0           663.06   \n",
       "\n",
       "   used_special_discount  offer_application_preference  past_complaint  \\\n",
       "0                    Yes                           Yes              No   \n",
       "1                    Yes                            No             Yes   \n",
       "2                     No                           Yes             Yes   \n",
       "3                     No                           Yes             Yes   \n",
       "4                     No                           Yes             Yes   \n",
       "\n",
       "      complaint_status                  feedback churn_risk_score  \n",
       "0       Not Applicable  Products always in Stock                2  \n",
       "1               Solved     Quality Customer Care                1  \n",
       "2  Solved in Follow-up              Poor Website                5  \n",
       "3             Unsolved              Poor Website                5  \n",
       "4               Solved              Poor Website                5  \n",
       "\n",
       "[5 rows x 25 columns]"
      ]
     },
     "execution_count": 2,
     "metadata": {},
     "output_type": "execute_result"
    }
   ],
   "source": [
    "df=pd.read_csv('../input/churn-risk-rate-hackerearth-ml/train.csv',na_values=['?','-999','Error','xxxxxxxx'])\n",
    "df.head()"
   ]
  },
  {
   "cell_type": "code",
   "execution_count": 3,
   "id": "cultural-assumption",
   "metadata": {
    "execution": {
     "iopub.execute_input": "2021-04-15T12:15:11.583656Z",
     "iopub.status.busy": "2021-04-15T12:15:11.582525Z",
     "iopub.status.idle": "2021-04-15T12:15:11.674292Z",
     "shell.execute_reply": "2021-04-15T12:15:11.673593Z"
    },
    "papermill": {
     "duration": 0.129581,
     "end_time": "2021-04-15T12:15:11.674439",
     "exception": false,
     "start_time": "2021-04-15T12:15:11.544858",
     "status": "completed"
    },
    "tags": []
   },
   "outputs": [
    {
     "data": {
      "text/plain": [
       "customer_id                         0\n",
       "Name                                0\n",
       "age                                 0\n",
       "gender                              0\n",
       "security_no                         0\n",
       "region_category                  5428\n",
       "membership_category                 0\n",
       "joining_date                        0\n",
       "joined_through_referral          5438\n",
       "referral_id                     17846\n",
       "preferred_offer_types             288\n",
       "medium_of_operation              5393\n",
       "internet_option                     0\n",
       "last_visit_time                     0\n",
       "days_since_last_login            1999\n",
       "avg_time_spent                      0\n",
       "avg_transaction_value               0\n",
       "avg_frequency_login_days         3522\n",
       "points_in_wallet                 3443\n",
       "used_special_discount               0\n",
       "offer_application_preference        0\n",
       "past_complaint                      0\n",
       "complaint_status                    0\n",
       "feedback                            0\n",
       "churn_risk_score                    0\n",
       "dtype: int64"
      ]
     },
     "execution_count": 3,
     "metadata": {},
     "output_type": "execute_result"
    }
   ],
   "source": [
    "df.isnull().sum()"
   ]
  },
  {
   "cell_type": "code",
   "execution_count": 4,
   "id": "several-screw",
   "metadata": {
    "execution": {
     "iopub.execute_input": "2021-04-15T12:15:11.741034Z",
     "iopub.status.busy": "2021-04-15T12:15:11.740330Z",
     "iopub.status.idle": "2021-04-15T12:15:13.030533Z",
     "shell.execute_reply": "2021-04-15T12:15:13.031092Z"
    },
    "papermill": {
     "duration": 1.326332,
     "end_time": "2021-04-15T12:15:13.031339",
     "exception": false,
     "start_time": "2021-04-15T12:15:11.705007",
     "status": "completed"
    },
    "tags": []
   },
   "outputs": [],
   "source": [
    "import pandas_profiling"
   ]
  },
  {
   "cell_type": "code",
   "execution_count": 5,
   "id": "stupid-civilization",
   "metadata": {
    "execution": {
     "iopub.execute_input": "2021-04-15T12:15:13.097503Z",
     "iopub.status.busy": "2021-04-15T12:15:13.096818Z",
     "iopub.status.idle": "2021-04-15T12:15:13.101067Z",
     "shell.execute_reply": "2021-04-15T12:15:13.100459Z"
    },
    "papermill": {
     "duration": 0.039232,
     "end_time": "2021-04-15T12:15:13.101241",
     "exception": false,
     "start_time": "2021-04-15T12:15:13.062009",
     "status": "completed"
    },
    "tags": []
   },
   "outputs": [],
   "source": [
    "# df.profile_report()"
   ]
  },
  {
   "cell_type": "code",
   "execution_count": 6,
   "id": "removable-string",
   "metadata": {
    "execution": {
     "iopub.execute_input": "2021-04-15T12:15:13.229982Z",
     "iopub.status.busy": "2021-04-15T12:15:13.167324Z",
     "iopub.status.idle": "2021-04-15T12:15:13.239314Z",
     "shell.execute_reply": "2021-04-15T12:15:13.239774Z"
    },
    "papermill": {
     "duration": 0.107657,
     "end_time": "2021-04-15T12:15:13.239963",
     "exception": false,
     "start_time": "2021-04-15T12:15:13.132306",
     "status": "completed"
    },
    "tags": []
   },
   "outputs": [
    {
     "data": {
      "text/plain": [
       "customer_id                         0\n",
       "Name                                0\n",
       "age                                 0\n",
       "gender                              0\n",
       "security_no                         0\n",
       "region_category                  5428\n",
       "membership_category                 0\n",
       "joining_date                        0\n",
       "joined_through_referral          5438\n",
       "referral_id                     17846\n",
       "preferred_offer_types             288\n",
       "medium_of_operation              5393\n",
       "internet_option                     0\n",
       "last_visit_time                     0\n",
       "days_since_last_login            1999\n",
       "avg_time_spent                      0\n",
       "avg_transaction_value               0\n",
       "avg_frequency_login_days         3522\n",
       "points_in_wallet                 3443\n",
       "used_special_discount               0\n",
       "offer_application_preference        0\n",
       "past_complaint                      0\n",
       "complaint_status                    0\n",
       "feedback                            0\n",
       "churn_risk_score                    0\n",
       "dtype: int64"
      ]
     },
     "execution_count": 6,
     "metadata": {},
     "output_type": "execute_result"
    }
   ],
   "source": [
    "df.isnull().sum()"
   ]
  },
  {
   "cell_type": "code",
   "execution_count": 7,
   "id": "honey-contrary",
   "metadata": {
    "execution": {
     "iopub.execute_input": "2021-04-15T12:15:13.309067Z",
     "iopub.status.busy": "2021-04-15T12:15:13.306896Z",
     "iopub.status.idle": "2021-04-15T12:15:13.471018Z",
     "shell.execute_reply": "2021-04-15T12:15:13.470381Z"
    },
    "papermill": {
     "duration": 0.199836,
     "end_time": "2021-04-15T12:15:13.471176",
     "exception": false,
     "start_time": "2021-04-15T12:15:13.271340",
     "status": "completed"
    },
    "tags": []
   },
   "outputs": [
    {
     "data": {
      "text/plain": [
       "customer_id                     36992\n",
       "Name                            36992\n",
       "age                                55\n",
       "gender                              3\n",
       "security_no                     36992\n",
       "region_category                     3\n",
       "membership_category                 6\n",
       "joining_date                     1096\n",
       "joined_through_referral             2\n",
       "referral_id                     11358\n",
       "preferred_offer_types               3\n",
       "medium_of_operation                 3\n",
       "internet_option                     3\n",
       "last_visit_time                 30101\n",
       "days_since_last_login              26\n",
       "avg_time_spent                  25961\n",
       "avg_transaction_value           36894\n",
       "avg_frequency_login_days         1653\n",
       "points_in_wallet                23699\n",
       "used_special_discount               2\n",
       "offer_application_preference        2\n",
       "past_complaint                      2\n",
       "complaint_status                    5\n",
       "feedback                            9\n",
       "churn_risk_score                    6\n",
       "dtype: int64"
      ]
     },
     "execution_count": 7,
     "metadata": {},
     "output_type": "execute_result"
    }
   ],
   "source": [
    "df.nunique()"
   ]
  },
  {
   "cell_type": "code",
   "execution_count": 8,
   "id": "smooth-samba",
   "metadata": {
    "execution": {
     "iopub.execute_input": "2021-04-15T12:15:13.542461Z",
     "iopub.status.busy": "2021-04-15T12:15:13.541423Z",
     "iopub.status.idle": "2021-04-15T12:15:13.548321Z",
     "shell.execute_reply": "2021-04-15T12:15:13.547618Z"
    },
    "papermill": {
     "duration": 0.045221,
     "end_time": "2021-04-15T12:15:13.548461",
     "exception": false,
     "start_time": "2021-04-15T12:15:13.503240",
     "status": "completed"
    },
    "tags": []
   },
   "outputs": [],
   "source": [
    "df=df.drop(['customer_id','Name','security_no','referral_id','last_visit_time'],axis=1)"
   ]
  },
  {
   "cell_type": "code",
   "execution_count": 9,
   "id": "personalized-validity",
   "metadata": {
    "execution": {
     "iopub.execute_input": "2021-04-15T12:15:13.616242Z",
     "iopub.status.busy": "2021-04-15T12:15:13.615279Z",
     "iopub.status.idle": "2021-04-15T12:15:13.629434Z",
     "shell.execute_reply": "2021-04-15T12:15:13.628862Z"
    },
    "papermill": {
     "duration": 0.049101,
     "end_time": "2021-04-15T12:15:13.629575",
     "exception": false,
     "start_time": "2021-04-15T12:15:13.580474",
     "status": "completed"
    },
    "tags": []
   },
   "outputs": [
    {
     "data": {
      "text/plain": [
       " 3    10424\n",
       " 4    10185\n",
       " 5     9827\n",
       " 2     2741\n",
       " 1     2652\n",
       "-1     1163\n",
       "Name: churn_risk_score, dtype: int64"
      ]
     },
     "execution_count": 9,
     "metadata": {},
     "output_type": "execute_result"
    }
   ],
   "source": [
    "df['churn_risk_score'].value_counts()"
   ]
  },
  {
   "cell_type": "code",
   "execution_count": 10,
   "id": "personalized-closer",
   "metadata": {
    "execution": {
     "iopub.execute_input": "2021-04-15T12:15:13.698373Z",
     "iopub.status.busy": "2021-04-15T12:15:13.697373Z",
     "iopub.status.idle": "2021-04-15T12:15:13.722971Z",
     "shell.execute_reply": "2021-04-15T12:15:13.723525Z"
    },
    "papermill": {
     "duration": 0.062308,
     "end_time": "2021-04-15T12:15:13.723702",
     "exception": false,
     "start_time": "2021-04-15T12:15:13.661394",
     "status": "completed"
    },
    "tags": []
   },
   "outputs": [],
   "source": [
    "def fillNan(df, col, value):\n",
    "    df[col].fillna(value, inplace=True)\n",
    "    \n",
    "fillNan(df, 'region_category', df['region_category'].mode()[0])\n",
    "fillNan(df, 'points_in_wallet', df['points_in_wallet'].mean())\n",
    "fillNan(df, 'preferred_offer_types', df['preferred_offer_types'].mode()[0])\n",
    "# fillNan(df, 'joined_through_referral', 'No')\n",
    "# fillNan(df, 'medium_of_operation', 'Desktop')"
   ]
  },
  {
   "cell_type": "code",
   "execution_count": 11,
   "id": "positive-state",
   "metadata": {
    "execution": {
     "iopub.execute_input": "2021-04-15T12:15:13.792585Z",
     "iopub.status.busy": "2021-04-15T12:15:13.791591Z",
     "iopub.status.idle": "2021-04-15T12:15:13.848090Z",
     "shell.execute_reply": "2021-04-15T12:15:13.847505Z"
    },
    "papermill": {
     "duration": 0.092235,
     "end_time": "2021-04-15T12:15:13.848260",
     "exception": false,
     "start_time": "2021-04-15T12:15:13.756025",
     "status": "completed"
    },
    "tags": []
   },
   "outputs": [
    {
     "data": {
      "text/plain": [
       "age                                0\n",
       "gender                             0\n",
       "region_category                    0\n",
       "membership_category                0\n",
       "joining_date                       0\n",
       "joined_through_referral         5438\n",
       "preferred_offer_types              0\n",
       "medium_of_operation             5393\n",
       "internet_option                    0\n",
       "days_since_last_login           1999\n",
       "avg_time_spent                     0\n",
       "avg_transaction_value              0\n",
       "avg_frequency_login_days        3522\n",
       "points_in_wallet                   0\n",
       "used_special_discount              0\n",
       "offer_application_preference       0\n",
       "past_complaint                     0\n",
       "complaint_status                   0\n",
       "feedback                           0\n",
       "churn_risk_score                   0\n",
       "dtype: int64"
      ]
     },
     "execution_count": 11,
     "metadata": {},
     "output_type": "execute_result"
    }
   ],
   "source": [
    "df.isnull().sum()"
   ]
  },
  {
   "cell_type": "code",
   "execution_count": 12,
   "id": "improved-beaver",
   "metadata": {
    "execution": {
     "iopub.execute_input": "2021-04-15T12:15:13.920601Z",
     "iopub.status.busy": "2021-04-15T12:15:13.919680Z",
     "iopub.status.idle": "2021-04-15T12:15:13.989326Z",
     "shell.execute_reply": "2021-04-15T12:15:13.988736Z"
    },
    "papermill": {
     "duration": 0.108632,
     "end_time": "2021-04-15T12:15:13.989474",
     "exception": false,
     "start_time": "2021-04-15T12:15:13.880842",
     "status": "completed"
    },
    "tags": []
   },
   "outputs": [],
   "source": [
    "for i in df.columns:\n",
    "  if df[i].dtype=='float64':\n",
    "    df[i]=df[i].fillna(df[i].mean())\n",
    "  else:\n",
    "    df[i]=df[i].fillna(method='ffill')"
   ]
  },
  {
   "cell_type": "code",
   "execution_count": 13,
   "id": "negative-registration",
   "metadata": {
    "execution": {
     "iopub.execute_input": "2021-04-15T12:15:14.107747Z",
     "iopub.status.busy": "2021-04-15T12:15:14.106758Z",
     "iopub.status.idle": "2021-04-15T12:15:14.115544Z",
     "shell.execute_reply": "2021-04-15T12:15:14.114926Z"
    },
    "papermill": {
     "duration": 0.092876,
     "end_time": "2021-04-15T12:15:14.115692",
     "exception": false,
     "start_time": "2021-04-15T12:15:14.022816",
     "status": "completed"
    },
    "tags": []
   },
   "outputs": [
    {
     "data": {
      "text/plain": [
       "1"
      ]
     },
     "execution_count": 13,
     "metadata": {},
     "output_type": "execute_result"
    }
   ],
   "source": [
    "df.isnull().sum().sum()"
   ]
  },
  {
   "cell_type": "code",
   "execution_count": 14,
   "id": "alternative-conflict",
   "metadata": {
    "execution": {
     "iopub.execute_input": "2021-04-15T12:15:14.206183Z",
     "iopub.status.busy": "2021-04-15T12:15:14.205085Z",
     "iopub.status.idle": "2021-04-15T12:15:15.145606Z",
     "shell.execute_reply": "2021-04-15T12:15:15.145001Z"
    },
    "papermill": {
     "duration": 0.996208,
     "end_time": "2021-04-15T12:15:15.145763",
     "exception": false,
     "start_time": "2021-04-15T12:15:14.149555",
     "status": "completed"
    },
    "tags": []
   },
   "outputs": [],
   "source": [
    "# df['joining_date']=df['joining_date'].apply(lambda x:int(x.split('-')[0]))\n",
    "# df.rename(columns={'joining_date':'joining_year'},inplace=True)\n",
    "\n",
    "df['joining_date'] = pd.to_datetime(df['joining_date'])\n",
    "df['days_since_joined'] = df['joining_date'].apply(lambda x:(pd.Timestamp('today') - x).days)\n",
    "\n",
    "df.drop(['joining_date'], inplace=True, axis=1)"
   ]
  },
  {
   "cell_type": "code",
   "execution_count": 15,
   "id": "congressional-press",
   "metadata": {
    "execution": {
     "iopub.execute_input": "2021-04-15T12:15:15.238403Z",
     "iopub.status.busy": "2021-04-15T12:15:15.237503Z",
     "iopub.status.idle": "2021-04-15T12:15:15.242725Z",
     "shell.execute_reply": "2021-04-15T12:15:15.242190Z"
    },
    "papermill": {
     "duration": 0.06345,
     "end_time": "2021-04-15T12:15:15.242867",
     "exception": false,
     "start_time": "2021-04-15T12:15:15.179417",
     "status": "completed"
    },
    "tags": []
   },
   "outputs": [
    {
     "data": {
      "text/html": [
       "<div>\n",
       "<style scoped>\n",
       "    .dataframe tbody tr th:only-of-type {\n",
       "        vertical-align: middle;\n",
       "    }\n",
       "\n",
       "    .dataframe tbody tr th {\n",
       "        vertical-align: top;\n",
       "    }\n",
       "\n",
       "    .dataframe thead th {\n",
       "        text-align: right;\n",
       "    }\n",
       "</style>\n",
       "<table border=\"1\" class=\"dataframe\">\n",
       "  <thead>\n",
       "    <tr style=\"text-align: right;\">\n",
       "      <th></th>\n",
       "      <th>age</th>\n",
       "      <th>gender</th>\n",
       "      <th>region_category</th>\n",
       "      <th>membership_category</th>\n",
       "      <th>joined_through_referral</th>\n",
       "      <th>preferred_offer_types</th>\n",
       "      <th>medium_of_operation</th>\n",
       "      <th>internet_option</th>\n",
       "      <th>days_since_last_login</th>\n",
       "      <th>avg_time_spent</th>\n",
       "      <th>avg_transaction_value</th>\n",
       "      <th>avg_frequency_login_days</th>\n",
       "      <th>points_in_wallet</th>\n",
       "      <th>used_special_discount</th>\n",
       "      <th>offer_application_preference</th>\n",
       "      <th>past_complaint</th>\n",
       "      <th>complaint_status</th>\n",
       "      <th>feedback</th>\n",
       "      <th>churn_risk_score</th>\n",
       "      <th>days_since_joined</th>\n",
       "    </tr>\n",
       "  </thead>\n",
       "  <tbody>\n",
       "    <tr>\n",
       "      <th>0</th>\n",
       "      <td>18</td>\n",
       "      <td>F</td>\n",
       "      <td>Village</td>\n",
       "      <td>Platinum Membership</td>\n",
       "      <td>No</td>\n",
       "      <td>Gift Vouchers/Coupons</td>\n",
       "      <td>NaN</td>\n",
       "      <td>Wi-Fi</td>\n",
       "      <td>17.0</td>\n",
       "      <td>300.63</td>\n",
       "      <td>53005.25</td>\n",
       "      <td>17.0</td>\n",
       "      <td>781.750000</td>\n",
       "      <td>Yes</td>\n",
       "      <td>Yes</td>\n",
       "      <td>No</td>\n",
       "      <td>Not Applicable</td>\n",
       "      <td>Products always in Stock</td>\n",
       "      <td>2</td>\n",
       "      <td>1337</td>\n",
       "    </tr>\n",
       "    <tr>\n",
       "      <th>1</th>\n",
       "      <td>32</td>\n",
       "      <td>F</td>\n",
       "      <td>City</td>\n",
       "      <td>Premium Membership</td>\n",
       "      <td>No</td>\n",
       "      <td>Gift Vouchers/Coupons</td>\n",
       "      <td>Desktop</td>\n",
       "      <td>Mobile_Data</td>\n",
       "      <td>16.0</td>\n",
       "      <td>306.34</td>\n",
       "      <td>12838.38</td>\n",
       "      <td>10.0</td>\n",
       "      <td>686.882199</td>\n",
       "      <td>Yes</td>\n",
       "      <td>No</td>\n",
       "      <td>Yes</td>\n",
       "      <td>Solved</td>\n",
       "      <td>Quality Customer Care</td>\n",
       "      <td>1</td>\n",
       "      <td>1326</td>\n",
       "    </tr>\n",
       "    <tr>\n",
       "      <th>2</th>\n",
       "      <td>44</td>\n",
       "      <td>F</td>\n",
       "      <td>Town</td>\n",
       "      <td>No Membership</td>\n",
       "      <td>Yes</td>\n",
       "      <td>Gift Vouchers/Coupons</td>\n",
       "      <td>Desktop</td>\n",
       "      <td>Wi-Fi</td>\n",
       "      <td>14.0</td>\n",
       "      <td>516.16</td>\n",
       "      <td>21027.00</td>\n",
       "      <td>22.0</td>\n",
       "      <td>500.690000</td>\n",
       "      <td>No</td>\n",
       "      <td>Yes</td>\n",
       "      <td>Yes</td>\n",
       "      <td>Solved in Follow-up</td>\n",
       "      <td>Poor Website</td>\n",
       "      <td>5</td>\n",
       "      <td>1616</td>\n",
       "    </tr>\n",
       "    <tr>\n",
       "      <th>3</th>\n",
       "      <td>37</td>\n",
       "      <td>M</td>\n",
       "      <td>City</td>\n",
       "      <td>No Membership</td>\n",
       "      <td>Yes</td>\n",
       "      <td>Gift Vouchers/Coupons</td>\n",
       "      <td>Desktop</td>\n",
       "      <td>Mobile_Data</td>\n",
       "      <td>11.0</td>\n",
       "      <td>53.27</td>\n",
       "      <td>25239.56</td>\n",
       "      <td>6.0</td>\n",
       "      <td>567.660000</td>\n",
       "      <td>No</td>\n",
       "      <td>Yes</td>\n",
       "      <td>Yes</td>\n",
       "      <td>Unsolved</td>\n",
       "      <td>Poor Website</td>\n",
       "      <td>5</td>\n",
       "      <td>1629</td>\n",
       "    </tr>\n",
       "    <tr>\n",
       "      <th>4</th>\n",
       "      <td>31</td>\n",
       "      <td>F</td>\n",
       "      <td>City</td>\n",
       "      <td>No Membership</td>\n",
       "      <td>No</td>\n",
       "      <td>Credit/Debit Card Offers</td>\n",
       "      <td>Smartphone</td>\n",
       "      <td>Mobile_Data</td>\n",
       "      <td>20.0</td>\n",
       "      <td>113.13</td>\n",
       "      <td>24483.66</td>\n",
       "      <td>16.0</td>\n",
       "      <td>663.060000</td>\n",
       "      <td>No</td>\n",
       "      <td>Yes</td>\n",
       "      <td>Yes</td>\n",
       "      <td>Solved</td>\n",
       "      <td>Poor Website</td>\n",
       "      <td>5</td>\n",
       "      <td>1311</td>\n",
       "    </tr>\n",
       "  </tbody>\n",
       "</table>\n",
       "</div>"
      ],
      "text/plain": [
       "   age gender region_category  membership_category joined_through_referral  \\\n",
       "0   18      F         Village  Platinum Membership                      No   \n",
       "1   32      F            City   Premium Membership                      No   \n",
       "2   44      F            Town        No Membership                     Yes   \n",
       "3   37      M            City        No Membership                     Yes   \n",
       "4   31      F            City        No Membership                      No   \n",
       "\n",
       "      preferred_offer_types medium_of_operation internet_option  \\\n",
       "0     Gift Vouchers/Coupons                 NaN           Wi-Fi   \n",
       "1     Gift Vouchers/Coupons             Desktop     Mobile_Data   \n",
       "2     Gift Vouchers/Coupons             Desktop           Wi-Fi   \n",
       "3     Gift Vouchers/Coupons             Desktop     Mobile_Data   \n",
       "4  Credit/Debit Card Offers          Smartphone     Mobile_Data   \n",
       "\n",
       "   days_since_last_login  avg_time_spent  avg_transaction_value  \\\n",
       "0                   17.0          300.63               53005.25   \n",
       "1                   16.0          306.34               12838.38   \n",
       "2                   14.0          516.16               21027.00   \n",
       "3                   11.0           53.27               25239.56   \n",
       "4                   20.0          113.13               24483.66   \n",
       "\n",
       "   avg_frequency_login_days  points_in_wallet used_special_discount  \\\n",
       "0                      17.0        781.750000                   Yes   \n",
       "1                      10.0        686.882199                   Yes   \n",
       "2                      22.0        500.690000                    No   \n",
       "3                       6.0        567.660000                    No   \n",
       "4                      16.0        663.060000                    No   \n",
       "\n",
       "  offer_application_preference past_complaint     complaint_status  \\\n",
       "0                          Yes             No       Not Applicable   \n",
       "1                           No            Yes               Solved   \n",
       "2                          Yes            Yes  Solved in Follow-up   \n",
       "3                          Yes            Yes             Unsolved   \n",
       "4                          Yes            Yes               Solved   \n",
       "\n",
       "                   feedback  churn_risk_score  days_since_joined  \n",
       "0  Products always in Stock                 2               1337  \n",
       "1     Quality Customer Care                 1               1326  \n",
       "2              Poor Website                 5               1616  \n",
       "3              Poor Website                 5               1629  \n",
       "4              Poor Website                 5               1311  "
      ]
     },
     "execution_count": 15,
     "metadata": {},
     "output_type": "execute_result"
    }
   ],
   "source": [
    "df.head()"
   ]
  },
  {
   "cell_type": "code",
   "execution_count": 16,
   "id": "consistent-outdoors",
   "metadata": {
    "execution": {
     "iopub.execute_input": "2021-04-15T12:15:15.318920Z",
     "iopub.status.busy": "2021-04-15T12:15:15.317908Z",
     "iopub.status.idle": "2021-04-15T12:15:15.385087Z",
     "shell.execute_reply": "2021-04-15T12:15:15.384411Z"
    },
    "papermill": {
     "duration": 0.107638,
     "end_time": "2021-04-15T12:15:15.385255",
     "exception": false,
     "start_time": "2021-04-15T12:15:15.277617",
     "status": "completed"
    },
    "tags": []
   },
   "outputs": [],
   "source": [
    "df1=pd.get_dummies(df,drop_first=True)"
   ]
  },
  {
   "cell_type": "code",
   "execution_count": 17,
   "id": "conditional-legend",
   "metadata": {
    "execution": {
     "iopub.execute_input": "2021-04-15T12:15:15.460085Z",
     "iopub.status.busy": "2021-04-15T12:15:15.459444Z",
     "iopub.status.idle": "2021-04-15T12:15:15.509886Z",
     "shell.execute_reply": "2021-04-15T12:15:15.509233Z"
    },
    "papermill": {
     "duration": 0.090595,
     "end_time": "2021-04-15T12:15:15.510036",
     "exception": false,
     "start_time": "2021-04-15T12:15:15.419441",
     "status": "completed"
    },
    "tags": []
   },
   "outputs": [],
   "source": [
    "x=df1.drop('churn_risk_score',axis=1)\n",
    "y=df1['churn_risk_score']\n",
    "x_train,x_test,y_train,y_test=train_test_split(x,y,test_size=0.1,stratify=y,random_state=42)"
   ]
  },
  {
   "cell_type": "code",
   "execution_count": 18,
   "id": "opposed-garden",
   "metadata": {
    "execution": {
     "iopub.execute_input": "2021-04-15T12:15:15.584499Z",
     "iopub.status.busy": "2021-04-15T12:15:15.583588Z",
     "iopub.status.idle": "2021-04-15T12:15:15.586505Z",
     "shell.execute_reply": "2021-04-15T12:15:15.586958Z"
    },
    "papermill": {
     "duration": 0.042146,
     "end_time": "2021-04-15T12:15:15.587140",
     "exception": false,
     "start_time": "2021-04-15T12:15:15.544994",
     "status": "completed"
    },
    "tags": []
   },
   "outputs": [],
   "source": [
    "rd=RandomForestClassifier()"
   ]
  },
  {
   "cell_type": "code",
   "execution_count": 19,
   "id": "identified-counter",
   "metadata": {
    "execution": {
     "iopub.execute_input": "2021-04-15T12:15:15.663292Z",
     "iopub.status.busy": "2021-04-15T12:15:15.662649Z",
     "iopub.status.idle": "2021-04-15T12:15:23.085286Z",
     "shell.execute_reply": "2021-04-15T12:15:23.085842Z"
    },
    "papermill": {
     "duration": 7.464048,
     "end_time": "2021-04-15T12:15:23.086025",
     "exception": false,
     "start_time": "2021-04-15T12:15:15.621977",
     "status": "completed"
    },
    "tags": []
   },
   "outputs": [
    {
     "data": {
      "text/plain": [
       "RandomForestClassifier()"
      ]
     },
     "execution_count": 19,
     "metadata": {},
     "output_type": "execute_result"
    }
   ],
   "source": [
    "rd.fit(x_train,y_train)"
   ]
  },
  {
   "cell_type": "code",
   "execution_count": 20,
   "id": "usual-aside",
   "metadata": {
    "execution": {
     "iopub.execute_input": "2021-04-15T12:15:23.164751Z",
     "iopub.status.busy": "2021-04-15T12:15:23.163764Z",
     "iopub.status.idle": "2021-04-15T12:15:23.308672Z",
     "shell.execute_reply": "2021-04-15T12:15:23.309198Z"
    },
    "papermill": {
     "duration": 0.188152,
     "end_time": "2021-04-15T12:15:23.309397",
     "exception": false,
     "start_time": "2021-04-15T12:15:23.121245",
     "status": "completed"
    },
    "tags": []
   },
   "outputs": [],
   "source": [
    "rdpred=rd.predict(x_test)"
   ]
  },
  {
   "cell_type": "code",
   "execution_count": 21,
   "id": "latest-source",
   "metadata": {
    "execution": {
     "iopub.execute_input": "2021-04-15T12:15:23.385247Z",
     "iopub.status.busy": "2021-04-15T12:15:23.384221Z",
     "iopub.status.idle": "2021-04-15T12:15:23.406914Z",
     "shell.execute_reply": "2021-04-15T12:15:23.407445Z"
    },
    "papermill": {
     "duration": 0.062008,
     "end_time": "2021-04-15T12:15:23.407613",
     "exception": false,
     "start_time": "2021-04-15T12:15:23.345605",
     "status": "completed"
    },
    "tags": []
   },
   "outputs": [
    {
     "name": "stdout",
     "output_type": "stream",
     "text": [
      "              precision    recall  f1-score   support\n",
      "\n",
      "          -1       0.00      0.00      0.00       116\n",
      "           1       0.71      0.83      0.77       265\n",
      "           2       0.78      0.71      0.74       274\n",
      "           3       0.89      0.90      0.89      1043\n",
      "           4       0.71      0.56      0.63      1019\n",
      "           5       0.69      0.90      0.78       983\n",
      "\n",
      "    accuracy                           0.76      3700\n",
      "   macro avg       0.63      0.65      0.63      3700\n",
      "weighted avg       0.74      0.76      0.74      3700\n",
      "\n"
     ]
    },
    {
     "name": "stderr",
     "output_type": "stream",
     "text": [
      "/opt/conda/lib/python3.7/site-packages/sklearn/metrics/_classification.py:1245: UndefinedMetricWarning: Precision and F-score are ill-defined and being set to 0.0 in labels with no predicted samples. Use `zero_division` parameter to control this behavior.\n",
      "  _warn_prf(average, modifier, msg_start, len(result))\n",
      "/opt/conda/lib/python3.7/site-packages/sklearn/metrics/_classification.py:1245: UndefinedMetricWarning: Precision and F-score are ill-defined and being set to 0.0 in labels with no predicted samples. Use `zero_division` parameter to control this behavior.\n",
      "  _warn_prf(average, modifier, msg_start, len(result))\n",
      "/opt/conda/lib/python3.7/site-packages/sklearn/metrics/_classification.py:1245: UndefinedMetricWarning: Precision and F-score are ill-defined and being set to 0.0 in labels with no predicted samples. Use `zero_division` parameter to control this behavior.\n",
      "  _warn_prf(average, modifier, msg_start, len(result))\n"
     ]
    }
   ],
   "source": [
    "print(classification_report(y_test,rdpred))"
   ]
  },
  {
   "cell_type": "code",
   "execution_count": 22,
   "id": "connected-affect",
   "metadata": {
    "execution": {
     "iopub.execute_input": "2021-04-15T12:15:23.483111Z",
     "iopub.status.busy": "2021-04-15T12:15:23.482206Z",
     "iopub.status.idle": "2021-04-15T12:15:23.491005Z",
     "shell.execute_reply": "2021-04-15T12:15:23.491681Z"
    },
    "papermill": {
     "duration": 0.048196,
     "end_time": "2021-04-15T12:15:23.491846",
     "exception": false,
     "start_time": "2021-04-15T12:15:23.443650",
     "status": "completed"
    },
    "tags": []
   },
   "outputs": [
    {
     "name": "stdout",
     "output_type": "stream",
     "text": [
      "0.6345864782783642\n"
     ]
    }
   ],
   "source": [
    "print(f1_score(y_test,rdpred,average='macro'))"
   ]
  },
  {
   "cell_type": "code",
   "execution_count": 23,
   "id": "corporate-language",
   "metadata": {
    "execution": {
     "iopub.execute_input": "2021-04-15T12:15:23.571349Z",
     "iopub.status.busy": "2021-04-15T12:15:23.570609Z",
     "iopub.status.idle": "2021-04-15T12:15:23.854104Z",
     "shell.execute_reply": "2021-04-15T12:15:23.854660Z"
    },
    "papermill": {
     "duration": 0.325797,
     "end_time": "2021-04-15T12:15:23.854850",
     "exception": false,
     "start_time": "2021-04-15T12:15:23.529053",
     "status": "completed"
    },
    "tags": []
   },
   "outputs": [],
   "source": [
    "import xgboost"
   ]
  },
  {
   "cell_type": "code",
   "execution_count": 24,
   "id": "transsexual-piece",
   "metadata": {
    "execution": {
     "iopub.execute_input": "2021-04-15T12:15:23.935083Z",
     "iopub.status.busy": "2021-04-15T12:15:23.934372Z",
     "iopub.status.idle": "2021-04-15T12:15:23.938069Z",
     "shell.execute_reply": "2021-04-15T12:15:23.937411Z"
    },
    "papermill": {
     "duration": 0.045961,
     "end_time": "2021-04-15T12:15:23.938253",
     "exception": false,
     "start_time": "2021-04-15T12:15:23.892292",
     "status": "completed"
    },
    "tags": []
   },
   "outputs": [],
   "source": [
    "xgc=xgboost.XGBClassifier()"
   ]
  },
  {
   "cell_type": "code",
   "execution_count": 25,
   "id": "sweet-imaging",
   "metadata": {
    "execution": {
     "iopub.execute_input": "2021-04-15T12:15:24.020023Z",
     "iopub.status.busy": "2021-04-15T12:15:24.019324Z",
     "iopub.status.idle": "2021-04-15T12:15:42.345754Z",
     "shell.execute_reply": "2021-04-15T12:15:42.345187Z"
    },
    "papermill": {
     "duration": 18.369274,
     "end_time": "2021-04-15T12:15:42.345906",
     "exception": false,
     "start_time": "2021-04-15T12:15:23.976632",
     "status": "completed"
    },
    "tags": []
   },
   "outputs": [
    {
     "name": "stderr",
     "output_type": "stream",
     "text": [
      "/opt/conda/lib/python3.7/site-packages/xgboost/sklearn.py:888: UserWarning: The use of label encoder in XGBClassifier is deprecated and will be removed in a future release. To remove this warning, do the following: 1) Pass option use_label_encoder=False when constructing XGBClassifier object; and 2) Encode your labels (y) as integers starting with 0, i.e. 0, 1, 2, ..., [num_class - 1].\n",
      "  warnings.warn(label_encoder_deprecation_msg, UserWarning)\n"
     ]
    },
    {
     "name": "stdout",
     "output_type": "stream",
     "text": [
      "[12:15:24] WARNING: ../src/learner.cc:1061: Starting in XGBoost 1.3.0, the default evaluation metric used with the objective 'multi:softprob' was changed from 'merror' to 'mlogloss'. Explicitly set eval_metric if you'd like to restore the old behavior.\n"
     ]
    },
    {
     "data": {
      "text/plain": [
       "XGBClassifier(base_score=0.5, booster='gbtree', colsample_bylevel=1,\n",
       "              colsample_bynode=1, colsample_bytree=1, gamma=0, gpu_id=-1,\n",
       "              importance_type='gain', interaction_constraints='',\n",
       "              learning_rate=0.300000012, max_delta_step=0, max_depth=6,\n",
       "              min_child_weight=1, missing=nan, monotone_constraints='()',\n",
       "              n_estimators=100, n_jobs=4, num_parallel_tree=1,\n",
       "              objective='multi:softprob', random_state=0, reg_alpha=0,\n",
       "              reg_lambda=1, scale_pos_weight=None, subsample=1,\n",
       "              tree_method='exact', validate_parameters=1, verbosity=None)"
      ]
     },
     "execution_count": 25,
     "metadata": {},
     "output_type": "execute_result"
    }
   ],
   "source": [
    "xgc.fit(x_train,y_train)"
   ]
  },
  {
   "cell_type": "code",
   "execution_count": 26,
   "id": "attended-adelaide",
   "metadata": {
    "execution": {
     "iopub.execute_input": "2021-04-15T12:15:42.438532Z",
     "iopub.status.busy": "2021-04-15T12:15:42.437476Z",
     "iopub.status.idle": "2021-04-15T12:15:42.455507Z",
     "shell.execute_reply": "2021-04-15T12:15:42.456107Z"
    },
    "papermill": {
     "duration": 0.072378,
     "end_time": "2021-04-15T12:15:42.456325",
     "exception": false,
     "start_time": "2021-04-15T12:15:42.383947",
     "status": "completed"
    },
    "tags": []
   },
   "outputs": [],
   "source": [
    "xgcpred=xgc.predict(x_test)"
   ]
  },
  {
   "cell_type": "code",
   "execution_count": 27,
   "id": "broke-certification",
   "metadata": {
    "execution": {
     "iopub.execute_input": "2021-04-15T12:15:42.541299Z",
     "iopub.status.busy": "2021-04-15T12:15:42.540565Z",
     "iopub.status.idle": "2021-04-15T12:15:42.547772Z",
     "shell.execute_reply": "2021-04-15T12:15:42.548781Z"
    },
    "papermill": {
     "duration": 0.051971,
     "end_time": "2021-04-15T12:15:42.549016",
     "exception": false,
     "start_time": "2021-04-15T12:15:42.497045",
     "status": "completed"
    },
    "tags": []
   },
   "outputs": [
    {
     "name": "stdout",
     "output_type": "stream",
     "text": [
      "0.6244562711665188\n"
     ]
    }
   ],
   "source": [
    "print(f1_score(y_test,xgcpred,average='macro'))"
   ]
  },
  {
   "cell_type": "code",
   "execution_count": 28,
   "id": "infrared-forty",
   "metadata": {
    "execution": {
     "iopub.execute_input": "2021-04-15T12:15:42.630379Z",
     "iopub.status.busy": "2021-04-15T12:15:42.629743Z",
     "iopub.status.idle": "2021-04-15T12:15:42.633058Z",
     "shell.execute_reply": "2021-04-15T12:15:42.633601Z"
    },
    "papermill": {
     "duration": 0.045314,
     "end_time": "2021-04-15T12:15:42.633773",
     "exception": false,
     "start_time": "2021-04-15T12:15:42.588459",
     "status": "completed"
    },
    "tags": []
   },
   "outputs": [],
   "source": [
    "# params={'learning_rate':[0.05,0.1,0.15,0.2],\n",
    "#       'max_depth':[3,4,5,6,8,10],\n",
    "#       'min_child_weight':[1,3,5,7],\n",
    "#       'gamma':[0.0,0.1,0.2,0.3,0.4,0.5],\n",
    "#       'colsample_bytree':[0.3,0.4,0.5,0.7]}\n",
    "# rsearch=RandomizedSearchCV(xgc,param_distributions=params,n_iter=100,cv=3,random_state=42,n_jobs=-1)\n",
    "# rsearch.fit(x,y)\n",
    "# rsearch.best_parameter_ "
   ]
  },
  {
   "cell_type": "code",
   "execution_count": 29,
   "id": "elegant-sapphire",
   "metadata": {
    "execution": {
     "iopub.execute_input": "2021-04-15T12:15:42.714998Z",
     "iopub.status.busy": "2021-04-15T12:15:42.714392Z",
     "iopub.status.idle": "2021-04-15T12:15:42.717913Z",
     "shell.execute_reply": "2021-04-15T12:15:42.718453Z"
    },
    "papermill": {
     "duration": 0.045784,
     "end_time": "2021-04-15T12:15:42.718617",
     "exception": false,
     "start_time": "2021-04-15T12:15:42.672833",
     "status": "completed"
    },
    "tags": []
   },
   "outputs": [],
   "source": [
    "# best_estimaters=XGBClassifier(base_score=0.5, booster='gbtree', colsample_bylevel=1,\n",
    "#              colsample_bynode=1, colsample_bytree=0.7, gamma=0.4,\n",
    "#              learning_rate=0.1, max_delta_step=0, max_depth=4,\n",
    "#             min_child_weight=3, missing=None, n_estimators=119, n_jobs=1,\n",
    "#             nthread=None, objective='multi:softprob', random_state=0,\n",
    "#             reg_alpha=0, reg_lambda=1, scale_pos_weight=1, seed=None,\n",
    "#             silent=None, subsample=1, verbosity=1)"
   ]
  },
  {
   "cell_type": "code",
   "execution_count": 30,
   "id": "killing-eclipse",
   "metadata": {
    "execution": {
     "iopub.execute_input": "2021-04-15T12:15:42.799836Z",
     "iopub.status.busy": "2021-04-15T12:15:42.799177Z",
     "iopub.status.idle": "2021-04-15T12:15:42.804977Z",
     "shell.execute_reply": "2021-04-15T12:15:42.805599Z"
    },
    "papermill": {
     "duration": 0.048342,
     "end_time": "2021-04-15T12:15:42.805797",
     "exception": false,
     "start_time": "2021-04-15T12:15:42.757455",
     "status": "completed"
    },
    "tags": []
   },
   "outputs": [],
   "source": [
    "xgc=xgboost.XGBClassifier(base_score=0.5, booster='gbtree', colsample_bylevel=1,\n",
    "              colsample_bynode=1, colsample_bytree=0.7, gamma=0.4,\n",
    "              learning_rate=0.1, max_delta_step=0, max_depth=4,\n",
    "              min_child_weight=3, missing=None, n_estimators=119, n_jobs=1,\n",
    "              nthread=None, objective='multi:softprob', random_state=0,\n",
    "              reg_alpha=0, reg_lambda=1, scale_pos_weight=1, seed=None,\n",
    "              silent=None, subsample=1, verbosity=1)"
   ]
  },
  {
   "cell_type": "code",
   "execution_count": 31,
   "id": "alpine-limitation",
   "metadata": {
    "execution": {
     "iopub.execute_input": "2021-04-15T12:15:42.897548Z",
     "iopub.status.busy": "2021-04-15T12:15:42.896847Z",
     "iopub.status.idle": "2021-04-15T12:16:05.795349Z",
     "shell.execute_reply": "2021-04-15T12:16:05.794822Z"
    },
    "papermill": {
     "duration": 22.945189,
     "end_time": "2021-04-15T12:16:05.795495",
     "exception": false,
     "start_time": "2021-04-15T12:15:42.850306",
     "status": "completed"
    },
    "tags": []
   },
   "outputs": [
    {
     "name": "stderr",
     "output_type": "stream",
     "text": [
      "/opt/conda/lib/python3.7/site-packages/xgboost/sklearn.py:888: UserWarning: The use of label encoder in XGBClassifier is deprecated and will be removed in a future release. To remove this warning, do the following: 1) Pass option use_label_encoder=False when constructing XGBClassifier object; and 2) Encode your labels (y) as integers starting with 0, i.e. 0, 1, 2, ..., [num_class - 1].\n",
      "  warnings.warn(label_encoder_deprecation_msg, UserWarning)\n"
     ]
    },
    {
     "name": "stdout",
     "output_type": "stream",
     "text": [
      "[12:15:42] WARNING: ../src/learner.cc:541: \n",
      "Parameters: { scale_pos_weight } might not be used.\n",
      "\n",
      "  This may not be accurate due to some parameters are only used in language bindings but\n",
      "  passed down to XGBoost core.  Or some parameters are not used but slip through this\n",
      "  verification. Please open an issue if you find above cases.\n",
      "\n",
      "\n",
      "[12:15:43] WARNING: ../src/learner.cc:1061: Starting in XGBoost 1.3.0, the default evaluation metric used with the objective 'multi:softprob' was changed from 'merror' to 'mlogloss'. Explicitly set eval_metric if you'd like to restore the old behavior.\n"
     ]
    },
    {
     "data": {
      "text/plain": [
       "XGBClassifier(base_score=0.5, booster='gbtree', colsample_bylevel=1,\n",
       "              colsample_bynode=1, colsample_bytree=0.7, gamma=0.4, gpu_id=-1,\n",
       "              importance_type='gain', interaction_constraints='',\n",
       "              learning_rate=0.1, max_delta_step=0, max_depth=4,\n",
       "              min_child_weight=3, missing=None, monotone_constraints='()',\n",
       "              n_estimators=119, n_jobs=1, nthread=1, num_parallel_tree=1,\n",
       "              objective='multi:softprob', random_state=0, reg_alpha=0,\n",
       "              reg_lambda=1, scale_pos_weight=1, seed=0, silent=None,\n",
       "              subsample=1, tree_method='exact', validate_parameters=1,\n",
       "              verbosity=1)"
      ]
     },
     "execution_count": 31,
     "metadata": {},
     "output_type": "execute_result"
    }
   ],
   "source": [
    "xgc.fit(x_train,y_train)"
   ]
  },
  {
   "cell_type": "code",
   "execution_count": 32,
   "id": "administrative-drove",
   "metadata": {
    "execution": {
     "iopub.execute_input": "2021-04-15T12:16:05.883499Z",
     "iopub.status.busy": "2021-04-15T12:16:05.882840Z",
     "iopub.status.idle": "2021-04-15T12:16:05.928623Z",
     "shell.execute_reply": "2021-04-15T12:16:05.927995Z"
    },
    "papermill": {
     "duration": 0.09182,
     "end_time": "2021-04-15T12:16:05.928767",
     "exception": false,
     "start_time": "2021-04-15T12:16:05.836947",
     "status": "completed"
    },
    "tags": []
   },
   "outputs": [],
   "source": [
    "xgcpred=xgc.predict(x_test)"
   ]
  },
  {
   "cell_type": "code",
   "execution_count": 33,
   "id": "animated-fossil",
   "metadata": {
    "execution": {
     "iopub.execute_input": "2021-04-15T12:16:06.014920Z",
     "iopub.status.busy": "2021-04-15T12:16:06.014278Z",
     "iopub.status.idle": "2021-04-15T12:16:06.022005Z",
     "shell.execute_reply": "2021-04-15T12:16:06.021425Z"
    },
    "papermill": {
     "duration": 0.052958,
     "end_time": "2021-04-15T12:16:06.022165",
     "exception": false,
     "start_time": "2021-04-15T12:16:05.969207",
     "status": "completed"
    },
    "tags": []
   },
   "outputs": [
    {
     "name": "stdout",
     "output_type": "stream",
     "text": [
      "0.6331652806499237\n"
     ]
    }
   ],
   "source": [
    "print(f1_score(y_test,xgcpred,average='macro'))"
   ]
  },
  {
   "cell_type": "code",
   "execution_count": 34,
   "id": "right-bookmark",
   "metadata": {
    "execution": {
     "iopub.execute_input": "2021-04-15T12:16:06.109491Z",
     "iopub.status.busy": "2021-04-15T12:16:06.108558Z",
     "iopub.status.idle": "2021-04-15T12:16:31.503141Z",
     "shell.execute_reply": "2021-04-15T12:16:31.503615Z"
    },
    "papermill": {
     "duration": 25.440753,
     "end_time": "2021-04-15T12:16:31.503857",
     "exception": false,
     "start_time": "2021-04-15T12:16:06.063104",
     "status": "completed"
    },
    "tags": []
   },
   "outputs": [
    {
     "name": "stdout",
     "output_type": "stream",
     "text": [
      "[12:16:06] WARNING: ../src/learner.cc:541: \n",
      "Parameters: { scale_pos_weight } might not be used.\n",
      "\n",
      "  This may not be accurate due to some parameters are only used in language bindings but\n",
      "  passed down to XGBoost core.  Or some parameters are not used but slip through this\n",
      "  verification. Please open an issue if you find above cases.\n",
      "\n",
      "\n"
     ]
    },
    {
     "name": "stderr",
     "output_type": "stream",
     "text": [
      "/opt/conda/lib/python3.7/site-packages/xgboost/sklearn.py:888: UserWarning: The use of label encoder in XGBClassifier is deprecated and will be removed in a future release. To remove this warning, do the following: 1) Pass option use_label_encoder=False when constructing XGBClassifier object; and 2) Encode your labels (y) as integers starting with 0, i.e. 0, 1, 2, ..., [num_class - 1].\n",
      "  warnings.warn(label_encoder_deprecation_msg, UserWarning)\n"
     ]
    },
    {
     "name": "stdout",
     "output_type": "stream",
     "text": [
      "[12:16:06] WARNING: ../src/learner.cc:1061: Starting in XGBoost 1.3.0, the default evaluation metric used with the objective 'multi:softprob' was changed from 'merror' to 'mlogloss'. Explicitly set eval_metric if you'd like to restore the old behavior.\n"
     ]
    },
    {
     "data": {
      "text/plain": [
       "XGBClassifier(base_score=0.5, booster='gbtree', colsample_bylevel=1,\n",
       "              colsample_bynode=1, colsample_bytree=0.7, gamma=0.4, gpu_id=-1,\n",
       "              importance_type='gain', interaction_constraints='',\n",
       "              learning_rate=0.1, max_delta_step=0, max_depth=4,\n",
       "              min_child_weight=3, missing=None, monotone_constraints='()',\n",
       "              n_estimators=119, n_jobs=1, nthread=1, num_parallel_tree=1,\n",
       "              objective='multi:softprob', random_state=0, reg_alpha=0,\n",
       "              reg_lambda=1, scale_pos_weight=1, seed=0, silent=None,\n",
       "              subsample=1, tree_method='exact', validate_parameters=1,\n",
       "              verbosity=1)"
      ]
     },
     "execution_count": 34,
     "metadata": {},
     "output_type": "execute_result"
    }
   ],
   "source": [
    "xgc.fit(x,y)"
   ]
  },
  {
   "cell_type": "code",
   "execution_count": 35,
   "id": "greek-metallic",
   "metadata": {
    "execution": {
     "iopub.execute_input": "2021-04-15T12:16:31.594502Z",
     "iopub.status.busy": "2021-04-15T12:16:31.593826Z",
     "iopub.status.idle": "2021-04-15T12:16:31.815625Z",
     "shell.execute_reply": "2021-04-15T12:16:31.814954Z"
    },
    "papermill": {
     "duration": 0.26945,
     "end_time": "2021-04-15T12:16:31.815767",
     "exception": false,
     "start_time": "2021-04-15T12:16:31.546317",
     "status": "completed"
    },
    "tags": []
   },
   "outputs": [
    {
     "data": {
      "text/html": [
       "<div>\n",
       "<style scoped>\n",
       "    .dataframe tbody tr th:only-of-type {\n",
       "        vertical-align: middle;\n",
       "    }\n",
       "\n",
       "    .dataframe tbody tr th {\n",
       "        vertical-align: top;\n",
       "    }\n",
       "\n",
       "    .dataframe thead th {\n",
       "        text-align: right;\n",
       "    }\n",
       "</style>\n",
       "<table border=\"1\" class=\"dataframe\">\n",
       "  <thead>\n",
       "    <tr style=\"text-align: right;\">\n",
       "      <th></th>\n",
       "      <th>customer_id</th>\n",
       "      <th>Name</th>\n",
       "      <th>age</th>\n",
       "      <th>gender</th>\n",
       "      <th>security_no</th>\n",
       "      <th>region_category</th>\n",
       "      <th>membership_category</th>\n",
       "      <th>joining_date</th>\n",
       "      <th>joined_through_referral</th>\n",
       "      <th>referral_id</th>\n",
       "      <th>...</th>\n",
       "      <th>days_since_last_login</th>\n",
       "      <th>avg_time_spent</th>\n",
       "      <th>avg_transaction_value</th>\n",
       "      <th>avg_frequency_login_days</th>\n",
       "      <th>points_in_wallet</th>\n",
       "      <th>used_special_discount</th>\n",
       "      <th>offer_application_preference</th>\n",
       "      <th>past_complaint</th>\n",
       "      <th>complaint_status</th>\n",
       "      <th>feedback</th>\n",
       "    </tr>\n",
       "  </thead>\n",
       "  <tbody>\n",
       "    <tr>\n",
       "      <th>0</th>\n",
       "      <td>fffe43004900440031003700300030003400</td>\n",
       "      <td>Alethia Meints</td>\n",
       "      <td>50</td>\n",
       "      <td>F</td>\n",
       "      <td>OQJ1XAY</td>\n",
       "      <td>Village</td>\n",
       "      <td>Premium Membership</td>\n",
       "      <td>2015-11-02</td>\n",
       "      <td>No</td>\n",
       "      <td>NaN</td>\n",
       "      <td>...</td>\n",
       "      <td>12.0</td>\n",
       "      <td>386.26</td>\n",
       "      <td>40721.44</td>\n",
       "      <td>7.0</td>\n",
       "      <td>733.830000</td>\n",
       "      <td>Yes</td>\n",
       "      <td>No</td>\n",
       "      <td>No</td>\n",
       "      <td>Not Applicable</td>\n",
       "      <td>Poor Product Quality</td>\n",
       "    </tr>\n",
       "    <tr>\n",
       "      <th>1</th>\n",
       "      <td>fffe43004900440031003900370037003300</td>\n",
       "      <td>Ming Lopez</td>\n",
       "      <td>41</td>\n",
       "      <td>M</td>\n",
       "      <td>OUQRPKO</td>\n",
       "      <td>Village</td>\n",
       "      <td>Gold Membership</td>\n",
       "      <td>2016-03-01</td>\n",
       "      <td>No</td>\n",
       "      <td>NaN</td>\n",
       "      <td>...</td>\n",
       "      <td>11.0</td>\n",
       "      <td>37.80</td>\n",
       "      <td>9644.40</td>\n",
       "      <td>9.0</td>\n",
       "      <td>726.000000</td>\n",
       "      <td>Yes</td>\n",
       "      <td>No</td>\n",
       "      <td>No</td>\n",
       "      <td>Not Applicable</td>\n",
       "      <td>Poor Website</td>\n",
       "    </tr>\n",
       "    <tr>\n",
       "      <th>2</th>\n",
       "      <td>fffe43004900440034003800360037003000</td>\n",
       "      <td>Carina Flannigan</td>\n",
       "      <td>31</td>\n",
       "      <td>F</td>\n",
       "      <td>02J2RE7</td>\n",
       "      <td>Town</td>\n",
       "      <td>Silver Membership</td>\n",
       "      <td>2017-03-03</td>\n",
       "      <td>No</td>\n",
       "      <td>NaN</td>\n",
       "      <td>...</td>\n",
       "      <td>18.0</td>\n",
       "      <td>215.36</td>\n",
       "      <td>3693.25</td>\n",
       "      <td>21.0</td>\n",
       "      <td>713.780000</td>\n",
       "      <td>Yes</td>\n",
       "      <td>No</td>\n",
       "      <td>Yes</td>\n",
       "      <td>Solved in Follow-up</td>\n",
       "      <td>No reason specified</td>\n",
       "    </tr>\n",
       "    <tr>\n",
       "      <th>3</th>\n",
       "      <td>fffe43004900440036003200370033003400</td>\n",
       "      <td>Kyung Wanner</td>\n",
       "      <td>64</td>\n",
       "      <td>M</td>\n",
       "      <td>5YEQIF1</td>\n",
       "      <td>Town</td>\n",
       "      <td>Silver Membership</td>\n",
       "      <td>2017-08-18</td>\n",
       "      <td>Yes</td>\n",
       "      <td>CID8941</td>\n",
       "      <td>...</td>\n",
       "      <td>NaN</td>\n",
       "      <td>44.57</td>\n",
       "      <td>36809.56</td>\n",
       "      <td>11.0</td>\n",
       "      <td>744.970000</td>\n",
       "      <td>Yes</td>\n",
       "      <td>No</td>\n",
       "      <td>Yes</td>\n",
       "      <td>No Information Available</td>\n",
       "      <td>Too many ads</td>\n",
       "    </tr>\n",
       "    <tr>\n",
       "      <th>4</th>\n",
       "      <td>fffe43004900440035003000370031003900</td>\n",
       "      <td>Enola Gatto</td>\n",
       "      <td>16</td>\n",
       "      <td>F</td>\n",
       "      <td>100RYB5</td>\n",
       "      <td>Town</td>\n",
       "      <td>No Membership</td>\n",
       "      <td>2015-05-05</td>\n",
       "      <td>Yes</td>\n",
       "      <td>CID5690</td>\n",
       "      <td>...</td>\n",
       "      <td>6.0</td>\n",
       "      <td>349.88</td>\n",
       "      <td>40675.86</td>\n",
       "      <td>8.0</td>\n",
       "      <td>299.048351</td>\n",
       "      <td>No</td>\n",
       "      <td>Yes</td>\n",
       "      <td>Yes</td>\n",
       "      <td>Solved in Follow-up</td>\n",
       "      <td>Poor Website</td>\n",
       "    </tr>\n",
       "  </tbody>\n",
       "</table>\n",
       "<p>5 rows × 24 columns</p>\n",
       "</div>"
      ],
      "text/plain": [
       "                            customer_id              Name  age gender  \\\n",
       "0  fffe43004900440031003700300030003400    Alethia Meints   50      F   \n",
       "1  fffe43004900440031003900370037003300        Ming Lopez   41      M   \n",
       "2  fffe43004900440034003800360037003000  Carina Flannigan   31      F   \n",
       "3  fffe43004900440036003200370033003400      Kyung Wanner   64      M   \n",
       "4  fffe43004900440035003000370031003900       Enola Gatto   16      F   \n",
       "\n",
       "  security_no region_category membership_category joining_date  \\\n",
       "0     OQJ1XAY         Village  Premium Membership   2015-11-02   \n",
       "1     OUQRPKO         Village     Gold Membership   2016-03-01   \n",
       "2     02J2RE7            Town   Silver Membership   2017-03-03   \n",
       "3     5YEQIF1            Town   Silver Membership   2017-08-18   \n",
       "4     100RYB5            Town       No Membership   2015-05-05   \n",
       "\n",
       "  joined_through_referral referral_id  ... days_since_last_login  \\\n",
       "0                      No         NaN  ...                  12.0   \n",
       "1                      No         NaN  ...                  11.0   \n",
       "2                      No         NaN  ...                  18.0   \n",
       "3                     Yes     CID8941  ...                   NaN   \n",
       "4                     Yes     CID5690  ...                   6.0   \n",
       "\n",
       "  avg_time_spent avg_transaction_value avg_frequency_login_days  \\\n",
       "0         386.26              40721.44                      7.0   \n",
       "1          37.80               9644.40                      9.0   \n",
       "2         215.36               3693.25                     21.0   \n",
       "3          44.57              36809.56                     11.0   \n",
       "4         349.88              40675.86                      8.0   \n",
       "\n",
       "   points_in_wallet  used_special_discount  offer_application_preference  \\\n",
       "0        733.830000                    Yes                            No   \n",
       "1        726.000000                    Yes                            No   \n",
       "2        713.780000                    Yes                            No   \n",
       "3        744.970000                    Yes                            No   \n",
       "4        299.048351                     No                           Yes   \n",
       "\n",
       "   past_complaint          complaint_status              feedback  \n",
       "0              No            Not Applicable  Poor Product Quality  \n",
       "1              No            Not Applicable          Poor Website  \n",
       "2             Yes       Solved in Follow-up   No reason specified  \n",
       "3             Yes  No Information Available          Too many ads  \n",
       "4             Yes       Solved in Follow-up          Poor Website  \n",
       "\n",
       "[5 rows x 24 columns]"
      ]
     },
     "execution_count": 35,
     "metadata": {},
     "output_type": "execute_result"
    }
   ],
   "source": [
    "test=pd.read_csv('../input/churn-risk-rate-hackerearth-ml/test.csv',na_values=['?','-999','Error','xxxxxxxx'])\n",
    "test.head()"
   ]
  },
  {
   "cell_type": "code",
   "execution_count": 36,
   "id": "mechanical-trailer",
   "metadata": {
    "execution": {
     "iopub.execute_input": "2021-04-15T12:16:31.912313Z",
     "iopub.status.busy": "2021-04-15T12:16:31.909987Z",
     "iopub.status.idle": "2021-04-15T12:16:31.916020Z",
     "shell.execute_reply": "2021-04-15T12:16:31.915405Z"
    },
    "papermill": {
     "duration": 0.056325,
     "end_time": "2021-04-15T12:16:31.916187",
     "exception": false,
     "start_time": "2021-04-15T12:16:31.859862",
     "status": "completed"
    },
    "tags": []
   },
   "outputs": [],
   "source": [
    "test=test.drop(['customer_id','Name','security_no','referral_id','last_visit_time'],axis=1)"
   ]
  },
  {
   "cell_type": "code",
   "execution_count": 37,
   "id": "accepting-indonesia",
   "metadata": {
    "execution": {
     "iopub.execute_input": "2021-04-15T12:16:32.024057Z",
     "iopub.status.busy": "2021-04-15T12:16:32.023164Z",
     "iopub.status.idle": "2021-04-15T12:16:32.026898Z",
     "shell.execute_reply": "2021-04-15T12:16:32.026262Z"
    },
    "papermill": {
     "duration": 0.065985,
     "end_time": "2021-04-15T12:16:32.027047",
     "exception": false,
     "start_time": "2021-04-15T12:16:31.961062",
     "status": "completed"
    },
    "tags": []
   },
   "outputs": [],
   "source": [
    "def fillNan(df, col, value):\n",
    "    df[col].fillna(value, inplace=True)\n",
    "    \n",
    "fillNan(test, 'region_category', test['region_category'].mode()[0])\n",
    "fillNan(test, 'points_in_wallet', test['points_in_wallet'].mean())\n",
    "fillNan(test, 'preferred_offer_types', test['preferred_offer_types'].mode()[0])\n",
    "# fillNan(test, 'joined_through_referral', 'No')\n",
    "# fillNan(test, 'medium_of_operation', 'Desktop')"
   ]
  },
  {
   "cell_type": "code",
   "execution_count": 38,
   "id": "hourly-necklace",
   "metadata": {
    "execution": {
     "iopub.execute_input": "2021-04-15T12:16:32.120395Z",
     "iopub.status.busy": "2021-04-15T12:16:32.119501Z",
     "iopub.status.idle": "2021-04-15T12:16:32.161094Z",
     "shell.execute_reply": "2021-04-15T12:16:32.161599Z"
    },
    "papermill": {
     "duration": 0.091122,
     "end_time": "2021-04-15T12:16:32.161782",
     "exception": false,
     "start_time": "2021-04-15T12:16:32.070660",
     "status": "completed"
    },
    "tags": []
   },
   "outputs": [],
   "source": [
    "for i in test.columns:\n",
    "  if test[i].dtype=='float64':\n",
    "    test[i]=test[i].fillna(test[i].mean())\n",
    "  else:\n",
    "    test[i]=test[i].fillna(method='ffill')"
   ]
  },
  {
   "cell_type": "code",
   "execution_count": 39,
   "id": "dependent-float",
   "metadata": {
    "execution": {
     "iopub.execute_input": "2021-04-15T12:16:32.263330Z",
     "iopub.status.busy": "2021-04-15T12:16:32.262297Z",
     "iopub.status.idle": "2021-04-15T12:16:32.765753Z",
     "shell.execute_reply": "2021-04-15T12:16:32.766284Z"
    },
    "papermill": {
     "duration": 0.561429,
     "end_time": "2021-04-15T12:16:32.766494",
     "exception": false,
     "start_time": "2021-04-15T12:16:32.205065",
     "status": "completed"
    },
    "tags": []
   },
   "outputs": [],
   "source": [
    "# test['joining_date']=test['joining_date'].apply(lambda x:int(x.split('-')[0]))\n",
    "# test.rename(columns={'joining_date':'joining_year'},inplace=True)\n",
    "\n",
    "test['joining_date'] = pd.to_datetime(test['joining_date'])\n",
    "test['days_since_joined'] = test['joining_date'].apply(lambda x:(pd.Timestamp('today') - x).days)\n",
    "\n",
    "test.drop(['joining_date'], inplace=True, axis=1)"
   ]
  },
  {
   "cell_type": "code",
   "execution_count": 40,
   "id": "planned-fetish",
   "metadata": {
    "execution": {
     "iopub.execute_input": "2021-04-15T12:16:32.865693Z",
     "iopub.status.busy": "2021-04-15T12:16:32.861454Z",
     "iopub.status.idle": "2021-04-15T12:16:32.902575Z",
     "shell.execute_reply": "2021-04-15T12:16:32.901954Z"
    },
    "papermill": {
     "duration": 0.092361,
     "end_time": "2021-04-15T12:16:32.902730",
     "exception": false,
     "start_time": "2021-04-15T12:16:32.810369",
     "status": "completed"
    },
    "tags": []
   },
   "outputs": [],
   "source": [
    "test1=pd.get_dummies(test,drop_first=True)"
   ]
  },
  {
   "cell_type": "code",
   "execution_count": 41,
   "id": "impossible-summer",
   "metadata": {
    "execution": {
     "iopub.execute_input": "2021-04-15T12:16:32.999237Z",
     "iopub.status.busy": "2021-04-15T12:16:32.998252Z",
     "iopub.status.idle": "2021-04-15T12:16:33.226007Z",
     "shell.execute_reply": "2021-04-15T12:16:33.225436Z"
    },
    "papermill": {
     "duration": 0.279286,
     "end_time": "2021-04-15T12:16:33.226161",
     "exception": false,
     "start_time": "2021-04-15T12:16:32.946875",
     "status": "completed"
    },
    "tags": []
   },
   "outputs": [],
   "source": [
    "rdpred=xgc.predict(test1)"
   ]
  },
  {
   "cell_type": "code",
   "execution_count": 42,
   "id": "induced-charity",
   "metadata": {
    "execution": {
     "iopub.execute_input": "2021-04-15T12:16:33.320021Z",
     "iopub.status.busy": "2021-04-15T12:16:33.319359Z",
     "iopub.status.idle": "2021-04-15T12:16:33.383669Z",
     "shell.execute_reply": "2021-04-15T12:16:33.384212Z"
    },
    "papermill": {
     "duration": 0.113351,
     "end_time": "2021-04-15T12:16:33.384409",
     "exception": false,
     "start_time": "2021-04-15T12:16:33.271058",
     "status": "completed"
    },
    "tags": []
   },
   "outputs": [],
   "source": [
    "df2=pd.read_csv('../input/churn-risk-rate-hackerearth-ml/test.csv',usecols=['customer_id'])"
   ]
  },
  {
   "cell_type": "code",
   "execution_count": 43,
   "id": "liked-location",
   "metadata": {
    "execution": {
     "iopub.execute_input": "2021-04-15T12:16:33.477496Z",
     "iopub.status.busy": "2021-04-15T12:16:33.476757Z",
     "iopub.status.idle": "2021-04-15T12:16:33.481170Z",
     "shell.execute_reply": "2021-04-15T12:16:33.481625Z"
    },
    "papermill": {
     "duration": 0.053285,
     "end_time": "2021-04-15T12:16:33.481857",
     "exception": false,
     "start_time": "2021-04-15T12:16:33.428572",
     "status": "completed"
    },
    "tags": []
   },
   "outputs": [],
   "source": [
    "df2['churn_risk_score']=rdpred"
   ]
  },
  {
   "cell_type": "code",
   "execution_count": 44,
   "id": "advanced-garbage",
   "metadata": {
    "execution": {
     "iopub.execute_input": "2021-04-15T12:16:33.574012Z",
     "iopub.status.busy": "2021-04-15T12:16:33.573404Z",
     "iopub.status.idle": "2021-04-15T12:16:33.643875Z",
     "shell.execute_reply": "2021-04-15T12:16:33.643255Z"
    },
    "papermill": {
     "duration": 0.117866,
     "end_time": "2021-04-15T12:16:33.644022",
     "exception": false,
     "start_time": "2021-04-15T12:16:33.526156",
     "status": "completed"
    },
    "tags": []
   },
   "outputs": [],
   "source": [
    "df2.to_csv('xgb.csv', index=False)\n"
   ]
  },
  {
   "cell_type": "code",
   "execution_count": null,
   "id": "acting-block",
   "metadata": {
    "papermill": {
     "duration": 0.044427,
     "end_time": "2021-04-15T12:16:33.732799",
     "exception": false,
     "start_time": "2021-04-15T12:16:33.688372",
     "status": "completed"
    },
    "tags": []
   },
   "outputs": [],
   "source": []
  }
 ],
 "metadata": {
  "kernelspec": {
   "display_name": "Python 3",
   "language": "python",
   "name": "python3"
  },
  "language_info": {
   "codemirror_mode": {
    "name": "ipython",
    "version": 3
   },
   "file_extension": ".py",
   "mimetype": "text/x-python",
   "name": "python",
   "nbconvert_exporter": "python",
   "pygments_lexer": "ipython3",
   "version": "3.7.9"
  },
  "papermill": {
   "default_parameters": {},
   "duration": 92.537953,
   "end_time": "2021-04-15T12:16:34.688789",
   "environment_variables": {},
   "exception": null,
   "input_path": "__notebook__.ipynb",
   "output_path": "__notebook__.ipynb",
   "parameters": {},
   "start_time": "2021-04-15T12:15:02.150836",
   "version": "2.3.2"
  }
 },
 "nbformat": 4,
 "nbformat_minor": 5
}
